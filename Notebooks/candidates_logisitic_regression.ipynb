{
 "cells": [
  {
   "cell_type": "code",
   "execution_count": 1,
   "metadata": {},
   "outputs": [],
   "source": [
    "import pandas as pd\n",
    "import numpy as np\n",
    "import statsmodels.api as sm\n",
    "import statsmodels.formula.api as smf"
   ]
  },
  {
   "cell_type": "markdown",
   "metadata": {},
   "source": [
    "# An Analysis of Political Contributions During the 2020 House of Representatives Election, Part 2\n",
    "\n",
    "For the first part of this project, you scraped information for all House of Representatives races during 2020 and performed some exploratory analysis.\n",
    "\n",
    "Now, take the data you gathered and fit a logistic regression model to see if the amount spent has a statistically significant impact on the probability of winning an election.\n",
    "\n",
    "Feel free to brainstorm ways to set up your model, but a suggestion to get started would be to calculate, for each candidate, the percentage of to total amount spent in their race that was spent by them and use this as your predictor variable of interest. Hint: you may find the `transform` method (https://pandas.pydata.org/docs/reference/api/pandas.DataFrame.transform.html) in combination with `groupby` useful to find the total spending by race.\n",
    "\n",
    "Don't forget to include the incumbent variable in your model.\n",
    "\n",
    "After fitting your model, interpret the meaning of the coefficients you get."
   ]
  },
  {
   "cell_type": "code",
   "execution_count": 2,
   "metadata": {},
   "outputs": [],
   "source": [
    "candidates = pd.read_csv('../Data/candidates.csv')"
   ]
  },
  {
   "cell_type": "code",
   "execution_count": 4,
   "metadata": {},
   "outputs": [],
   "source": [
    "candidates = candidates.rename(columns = {'Incumbent Status': 'Incumbent', 'District Number': 'District_Number', 'Winner Status': 'Winner', 'Percentage of Vote': 'Percentage_of_Vote', 'Total Amount Spent': 'Total_Amount_Spent', 'Total Amount Raised': 'Total_Amount_Raised'})"
   ]
  },
  {
   "cell_type": "code",
   "execution_count": 5,
   "metadata": {},
   "outputs": [
    {
     "name": "stderr",
     "output_type": "stream",
     "text": [
      "C:\\Users\\jacks\\AppData\\Local\\Temp\\ipykernel_31504\\4135638721.py:2: SettingWithCopyWarning: \n",
      "A value is trying to be set on a copy of a slice from a DataFrame\n",
      "\n",
      "See the caveats in the documentation: https://pandas.pydata.org/pandas-docs/stable/user_guide/indexing.html#returning-a-view-versus-a-copy\n",
      "  candidates.Incumbent[candidates.Incumbent == 'Incumbent'] = 1\n",
      "C:\\Users\\jacks\\AppData\\Local\\Temp\\ipykernel_31504\\4135638721.py:3: SettingWithCopyWarning: \n",
      "A value is trying to be set on a copy of a slice from a DataFrame\n",
      "\n",
      "See the caveats in the documentation: https://pandas.pydata.org/pandas-docs/stable/user_guide/indexing.html#returning-a-view-versus-a-copy\n",
      "  candidates.Incumbent[candidates.Incumbent == 'N/a'] = 0\n",
      "C:\\Users\\jacks\\AppData\\Local\\Temp\\ipykernel_31504\\4135638721.py:5: SettingWithCopyWarning: \n",
      "A value is trying to be set on a copy of a slice from a DataFrame\n",
      "\n",
      "See the caveats in the documentation: https://pandas.pydata.org/pandas-docs/stable/user_guide/indexing.html#returning-a-view-versus-a-copy\n",
      "  candidates.Winner[candidates.Winner == 'Winner'] = 1\n",
      "C:\\Users\\jacks\\AppData\\Local\\Temp\\ipykernel_31504\\4135638721.py:6: SettingWithCopyWarning: \n",
      "A value is trying to be set on a copy of a slice from a DataFrame\n",
      "\n",
      "See the caveats in the documentation: https://pandas.pydata.org/pandas-docs/stable/user_guide/indexing.html#returning-a-view-versus-a-copy\n",
      "  candidates.Winner[candidates.Winner == 'N/a'] = 0\n"
     ]
    },
    {
     "data": {
      "text/html": [
       "<div>\n",
       "<style scoped>\n",
       "    .dataframe tbody tr th:only-of-type {\n",
       "        vertical-align: middle;\n",
       "    }\n",
       "\n",
       "    .dataframe tbody tr th {\n",
       "        vertical-align: top;\n",
       "    }\n",
       "\n",
       "    .dataframe thead th {\n",
       "        text-align: right;\n",
       "    }\n",
       "</style>\n",
       "<table border=\"1\" class=\"dataframe\">\n",
       "  <thead>\n",
       "    <tr style=\"text-align: right;\">\n",
       "      <th></th>\n",
       "      <th>Name</th>\n",
       "      <th>Party</th>\n",
       "      <th>State</th>\n",
       "      <th>District_Number</th>\n",
       "      <th>Incumbent</th>\n",
       "      <th>Winner</th>\n",
       "      <th>Percentage_of_Vote</th>\n",
       "      <th>Total_Amount_Raised</th>\n",
       "      <th>Total_Amount_Spent</th>\n",
       "    </tr>\n",
       "  </thead>\n",
       "  <tbody>\n",
       "    <tr>\n",
       "      <th>0</th>\n",
       "      <td>Jerry Carl</td>\n",
       "      <td>(R)</td>\n",
       "      <td>Alabama</td>\n",
       "      <td>District 01</td>\n",
       "      <td>0</td>\n",
       "      <td>1</td>\n",
       "      <td>64.9</td>\n",
       "      <td>1971321</td>\n",
       "      <td>1859349</td>\n",
       "    </tr>\n",
       "    <tr>\n",
       "      <th>1</th>\n",
       "      <td>James Averhart</td>\n",
       "      <td>(D)</td>\n",
       "      <td>Alabama</td>\n",
       "      <td>District 01</td>\n",
       "      <td>0</td>\n",
       "      <td>0</td>\n",
       "      <td>35.0</td>\n",
       "      <td>80095</td>\n",
       "      <td>78973</td>\n",
       "    </tr>\n",
       "    <tr>\n",
       "      <th>2</th>\n",
       "      <td>Barry Moore</td>\n",
       "      <td>(R)</td>\n",
       "      <td>Alabama</td>\n",
       "      <td>District 02</td>\n",
       "      <td>0</td>\n",
       "      <td>1</td>\n",
       "      <td>65.3</td>\n",
       "      <td>650807</td>\n",
       "      <td>669368</td>\n",
       "    </tr>\n",
       "    <tr>\n",
       "      <th>3</th>\n",
       "      <td>Phyllis Harvey-Hall</td>\n",
       "      <td>(D)</td>\n",
       "      <td>Alabama</td>\n",
       "      <td>District 02</td>\n",
       "      <td>0</td>\n",
       "      <td>0</td>\n",
       "      <td>34.6</td>\n",
       "      <td>56050</td>\n",
       "      <td>55988</td>\n",
       "    </tr>\n",
       "    <tr>\n",
       "      <th>4</th>\n",
       "      <td>Mike D Rogers</td>\n",
       "      <td>(R)</td>\n",
       "      <td>Alabama</td>\n",
       "      <td>District 03</td>\n",
       "      <td>1</td>\n",
       "      <td>1</td>\n",
       "      <td>67.5</td>\n",
       "      <td>1193111</td>\n",
       "      <td>1218564</td>\n",
       "    </tr>\n",
       "  </tbody>\n",
       "</table>\n",
       "</div>"
      ],
      "text/plain": [
       "                   Name Party    State District_Number  Incumbent Winner  \\\n",
       "0           Jerry Carl    (R)  Alabama     District 01          0      1   \n",
       "1       James Averhart    (D)  Alabama     District 01          0      0   \n",
       "2          Barry Moore    (R)  Alabama     District 02          0      1   \n",
       "3  Phyllis Harvey-Hall    (D)  Alabama     District 02          0      0   \n",
       "4        Mike D Rogers    (R)  Alabama     District 03          1      1   \n",
       "\n",
       "   Percentage_of_Vote  Total_Amount_Raised  Total_Amount_Spent  \n",
       "0                64.9              1971321             1859349  \n",
       "1                35.0                80095               78973  \n",
       "2                65.3               650807              669368  \n",
       "3                34.6                56050               55988  \n",
       "4                67.5              1193111             1218564  "
      ]
     },
     "execution_count": 5,
     "metadata": {},
     "output_type": "execute_result"
    }
   ],
   "source": [
    "#First add binary markers for each of the categorical variables \n",
    "candidates.Incumbent[candidates.Incumbent == 'Incumbent'] = 1\n",
    "candidates.Incumbent[candidates.Incumbent == 'N/a'] = 0\n",
    "candidates[\"Incumbent\"] = pd.to_numeric(candidates[\"Incumbent\"])\n",
    "candidates.Winner[candidates.Winner == 'Winner'] = 1\n",
    "candidates.Winner[candidates.Winner == 'N/a'] = 0\n",
    "candidates.head()"
   ]
  },
  {
   "cell_type": "code",
   "execution_count": 6,
   "metadata": {},
   "outputs": [],
   "source": [
    "candidates['% Spent vs Raised'] = candidates['Total_Amount_Spent'] / candidates['Total_Amount_Raised']"
   ]
  }
 ],
 "metadata": {
  "kernelspec": {
   "display_name": "Python 3.9.12 ('base')",
   "language": "python",
   "name": "python3"
  },
  "language_info": {
   "codemirror_mode": {
    "name": "ipython",
    "version": 3
   },
   "file_extension": ".py",
   "mimetype": "text/x-python",
   "name": "python",
   "nbconvert_exporter": "python",
   "pygments_lexer": "ipython3",
   "version": "3.9.12"
  },
  "orig_nbformat": 4,
  "vscode": {
   "interpreter": {
    "hash": "08210294964727e4010dccc398c44f22b92a2e77e2aceea574ad21eae77cd8e8"
   }
  }
 },
 "nbformat": 4,
 "nbformat_minor": 2
}
