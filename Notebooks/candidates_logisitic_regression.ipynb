{
 "cells": [
  {
   "cell_type": "code",
   "execution_count": 1,
   "metadata": {},
   "outputs": [],
   "source": [
    "import pandas as pd\n",
    "import numpy as np\n",
    "import statsmodels.api as sm\n",
    "import statsmodels.formula.api as smf"
   ]
  },
  {
   "cell_type": "markdown",
   "metadata": {},
   "source": [
    "# An Analysis of Political Contributions During the 2020 House of Representatives Election, Part 2\n",
    "\n",
    "For the first part of this project, you scraped information for all House of Representatives races during 2020 and performed some exploratory analysis.\n",
    "\n",
    "Now, take the data you gathered and fit a logistic regression model to see if the amount spent has a statistically significant impact on the probability of winning an election.\n",
    "\n",
    "Feel free to brainstorm ways to set up your model, but a suggestion to get started would be to calculate, for each candidate, the percentage of to total amount spent in their race that was spent by them and use this as your predictor variable of interest. Hint: you may find the `transform` method (https://pandas.pydata.org/docs/reference/api/pandas.DataFrame.transform.html) in combination with `groupby` useful to find the total spending by race.\n",
    "\n",
    "Don't forget to include the incumbent variable in your model.\n",
    "\n",
    "After fitting your model, interpret the meaning of the coefficients you get."
   ]
  },
  {
   "cell_type": "code",
   "execution_count": 2,
   "metadata": {},
   "outputs": [],
   "source": [
    "candidates = pd.read_csv('../Data/candidates.csv')"
   ]
  },
  {
   "cell_type": "code",
   "execution_count": 3,
   "metadata": {},
   "outputs": [
    {
     "data": {
      "text/html": [
       "<div>\n",
       "<style scoped>\n",
       "    .dataframe tbody tr th:only-of-type {\n",
       "        vertical-align: middle;\n",
       "    }\n",
       "\n",
       "    .dataframe tbody tr th {\n",
       "        vertical-align: top;\n",
       "    }\n",
       "\n",
       "    .dataframe thead th {\n",
       "        text-align: right;\n",
       "    }\n",
       "</style>\n",
       "<table border=\"1\" class=\"dataframe\">\n",
       "  <thead>\n",
       "    <tr style=\"text-align: right;\">\n",
       "      <th></th>\n",
       "      <th>Name</th>\n",
       "      <th>Party</th>\n",
       "      <th>State</th>\n",
       "      <th>District_Number</th>\n",
       "      <th>Incumbent</th>\n",
       "      <th>Winner</th>\n",
       "      <th>Percentage_of_Vote</th>\n",
       "      <th>Total_Amount_Raised</th>\n",
       "      <th>Total_Amount_Spent</th>\n",
       "    </tr>\n",
       "  </thead>\n",
       "  <tbody>\n",
       "    <tr>\n",
       "      <th>0</th>\n",
       "      <td>Jerry Carl</td>\n",
       "      <td>(R)</td>\n",
       "      <td>Alabama</td>\n",
       "      <td>District 01</td>\n",
       "      <td>N/a</td>\n",
       "      <td>Winner</td>\n",
       "      <td>64.9</td>\n",
       "      <td>1971321</td>\n",
       "      <td>1859349</td>\n",
       "    </tr>\n",
       "    <tr>\n",
       "      <th>1</th>\n",
       "      <td>James Averhart</td>\n",
       "      <td>(D)</td>\n",
       "      <td>Alabama</td>\n",
       "      <td>District 01</td>\n",
       "      <td>N/a</td>\n",
       "      <td>N/a</td>\n",
       "      <td>35.0</td>\n",
       "      <td>80095</td>\n",
       "      <td>78973</td>\n",
       "    </tr>\n",
       "    <tr>\n",
       "      <th>2</th>\n",
       "      <td>Barry Moore</td>\n",
       "      <td>(R)</td>\n",
       "      <td>Alabama</td>\n",
       "      <td>District 02</td>\n",
       "      <td>N/a</td>\n",
       "      <td>Winner</td>\n",
       "      <td>65.3</td>\n",
       "      <td>650807</td>\n",
       "      <td>669368</td>\n",
       "    </tr>\n",
       "    <tr>\n",
       "      <th>3</th>\n",
       "      <td>Phyllis Harvey-Hall</td>\n",
       "      <td>(D)</td>\n",
       "      <td>Alabama</td>\n",
       "      <td>District 02</td>\n",
       "      <td>N/a</td>\n",
       "      <td>N/a</td>\n",
       "      <td>34.6</td>\n",
       "      <td>56050</td>\n",
       "      <td>55988</td>\n",
       "    </tr>\n",
       "    <tr>\n",
       "      <th>4</th>\n",
       "      <td>Mike D Rogers</td>\n",
       "      <td>(R)</td>\n",
       "      <td>Alabama</td>\n",
       "      <td>District 03</td>\n",
       "      <td>Incumbent</td>\n",
       "      <td>Winner</td>\n",
       "      <td>67.5</td>\n",
       "      <td>1193111</td>\n",
       "      <td>1218564</td>\n",
       "    </tr>\n",
       "  </tbody>\n",
       "</table>\n",
       "</div>"
      ],
      "text/plain": [
       "                   Name Party    State District_Number  Incumbent  Winner  \\\n",
       "0           Jerry Carl    (R)  Alabama     District 01        N/a  Winner   \n",
       "1       James Averhart    (D)  Alabama     District 01        N/a     N/a   \n",
       "2          Barry Moore    (R)  Alabama     District 02        N/a  Winner   \n",
       "3  Phyllis Harvey-Hall    (D)  Alabama     District 02        N/a     N/a   \n",
       "4        Mike D Rogers    (R)  Alabama     District 03  Incumbent  Winner   \n",
       "\n",
       "   Percentage_of_Vote  Total_Amount_Raised  Total_Amount_Spent  \n",
       "0                64.9              1971321             1859349  \n",
       "1                35.0                80095               78973  \n",
       "2                65.3               650807              669368  \n",
       "3                34.6                56050               55988  \n",
       "4                67.5              1193111             1218564  "
      ]
     },
     "execution_count": 3,
     "metadata": {},
     "output_type": "execute_result"
    }
   ],
   "source": [
    "candidates = candidates.rename(columns = {'Incumbent Status': 'Incumbent', 'District Number': 'District_Number', 'Winner Status': 'Winner', 'Percentage of Vote': 'Percentage_of_Vote', 'Total Amount Spent': 'Total_Amount_Spent', 'Total Amount Raised': 'Total_Amount_Raised'})\n",
    "candidates.head()"
   ]
  },
  {
   "cell_type": "code",
   "execution_count": 4,
   "metadata": {},
   "outputs": [
    {
     "data": {
      "text/html": [
       "<div>\n",
       "<style scoped>\n",
       "    .dataframe tbody tr th:only-of-type {\n",
       "        vertical-align: middle;\n",
       "    }\n",
       "\n",
       "    .dataframe tbody tr th {\n",
       "        vertical-align: top;\n",
       "    }\n",
       "\n",
       "    .dataframe thead th {\n",
       "        text-align: right;\n",
       "    }\n",
       "</style>\n",
       "<table border=\"1\" class=\"dataframe\">\n",
       "  <thead>\n",
       "    <tr style=\"text-align: right;\">\n",
       "      <th></th>\n",
       "      <th>Name</th>\n",
       "      <th>Party</th>\n",
       "      <th>State</th>\n",
       "      <th>District_Number</th>\n",
       "      <th>Incumbent</th>\n",
       "      <th>Winner</th>\n",
       "      <th>Percentage_of_Vote</th>\n",
       "      <th>Total_Amount_Raised</th>\n",
       "      <th>Total_Amount_Spent</th>\n",
       "    </tr>\n",
       "  </thead>\n",
       "  <tbody>\n",
       "    <tr>\n",
       "      <th>0</th>\n",
       "      <td>Jerry Carl</td>\n",
       "      <td>(R)</td>\n",
       "      <td>Alabama</td>\n",
       "      <td>District 01</td>\n",
       "      <td>0</td>\n",
       "      <td>1</td>\n",
       "      <td>64.9</td>\n",
       "      <td>1971321</td>\n",
       "      <td>1859349</td>\n",
       "    </tr>\n",
       "    <tr>\n",
       "      <th>1</th>\n",
       "      <td>James Averhart</td>\n",
       "      <td>(D)</td>\n",
       "      <td>Alabama</td>\n",
       "      <td>District 01</td>\n",
       "      <td>0</td>\n",
       "      <td>0</td>\n",
       "      <td>35.0</td>\n",
       "      <td>80095</td>\n",
       "      <td>78973</td>\n",
       "    </tr>\n",
       "    <tr>\n",
       "      <th>2</th>\n",
       "      <td>Barry Moore</td>\n",
       "      <td>(R)</td>\n",
       "      <td>Alabama</td>\n",
       "      <td>District 02</td>\n",
       "      <td>0</td>\n",
       "      <td>1</td>\n",
       "      <td>65.3</td>\n",
       "      <td>650807</td>\n",
       "      <td>669368</td>\n",
       "    </tr>\n",
       "    <tr>\n",
       "      <th>3</th>\n",
       "      <td>Phyllis Harvey-Hall</td>\n",
       "      <td>(D)</td>\n",
       "      <td>Alabama</td>\n",
       "      <td>District 02</td>\n",
       "      <td>0</td>\n",
       "      <td>0</td>\n",
       "      <td>34.6</td>\n",
       "      <td>56050</td>\n",
       "      <td>55988</td>\n",
       "    </tr>\n",
       "    <tr>\n",
       "      <th>4</th>\n",
       "      <td>Mike D Rogers</td>\n",
       "      <td>(R)</td>\n",
       "      <td>Alabama</td>\n",
       "      <td>District 03</td>\n",
       "      <td>1</td>\n",
       "      <td>1</td>\n",
       "      <td>67.5</td>\n",
       "      <td>1193111</td>\n",
       "      <td>1218564</td>\n",
       "    </tr>\n",
       "  </tbody>\n",
       "</table>\n",
       "</div>"
      ],
      "text/plain": [
       "                   Name Party    State District_Number  Incumbent  Winner  \\\n",
       "0           Jerry Carl    (R)  Alabama     District 01          0       1   \n",
       "1       James Averhart    (D)  Alabama     District 01          0       0   \n",
       "2          Barry Moore    (R)  Alabama     District 02          0       1   \n",
       "3  Phyllis Harvey-Hall    (D)  Alabama     District 02          0       0   \n",
       "4        Mike D Rogers    (R)  Alabama     District 03          1       1   \n",
       "\n",
       "   Percentage_of_Vote  Total_Amount_Raised  Total_Amount_Spent  \n",
       "0                64.9              1971321             1859349  \n",
       "1                35.0                80095               78973  \n",
       "2                65.3               650807              669368  \n",
       "3                34.6                56050               55988  \n",
       "4                67.5              1193111             1218564  "
      ]
     },
     "execution_count": 4,
     "metadata": {},
     "output_type": "execute_result"
    }
   ],
   "source": [
    "#First add binary markers for each of the categorical variables \n",
    "candidates['Incumbent'] = (candidates['Incumbent'] == 'Incumbent').astype(int)\n",
    "candidates['Winner'] = (candidates['Winner'] == 'Winner').astype(int)\n",
    "\n",
    "candidates.head()"
   ]
  },
  {
   "cell_type": "code",
   "execution_count": 5,
   "metadata": {},
   "outputs": [
    {
     "name": "stdout",
     "output_type": "stream",
     "text": [
      "Optimization terminated successfully.\n",
      "         Current function value: 0.650902\n",
      "         Iterations 6\n"
     ]
    },
    {
     "data": {
      "text/html": [
       "<table class=\"simpletable\">\n",
       "<caption>Logit Regression Results</caption>\n",
       "<tr>\n",
       "  <th>Dep. Variable:</th>        <td>Winner</td>      <th>  No. Observations:  </th>  <td>   895</td>  \n",
       "</tr>\n",
       "<tr>\n",
       "  <th>Model:</th>                 <td>Logit</td>      <th>  Df Residuals:      </th>  <td>   893</td>  \n",
       "</tr>\n",
       "<tr>\n",
       "  <th>Method:</th>                 <td>MLE</td>       <th>  Df Model:          </th>  <td>     1</td>  \n",
       "</tr>\n",
       "<tr>\n",
       "  <th>Date:</th>            <td>Mon, 17 Oct 2022</td> <th>  Pseudo R-squ.:     </th>  <td>0.06013</td> \n",
       "</tr>\n",
       "<tr>\n",
       "  <th>Time:</th>                <td>10:32:32</td>     <th>  Log-Likelihood:    </th> <td> -582.56</td> \n",
       "</tr>\n",
       "<tr>\n",
       "  <th>converged:</th>             <td>True</td>       <th>  LL-Null:           </th> <td> -619.83</td> \n",
       "</tr>\n",
       "<tr>\n",
       "  <th>Covariance Type:</th>     <td>nonrobust</td>    <th>  LLR p-value:       </th> <td>5.927e-18</td>\n",
       "</tr>\n",
       "</table>\n",
       "<table class=\"simpletable\">\n",
       "<tr>\n",
       "           <td></td>             <th>coef</th>     <th>std err</th>      <th>z</th>      <th>P>|z|</th>  <th>[0.025</th>    <th>0.975]</th>  \n",
       "</tr>\n",
       "<tr>\n",
       "  <th>Intercept</th>          <td>   -0.5507</td> <td>    0.091</td> <td>   -6.035</td> <td> 0.000</td> <td>   -0.730</td> <td>   -0.372</td>\n",
       "</tr>\n",
       "<tr>\n",
       "  <th>Total_Amount_Spent</th> <td> 3.184e-07</td> <td> 4.38e-08</td> <td>    7.265</td> <td> 0.000</td> <td> 2.32e-07</td> <td> 4.04e-07</td>\n",
       "</tr>\n",
       "</table>"
      ],
      "text/plain": [
       "<class 'statsmodels.iolib.summary.Summary'>\n",
       "\"\"\"\n",
       "                           Logit Regression Results                           \n",
       "==============================================================================\n",
       "Dep. Variable:                 Winner   No. Observations:                  895\n",
       "Model:                          Logit   Df Residuals:                      893\n",
       "Method:                           MLE   Df Model:                            1\n",
       "Date:                Mon, 17 Oct 2022   Pseudo R-squ.:                 0.06013\n",
       "Time:                        10:32:32   Log-Likelihood:                -582.56\n",
       "converged:                       True   LL-Null:                       -619.83\n",
       "Covariance Type:            nonrobust   LLR p-value:                 5.927e-18\n",
       "======================================================================================\n",
       "                         coef    std err          z      P>|z|      [0.025      0.975]\n",
       "--------------------------------------------------------------------------------------\n",
       "Intercept             -0.5507      0.091     -6.035      0.000      -0.730      -0.372\n",
       "Total_Amount_Spent  3.184e-07   4.38e-08      7.265      0.000    2.32e-07    4.04e-07\n",
       "======================================================================================\n",
       "\"\"\""
      ]
     },
     "execution_count": 5,
     "metadata": {},
     "output_type": "execute_result"
    }
   ],
   "source": [
    "amount_spent_logreg = smf.logit(\"Winner ~ Total_Amount_Spent\",\n",
    "                          data = candidates).fit()\n",
    "amount_spent_logreg.summary()"
   ]
  },
  {
   "cell_type": "code",
   "execution_count": 13,
   "metadata": {},
   "outputs": [
    {
     "data": {
      "image/png": "[encoded data removed]",
      "text/plain": [
       "<Figure size 720x432 with 1 Axes>"
      ]
     },
     "metadata": {
      "needs_background": "light"
     },
     "output_type": "display_data"
    }
   ],
   "source": [
    "fit_df = pd.DataFrame({\n",
    "    'Total_Amount_Spent': np.linspace(start = candidates['Total_Amount_Spent'].min(),\n",
    "                            stop = candidates['Total_Amount_Spent'].max(),\n",
    "                            num = 150)\n",
    "})\n",
    "\n",
    "fit_df['fit'] = amount_spent_logreg.predict(fit_df)\n",
    "\n",
    "fit_df.plot(x = 'Total_Amount_Spent',\n",
    "             y = 'fit',\n",
    "             legend = False,\n",
    "             figsize = (10,6),\n",
    "             color = 'black',\n",
    "            title = 'Estimated Probability of a Election Win given Total Amount of $ Spent');"
   ]
  },
  {
   "cell_type": "code",
   "execution_count": 21,
   "metadata": {},
   "outputs": [
    {
     "name": "stderr",
     "output_type": "stream",
     "text": [
      "C:\\Users\\jacks\\AppData\\Local\\Temp\\ipykernel_34272\\4250811976.py:2: FutureWarning: Indexing with multiple keys (implicitly converted to a tuple of keys) will be deprecated, use a list instead.\n",
      "  candidates\n"
     ]
    },
    {
     "data": {
      "text/html": [
       "<div>\n",
       "<style scoped>\n",
       "    .dataframe tbody tr th:only-of-type {\n",
       "        vertical-align: middle;\n",
       "    }\n",
       "\n",
       "    .dataframe tbody tr th {\n",
       "        vertical-align: top;\n",
       "    }\n",
       "\n",
       "    .dataframe thead th {\n",
       "        text-align: right;\n",
       "    }\n",
       "</style>\n",
       "<table border=\"1\" class=\"dataframe\">\n",
       "  <thead>\n",
       "    <tr style=\"text-align: right;\">\n",
       "      <th></th>\n",
       "      <th>group</th>\n",
       "      <th>eprob</th>\n",
       "      <th>Total_Amount_Spent</th>\n",
       "    </tr>\n",
       "  </thead>\n",
       "  <tbody>\n",
       "    <tr>\n",
       "      <th>0</th>\n",
       "      <td>(-4965.001, 2139.64]</td>\n",
       "      <td>0.0</td>\n",
       "      <td>531.777778</td>\n",
       "    </tr>\n",
       "    <tr>\n",
       "      <th>1</th>\n",
       "      <td>(2139.64, 10295.28]</td>\n",
       "      <td>0.0</td>\n",
       "      <td>6111.694444</td>\n",
       "    </tr>\n",
       "    <tr>\n",
       "      <th>2</th>\n",
       "      <td>(10295.28, 21898.2]</td>\n",
       "      <td>0.0</td>\n",
       "      <td>15372.833333</td>\n",
       "    </tr>\n",
       "    <tr>\n",
       "      <th>3</th>\n",
       "      <td>(21898.2, 37450.0]</td>\n",
       "      <td>0.0</td>\n",
       "      <td>29027.000000</td>\n",
       "    </tr>\n",
       "    <tr>\n",
       "      <th>4</th>\n",
       "      <td>(37450.0, 61984.4]</td>\n",
       "      <td>0.0</td>\n",
       "      <td>48779.171429</td>\n",
       "    </tr>\n",
       "  </tbody>\n",
       "</table>\n",
       "</div>"
      ],
      "text/plain": [
       "                  group  eprob  Total_Amount_Spent\n",
       "0  (-4965.001, 2139.64]    0.0          531.777778\n",
       "1   (2139.64, 10295.28]    0.0         6111.694444\n",
       "2   (10295.28, 21898.2]    0.0        15372.833333\n",
       "3    (21898.2, 37450.0]    0.0        29027.000000\n",
       "4    (37450.0, 61984.4]    0.0        48779.171429"
      ]
     },
     "execution_count": 21,
     "metadata": {},
     "output_type": "execute_result"
    }
   ],
   "source": [
    "amt_spent_summary = (\n",
    "    candidates\n",
    "    .assign(group = pd.qcut(candidates['Total_Amount_Spent'], \n",
    "                            q = 25, \n",
    "                            duplicates = 'drop'))\n",
    "    .groupby('group')\n",
    "    ['Winner', 'Total_Amount_Spent']\n",
    "    .mean()\n",
    "    .reset_index()\n",
    "    .rename(columns = {'Winner': 'eprob'})\n",
    ")\n",
    "amt_spent_summary.head()"
   ]
  },
  {
   "cell_type": "code",
   "execution_count": 19,
   "metadata": {},
   "outputs": [],
   "source": [
    "amt_spent_summary['fit_prob'] = amount_spent_logreg.predict(amt_spent_summary[['Total_Amount_Spent']])"
   ]
  },
  {
   "cell_type": "code",
   "execution_count": 20,
   "metadata": {},
   "outputs": [
    {
     "data": {
      "image/png": "[encoded data removed]",
      "text/plain": [
       "<Figure size 432x288 with 1 Axes>"
      ]
     },
     "metadata": {
      "needs_background": "light"
     },
     "output_type": "display_data"
    }
   ],
   "source": [
    "ax = amt_spent_summary.plot(x = 'Total_Amount_Spent', y = 'eprob')\n",
    "amt_spent_summary.plot(x = 'Total_Amount_Spent', y = 'fit_prob',\n",
    "                color = 'black',\n",
    "                ax = ax);"
   ]
  }
 ],
 "metadata": {
  "kernelspec": {
   "display_name": "Python 3.9.12 ('base')",
   "language": "python",
   "name": "python3"
  },
  "language_info": {
   "codemirror_mode": {
    "name": "ipython",
    "version": 3
   },
   "file_extension": ".py",
   "mimetype": "text/x-python",
   "name": "python",
   "nbconvert_exporter": "python",
   "pygments_lexer": "ipython3",
   "version": "3.9.12"
  },
  "orig_nbformat": 4,
  "vscode": {
   "interpreter": {
    "hash": "08210294964727e4010dccc398c44f22b92a2e77e2aceea574ad21eae77cd8e8"
   }
  }
 },
 "nbformat": 4,
 "nbformat_minor": 2
}
