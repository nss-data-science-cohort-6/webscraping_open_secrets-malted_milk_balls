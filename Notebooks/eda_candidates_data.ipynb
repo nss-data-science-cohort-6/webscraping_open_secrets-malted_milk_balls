{
 "cells": [
  {
   "cell_type": "markdown",
   "id": "14c1fcfd",
   "metadata": {},
   "source": [
    "4. Using your scraped data, investigates different relationships between candidates and the amount of money they raised. Here are some suggestions to get you started, but feel free to pose you own questions or do additional exploration:"
   ]
  },
  {
   "cell_type": "code",
   "execution_count": 124,
   "id": "7195329d",
   "metadata": {},
   "outputs": [],
   "source": [
    "import pandas as pd\n",
    "import numpy as np \n",
    "import re\n",
    "import matplotlib.pyplot as plt"
   ]
  },
  {
   "cell_type": "code",
   "execution_count": 125,
   "id": "35163b1d",
   "metadata": {},
   "outputs": [],
   "source": [
    "candidates = pd.read_csv('../webscraping_open_secrets-malted_milk_balls/candidates.csv')"
   ]
  },
  {
   "cell_type": "code",
   "execution_count": 126,
   "id": "d0e20d19",
   "metadata": {},
   "outputs": [
    {
     "data": {
      "text/html": [
       "<div>\n",
       "<style scoped>\n",
       "    .dataframe tbody tr th:only-of-type {\n",
       "        vertical-align: middle;\n",
       "    }\n",
       "\n",
       "    .dataframe tbody tr th {\n",
       "        vertical-align: top;\n",
       "    }\n",
       "\n",
       "    .dataframe thead th {\n",
       "        text-align: right;\n",
       "    }\n",
       "</style>\n",
       "<table border=\"1\" class=\"dataframe\">\n",
       "  <thead>\n",
       "    <tr style=\"text-align: right;\">\n",
       "      <th></th>\n",
       "      <th>Unnamed: 0</th>\n",
       "      <th>Name</th>\n",
       "      <th>Party</th>\n",
       "      <th>State</th>\n",
       "      <th>District Number</th>\n",
       "      <th>Incumbent Status</th>\n",
       "      <th>Winner Status</th>\n",
       "      <th>Percentage of Vote</th>\n",
       "      <th>Total Amount Raised</th>\n",
       "      <th>Total Amount Spent</th>\n",
       "      <th>State-District</th>\n",
       "    </tr>\n",
       "  </thead>\n",
       "  <tbody>\n",
       "    <tr>\n",
       "      <th>0</th>\n",
       "      <td>0</td>\n",
       "      <td>Jerry Carl</td>\n",
       "      <td>(R)</td>\n",
       "      <td>Alabama</td>\n",
       "      <td>District 01</td>\n",
       "      <td>N/a</td>\n",
       "      <td>Winner</td>\n",
       "      <td>64.9</td>\n",
       "      <td>1971321</td>\n",
       "      <td>1859349</td>\n",
       "      <td>Alabama District 01</td>\n",
       "    </tr>\n",
       "    <tr>\n",
       "      <th>1</th>\n",
       "      <td>1</td>\n",
       "      <td>James Averhart</td>\n",
       "      <td>(D)</td>\n",
       "      <td>Alabama</td>\n",
       "      <td>District 01</td>\n",
       "      <td>N/a</td>\n",
       "      <td>N/a</td>\n",
       "      <td>35.0</td>\n",
       "      <td>80095</td>\n",
       "      <td>78973</td>\n",
       "      <td>Alabama District 01</td>\n",
       "    </tr>\n",
       "    <tr>\n",
       "      <th>2</th>\n",
       "      <td>2</td>\n",
       "      <td>Barry Moore</td>\n",
       "      <td>(R)</td>\n",
       "      <td>Alabama</td>\n",
       "      <td>District 02</td>\n",
       "      <td>N/a</td>\n",
       "      <td>Winner</td>\n",
       "      <td>65.3</td>\n",
       "      <td>650807</td>\n",
       "      <td>669368</td>\n",
       "      <td>Alabama District 02</td>\n",
       "    </tr>\n",
       "    <tr>\n",
       "      <th>3</th>\n",
       "      <td>3</td>\n",
       "      <td>Phyllis Harvey-Hall</td>\n",
       "      <td>(D)</td>\n",
       "      <td>Alabama</td>\n",
       "      <td>District 02</td>\n",
       "      <td>N/a</td>\n",
       "      <td>N/a</td>\n",
       "      <td>34.6</td>\n",
       "      <td>56050</td>\n",
       "      <td>55988</td>\n",
       "      <td>Alabama District 02</td>\n",
       "    </tr>\n",
       "    <tr>\n",
       "      <th>4</th>\n",
       "      <td>4</td>\n",
       "      <td>Mike D Rogers</td>\n",
       "      <td>(R)</td>\n",
       "      <td>Alabama</td>\n",
       "      <td>District 03</td>\n",
       "      <td>Incumbent</td>\n",
       "      <td>Winner</td>\n",
       "      <td>67.5</td>\n",
       "      <td>1193111</td>\n",
       "      <td>1218564</td>\n",
       "      <td>Alabama District 03</td>\n",
       "    </tr>\n",
       "  </tbody>\n",
       "</table>\n",
       "</div>"
      ],
      "text/plain": [
       "   Unnamed: 0                  Name Party    State District Number  \\\n",
       "0           0           Jerry Carl    (R)  Alabama     District 01   \n",
       "1           1       James Averhart    (D)  Alabama     District 01   \n",
       "2           2          Barry Moore    (R)  Alabama     District 02   \n",
       "3           3  Phyllis Harvey-Hall    (D)  Alabama     District 02   \n",
       "4           4        Mike D Rogers    (R)  Alabama     District 03   \n",
       "\n",
       "  Incumbent Status Winner Status  Percentage of Vote  Total Amount Raised  \\\n",
       "0              N/a        Winner                64.9              1971321   \n",
       "1              N/a           N/a                35.0                80095   \n",
       "2              N/a        Winner                65.3               650807   \n",
       "3              N/a           N/a                34.6                56050   \n",
       "4        Incumbent        Winner                67.5              1193111   \n",
       "\n",
       "   Total Amount Spent       State-District  \n",
       "0             1859349  Alabama District 01  \n",
       "1               78973  Alabama District 01  \n",
       "2              669368  Alabama District 02  \n",
       "3               55988  Alabama District 02  \n",
       "4             1218564  Alabama District 03  "
      ]
     },
     "execution_count": 126,
     "metadata": {},
     "output_type": "execute_result"
    }
   ],
   "source": [
    "candidates['State-District'] = candidates['State'] + \" \" + candidates['District Number']\n",
    "candidates.head()"
   ]
  },
  {
   "cell_type": "code",
   "execution_count": 12,
   "id": "b3dbcb59",
   "metadata": {
    "scrolled": true
   },
   "outputs": [
    {
     "data": {
      "text/html": [
       "<div>\n",
       "<style scoped>\n",
       "    .dataframe tbody tr th:only-of-type {\n",
       "        vertical-align: middle;\n",
       "    }\n",
       "\n",
       "    .dataframe tbody tr th {\n",
       "        vertical-align: top;\n",
       "    }\n",
       "\n",
       "    .dataframe thead th {\n",
       "        text-align: right;\n",
       "    }\n",
       "</style>\n",
       "<table border=\"1\" class=\"dataframe\">\n",
       "  <thead>\n",
       "    <tr style=\"text-align: right;\">\n",
       "      <th></th>\n",
       "      <th>State-District</th>\n",
       "      <th>Winner Status</th>\n",
       "      <th>Total Amount Raised</th>\n",
       "    </tr>\n",
       "  </thead>\n",
       "  <tbody>\n",
       "    <tr>\n",
       "      <th>0</th>\n",
       "      <td>Alabama District 01</td>\n",
       "      <td>Winner</td>\n",
       "      <td>1971321</td>\n",
       "    </tr>\n",
       "    <tr>\n",
       "      <th>1</th>\n",
       "      <td>Alabama District 01</td>\n",
       "      <td>N/a</td>\n",
       "      <td>80095</td>\n",
       "    </tr>\n",
       "    <tr>\n",
       "      <th>2</th>\n",
       "      <td>Alabama District 02</td>\n",
       "      <td>Winner</td>\n",
       "      <td>650807</td>\n",
       "    </tr>\n",
       "    <tr>\n",
       "      <th>3</th>\n",
       "      <td>Alabama District 02</td>\n",
       "      <td>N/a</td>\n",
       "      <td>56050</td>\n",
       "    </tr>\n",
       "    <tr>\n",
       "      <th>4</th>\n",
       "      <td>Alabama District 03</td>\n",
       "      <td>Winner</td>\n",
       "      <td>1193111</td>\n",
       "    </tr>\n",
       "    <tr>\n",
       "      <th>...</th>\n",
       "      <td>...</td>\n",
       "      <td>...</td>\n",
       "      <td>...</td>\n",
       "    </tr>\n",
       "    <tr>\n",
       "      <th>887</th>\n",
       "      <td>Wisconsin District 07</td>\n",
       "      <td>N/a</td>\n",
       "      <td>1261957</td>\n",
       "    </tr>\n",
       "    <tr>\n",
       "      <th>888</th>\n",
       "      <td>Wisconsin District 08</td>\n",
       "      <td>Winner</td>\n",
       "      <td>3202905</td>\n",
       "    </tr>\n",
       "    <tr>\n",
       "      <th>889</th>\n",
       "      <td>Wisconsin District 08</td>\n",
       "      <td>N/a</td>\n",
       "      <td>416978</td>\n",
       "    </tr>\n",
       "    <tr>\n",
       "      <th>890</th>\n",
       "      <td>Wyoming District 01</td>\n",
       "      <td>Winner</td>\n",
       "      <td>3003883</td>\n",
       "    </tr>\n",
       "    <tr>\n",
       "      <th>891</th>\n",
       "      <td>Wyoming District 01</td>\n",
       "      <td>N/a</td>\n",
       "      <td>134597</td>\n",
       "    </tr>\n",
       "  </tbody>\n",
       "</table>\n",
       "<p>892 rows × 3 columns</p>\n",
       "</div>"
      ],
      "text/plain": [
       "            State-District Winner Status  Total Amount Raised\n",
       "0      Alabama District 01        Winner              1971321\n",
       "1      Alabama District 01           N/a                80095\n",
       "2      Alabama District 02        Winner               650807\n",
       "3      Alabama District 02           N/a                56050\n",
       "4      Alabama District 03        Winner              1193111\n",
       "..                     ...           ...                  ...\n",
       "887  Wisconsin District 07           N/a              1261957\n",
       "888  Wisconsin District 08        Winner              3202905\n",
       "889  Wisconsin District 08           N/a               416978\n",
       "890    Wyoming District 01        Winner              3003883\n",
       "891    Wyoming District 01           N/a               134597\n",
       "\n",
       "[892 rows x 3 columns]"
      ]
     },
     "execution_count": 12,
     "metadata": {},
     "output_type": "execute_result"
    }
   ],
   "source": [
    "question_1 = candidates[['State-District', 'Winner Status', 'Total Amount Raised']]\n",
    "question_1"
   ]
  },
  {
   "cell_type": "markdown",
   "id": "3dfa0f47",
   "metadata": {},
   "source": [
    "a. How often does the candidate who raised more money win a race?"
   ]
  },
  {
   "cell_type": "code",
   "execution_count": 15,
   "id": "e74dd6d5",
   "metadata": {},
   "outputs": [
    {
     "data": {
      "text/html": [
       "<div>\n",
       "<style scoped>\n",
       "    .dataframe tbody tr th:only-of-type {\n",
       "        vertical-align: middle;\n",
       "    }\n",
       "\n",
       "    .dataframe tbody tr th {\n",
       "        vertical-align: top;\n",
       "    }\n",
       "\n",
       "    .dataframe thead th {\n",
       "        text-align: right;\n",
       "    }\n",
       "</style>\n",
       "<table border=\"1\" class=\"dataframe\">\n",
       "  <thead>\n",
       "    <tr style=\"text-align: right;\">\n",
       "      <th>Winner Status</th>\n",
       "      <th>N/a</th>\n",
       "      <th>Winner</th>\n",
       "    </tr>\n",
       "    <tr>\n",
       "      <th>State-District</th>\n",
       "      <th></th>\n",
       "      <th></th>\n",
       "    </tr>\n",
       "  </thead>\n",
       "  <tbody>\n",
       "    <tr>\n",
       "      <th>Alabama District 01</th>\n",
       "      <td>80095.0</td>\n",
       "      <td>1971321.0</td>\n",
       "    </tr>\n",
       "    <tr>\n",
       "      <th>Alabama District 02</th>\n",
       "      <td>56050.0</td>\n",
       "      <td>650807.0</td>\n",
       "    </tr>\n",
       "    <tr>\n",
       "      <th>Alabama District 03</th>\n",
       "      <td>50273.0</td>\n",
       "      <td>1193111.0</td>\n",
       "    </tr>\n",
       "    <tr>\n",
       "      <th>Alaska District 01</th>\n",
       "      <td>5178452.0</td>\n",
       "      <td>1922901.0</td>\n",
       "    </tr>\n",
       "    <tr>\n",
       "      <th>Arizona District 01</th>\n",
       "      <td>1675618.0</td>\n",
       "      <td>3381353.0</td>\n",
       "    </tr>\n",
       "    <tr>\n",
       "      <th>...</th>\n",
       "      <td>...</td>\n",
       "      <td>...</td>\n",
       "    </tr>\n",
       "    <tr>\n",
       "      <th>Wisconsin District 05</th>\n",
       "      <td>370392.0</td>\n",
       "      <td>1155721.0</td>\n",
       "    </tr>\n",
       "    <tr>\n",
       "      <th>Wisconsin District 06</th>\n",
       "      <td>287753.0</td>\n",
       "      <td>1815756.0</td>\n",
       "    </tr>\n",
       "    <tr>\n",
       "      <th>Wisconsin District 07</th>\n",
       "      <td>1261957.0</td>\n",
       "      <td>2637459.0</td>\n",
       "    </tr>\n",
       "    <tr>\n",
       "      <th>Wisconsin District 08</th>\n",
       "      <td>416978.0</td>\n",
       "      <td>3202905.0</td>\n",
       "    </tr>\n",
       "    <tr>\n",
       "      <th>Wyoming District 01</th>\n",
       "      <td>134597.0</td>\n",
       "      <td>3003883.0</td>\n",
       "    </tr>\n",
       "  </tbody>\n",
       "</table>\n",
       "<p>371 rows × 2 columns</p>\n",
       "</div>"
      ],
      "text/plain": [
       "Winner Status                N/a     Winner\n",
       "State-District                             \n",
       "Alabama District 01      80095.0  1971321.0\n",
       "Alabama District 02      56050.0   650807.0\n",
       "Alabama District 03      50273.0  1193111.0\n",
       "Alaska District 01     5178452.0  1922901.0\n",
       "Arizona District 01    1675618.0  3381353.0\n",
       "...                          ...        ...\n",
       "Wisconsin District 05   370392.0  1155721.0\n",
       "Wisconsin District 06   287753.0  1815756.0\n",
       "Wisconsin District 07  1261957.0  2637459.0\n",
       "Wisconsin District 08   416978.0  3202905.0\n",
       "Wyoming District 01     134597.0  3003883.0\n",
       "\n",
       "[371 rows x 2 columns]"
      ]
     },
     "execution_count": 15,
     "metadata": {},
     "output_type": "execute_result"
    }
   ],
   "source": [
    "raised_pivot = (\n",
    "    candidates\n",
    "    .pivot_table(\n",
    "        values = 'Total Amount Raised',\n",
    "        index = 'State-District',\n",
    "        columns = 'Winner Status'\n",
    "    )\n",
    "    .dropna()\n",
    ")\n",
    "raised_pivot"
   ]
  },
  {
   "cell_type": "code",
   "execution_count": 16,
   "id": "9fd2cdf7",
   "metadata": {},
   "outputs": [
    {
     "data": {
      "text/html": [
       "<div>\n",
       "<style scoped>\n",
       "    .dataframe tbody tr th:only-of-type {\n",
       "        vertical-align: middle;\n",
       "    }\n",
       "\n",
       "    .dataframe tbody tr th {\n",
       "        vertical-align: top;\n",
       "    }\n",
       "\n",
       "    .dataframe thead th {\n",
       "        text-align: right;\n",
       "    }\n",
       "</style>\n",
       "<table border=\"1\" class=\"dataframe\">\n",
       "  <thead>\n",
       "    <tr style=\"text-align: right;\">\n",
       "      <th>Winner Status</th>\n",
       "      <th>N/a</th>\n",
       "      <th>Winner</th>\n",
       "      <th>Raised_More</th>\n",
       "    </tr>\n",
       "    <tr>\n",
       "      <th>State-District</th>\n",
       "      <th></th>\n",
       "      <th></th>\n",
       "      <th></th>\n",
       "    </tr>\n",
       "  </thead>\n",
       "  <tbody>\n",
       "    <tr>\n",
       "      <th>Alabama District 01</th>\n",
       "      <td>80095.0</td>\n",
       "      <td>1971321.0</td>\n",
       "      <td>1971321.0</td>\n",
       "    </tr>\n",
       "    <tr>\n",
       "      <th>Alabama District 02</th>\n",
       "      <td>56050.0</td>\n",
       "      <td>650807.0</td>\n",
       "      <td>650807.0</td>\n",
       "    </tr>\n",
       "    <tr>\n",
       "      <th>Alabama District 03</th>\n",
       "      <td>50273.0</td>\n",
       "      <td>1193111.0</td>\n",
       "      <td>1193111.0</td>\n",
       "    </tr>\n",
       "    <tr>\n",
       "      <th>Alaska District 01</th>\n",
       "      <td>5178452.0</td>\n",
       "      <td>1922901.0</td>\n",
       "      <td>NaN</td>\n",
       "    </tr>\n",
       "    <tr>\n",
       "      <th>Arizona District 01</th>\n",
       "      <td>1675618.0</td>\n",
       "      <td>3381353.0</td>\n",
       "      <td>3381353.0</td>\n",
       "    </tr>\n",
       "    <tr>\n",
       "      <th>...</th>\n",
       "      <td>...</td>\n",
       "      <td>...</td>\n",
       "      <td>...</td>\n",
       "    </tr>\n",
       "    <tr>\n",
       "      <th>Wisconsin District 05</th>\n",
       "      <td>370392.0</td>\n",
       "      <td>1155721.0</td>\n",
       "      <td>1155721.0</td>\n",
       "    </tr>\n",
       "    <tr>\n",
       "      <th>Wisconsin District 06</th>\n",
       "      <td>287753.0</td>\n",
       "      <td>1815756.0</td>\n",
       "      <td>1815756.0</td>\n",
       "    </tr>\n",
       "    <tr>\n",
       "      <th>Wisconsin District 07</th>\n",
       "      <td>1261957.0</td>\n",
       "      <td>2637459.0</td>\n",
       "      <td>2637459.0</td>\n",
       "    </tr>\n",
       "    <tr>\n",
       "      <th>Wisconsin District 08</th>\n",
       "      <td>416978.0</td>\n",
       "      <td>3202905.0</td>\n",
       "      <td>3202905.0</td>\n",
       "    </tr>\n",
       "    <tr>\n",
       "      <th>Wyoming District 01</th>\n",
       "      <td>134597.0</td>\n",
       "      <td>3003883.0</td>\n",
       "      <td>3003883.0</td>\n",
       "    </tr>\n",
       "  </tbody>\n",
       "</table>\n",
       "<p>371 rows × 3 columns</p>\n",
       "</div>"
      ],
      "text/plain": [
       "Winner Status                N/a     Winner  Raised_More\n",
       "State-District                                          \n",
       "Alabama District 01      80095.0  1971321.0    1971321.0\n",
       "Alabama District 02      56050.0   650807.0     650807.0\n",
       "Alabama District 03      50273.0  1193111.0    1193111.0\n",
       "Alaska District 01     5178452.0  1922901.0          NaN\n",
       "Arizona District 01    1675618.0  3381353.0    3381353.0\n",
       "...                          ...        ...          ...\n",
       "Wisconsin District 05   370392.0  1155721.0    1155721.0\n",
       "Wisconsin District 06   287753.0  1815756.0    1815756.0\n",
       "Wisconsin District 07  1261957.0  2637459.0    2637459.0\n",
       "Wisconsin District 08   416978.0  3202905.0    3202905.0\n",
       "Wyoming District 01     134597.0  3003883.0    3003883.0\n",
       "\n",
       "[371 rows x 3 columns]"
      ]
     },
     "execution_count": 16,
     "metadata": {},
     "output_type": "execute_result"
    }
   ],
   "source": [
    "raised_pivot['Raised_More'] = raised_pivot.apply(lambda x: x['Winner'] if x['Winner'] >=\n",
    "                     x['N/a'] else np.nan, axis=1)\n",
    "raised_pivot"
   ]
  },
  {
   "cell_type": "code",
   "execution_count": 17,
   "id": "cb7810d4",
   "metadata": {},
   "outputs": [
    {
     "data": {
      "text/plain": [
       "1971321.0    1\n",
       "1090395.0    1\n",
       "791888.0     1\n",
       "1866123.0    1\n",
       "1580952.0    1\n",
       "            ..\n",
       "544690.0     1\n",
       "5582179.0    1\n",
       "822846.0     1\n",
       "2802093.0    1\n",
       "3003883.0    1\n",
       "Name: Raised_More, Length: 332, dtype: int64"
      ]
     },
     "execution_count": 17,
     "metadata": {},
     "output_type": "execute_result"
    }
   ],
   "source": [
    "raised_pivot['Raised_More'].value_counts()"
   ]
  },
  {
   "cell_type": "code",
   "execution_count": 18,
   "id": "9f4a6a3a",
   "metadata": {},
   "outputs": [
    {
     "data": {
      "text/plain": [
       "Winner Status\n",
       "N/a            371\n",
       "Winner         371\n",
       "Raised_More    332\n",
       "dtype: int64"
      ]
     },
     "execution_count": 18,
     "metadata": {},
     "output_type": "execute_result"
    }
   ],
   "source": [
    "raised_pivot.notna().sum()"
   ]
  },
  {
   "cell_type": "code",
   "execution_count": 127,
   "id": "4a50310f",
   "metadata": {
    "scrolled": true
   },
   "outputs": [
    {
     "name": "stdout",
     "output_type": "stream",
     "text": [
      "How often did the Winner of the race win more money: 0.894878706199461\n"
     ]
    }
   ],
   "source": [
    "print('How often did the Winner of the race win more money:', (332/371))"
   ]
  },
  {
   "cell_type": "markdown",
   "id": "886357a2",
   "metadata": {},
   "source": [
    "b. How often does the candidate who spent more money win a race?"
   ]
  },
  {
   "cell_type": "code",
   "execution_count": 128,
   "id": "95a483ed",
   "metadata": {},
   "outputs": [
    {
     "data": {
      "text/html": [
       "<div>\n",
       "<style scoped>\n",
       "    .dataframe tbody tr th:only-of-type {\n",
       "        vertical-align: middle;\n",
       "    }\n",
       "\n",
       "    .dataframe tbody tr th {\n",
       "        vertical-align: top;\n",
       "    }\n",
       "\n",
       "    .dataframe thead th {\n",
       "        text-align: right;\n",
       "    }\n",
       "</style>\n",
       "<table border=\"1\" class=\"dataframe\">\n",
       "  <thead>\n",
       "    <tr style=\"text-align: right;\">\n",
       "      <th>Winner Status</th>\n",
       "      <th>N/a</th>\n",
       "      <th>Winner</th>\n",
       "    </tr>\n",
       "    <tr>\n",
       "      <th>State-District</th>\n",
       "      <th></th>\n",
       "      <th></th>\n",
       "    </tr>\n",
       "  </thead>\n",
       "  <tbody>\n",
       "    <tr>\n",
       "      <th>Alabama District 01</th>\n",
       "      <td>78973.0</td>\n",
       "      <td>1859349.0</td>\n",
       "    </tr>\n",
       "    <tr>\n",
       "      <th>Alabama District 02</th>\n",
       "      <td>55988.0</td>\n",
       "      <td>669368.0</td>\n",
       "    </tr>\n",
       "    <tr>\n",
       "      <th>Alabama District 03</th>\n",
       "      <td>40971.0</td>\n",
       "      <td>1218564.0</td>\n",
       "    </tr>\n",
       "    <tr>\n",
       "      <th>Alaska District 01</th>\n",
       "      <td>5088103.0</td>\n",
       "      <td>1790448.0</td>\n",
       "    </tr>\n",
       "    <tr>\n",
       "      <th>Arizona District 01</th>\n",
       "      <td>1615704.0</td>\n",
       "      <td>3324138.0</td>\n",
       "    </tr>\n",
       "    <tr>\n",
       "      <th>...</th>\n",
       "      <td>...</td>\n",
       "      <td>...</td>\n",
       "    </tr>\n",
       "    <tr>\n",
       "      <th>Wisconsin District 05</th>\n",
       "      <td>371799.0</td>\n",
       "      <td>968406.0</td>\n",
       "    </tr>\n",
       "    <tr>\n",
       "      <th>Wisconsin District 06</th>\n",
       "      <td>245788.0</td>\n",
       "      <td>1736659.0</td>\n",
       "    </tr>\n",
       "    <tr>\n",
       "      <th>Wisconsin District 07</th>\n",
       "      <td>1232690.0</td>\n",
       "      <td>2514740.0</td>\n",
       "    </tr>\n",
       "    <tr>\n",
       "      <th>Wisconsin District 08</th>\n",
       "      <td>399916.0</td>\n",
       "      <td>2841801.0</td>\n",
       "    </tr>\n",
       "    <tr>\n",
       "      <th>Wyoming District 01</th>\n",
       "      <td>132235.0</td>\n",
       "      <td>3060167.0</td>\n",
       "    </tr>\n",
       "  </tbody>\n",
       "</table>\n",
       "<p>371 rows × 2 columns</p>\n",
       "</div>"
      ],
      "text/plain": [
       "Winner Status                N/a     Winner\n",
       "State-District                             \n",
       "Alabama District 01      78973.0  1859349.0\n",
       "Alabama District 02      55988.0   669368.0\n",
       "Alabama District 03      40971.0  1218564.0\n",
       "Alaska District 01     5088103.0  1790448.0\n",
       "Arizona District 01    1615704.0  3324138.0\n",
       "...                          ...        ...\n",
       "Wisconsin District 05   371799.0   968406.0\n",
       "Wisconsin District 06   245788.0  1736659.0\n",
       "Wisconsin District 07  1232690.0  2514740.0\n",
       "Wisconsin District 08   399916.0  2841801.0\n",
       "Wyoming District 01     132235.0  3060167.0\n",
       "\n",
       "[371 rows x 2 columns]"
      ]
     },
     "execution_count": 128,
     "metadata": {},
     "output_type": "execute_result"
    }
   ],
   "source": [
    "spent_pivot = (\n",
    "    candidates\n",
    "    .pivot_table(\n",
    "        values = 'Total Amount Spent',\n",
    "        index = 'State-District',\n",
    "        columns = 'Winner Status'\n",
    "    )\n",
    "    .dropna()\n",
    ")\n",
    "spent_pivot"
   ]
  },
  {
   "cell_type": "code",
   "execution_count": 129,
   "id": "63fd834c",
   "metadata": {},
   "outputs": [
    {
     "data": {
      "text/html": [
       "<div>\n",
       "<style scoped>\n",
       "    .dataframe tbody tr th:only-of-type {\n",
       "        vertical-align: middle;\n",
       "    }\n",
       "\n",
       "    .dataframe tbody tr th {\n",
       "        vertical-align: top;\n",
       "    }\n",
       "\n",
       "    .dataframe thead th {\n",
       "        text-align: right;\n",
       "    }\n",
       "</style>\n",
       "<table border=\"1\" class=\"dataframe\">\n",
       "  <thead>\n",
       "    <tr style=\"text-align: right;\">\n",
       "      <th>Winner Status</th>\n",
       "      <th>N/a</th>\n",
       "      <th>Winner</th>\n",
       "      <th>Spent_More</th>\n",
       "    </tr>\n",
       "    <tr>\n",
       "      <th>State-District</th>\n",
       "      <th></th>\n",
       "      <th></th>\n",
       "      <th></th>\n",
       "    </tr>\n",
       "  </thead>\n",
       "  <tbody>\n",
       "    <tr>\n",
       "      <th>Alabama District 01</th>\n",
       "      <td>78973.0</td>\n",
       "      <td>1859349.0</td>\n",
       "      <td>1859349.0</td>\n",
       "    </tr>\n",
       "    <tr>\n",
       "      <th>Alabama District 02</th>\n",
       "      <td>55988.0</td>\n",
       "      <td>669368.0</td>\n",
       "      <td>669368.0</td>\n",
       "    </tr>\n",
       "    <tr>\n",
       "      <th>Alabama District 03</th>\n",
       "      <td>40971.0</td>\n",
       "      <td>1218564.0</td>\n",
       "      <td>1218564.0</td>\n",
       "    </tr>\n",
       "    <tr>\n",
       "      <th>Alaska District 01</th>\n",
       "      <td>5088103.0</td>\n",
       "      <td>1790448.0</td>\n",
       "      <td>NaN</td>\n",
       "    </tr>\n",
       "    <tr>\n",
       "      <th>Arizona District 01</th>\n",
       "      <td>1615704.0</td>\n",
       "      <td>3324138.0</td>\n",
       "      <td>3324138.0</td>\n",
       "    </tr>\n",
       "    <tr>\n",
       "      <th>...</th>\n",
       "      <td>...</td>\n",
       "      <td>...</td>\n",
       "      <td>...</td>\n",
       "    </tr>\n",
       "    <tr>\n",
       "      <th>Wisconsin District 05</th>\n",
       "      <td>371799.0</td>\n",
       "      <td>968406.0</td>\n",
       "      <td>968406.0</td>\n",
       "    </tr>\n",
       "    <tr>\n",
       "      <th>Wisconsin District 06</th>\n",
       "      <td>245788.0</td>\n",
       "      <td>1736659.0</td>\n",
       "      <td>1736659.0</td>\n",
       "    </tr>\n",
       "    <tr>\n",
       "      <th>Wisconsin District 07</th>\n",
       "      <td>1232690.0</td>\n",
       "      <td>2514740.0</td>\n",
       "      <td>2514740.0</td>\n",
       "    </tr>\n",
       "    <tr>\n",
       "      <th>Wisconsin District 08</th>\n",
       "      <td>399916.0</td>\n",
       "      <td>2841801.0</td>\n",
       "      <td>2841801.0</td>\n",
       "    </tr>\n",
       "    <tr>\n",
       "      <th>Wyoming District 01</th>\n",
       "      <td>132235.0</td>\n",
       "      <td>3060167.0</td>\n",
       "      <td>3060167.0</td>\n",
       "    </tr>\n",
       "  </tbody>\n",
       "</table>\n",
       "<p>371 rows × 3 columns</p>\n",
       "</div>"
      ],
      "text/plain": [
       "Winner Status                N/a     Winner  Spent_More\n",
       "State-District                                         \n",
       "Alabama District 01      78973.0  1859349.0   1859349.0\n",
       "Alabama District 02      55988.0   669368.0    669368.0\n",
       "Alabama District 03      40971.0  1218564.0   1218564.0\n",
       "Alaska District 01     5088103.0  1790448.0         NaN\n",
       "Arizona District 01    1615704.0  3324138.0   3324138.0\n",
       "...                          ...        ...         ...\n",
       "Wisconsin District 05   371799.0   968406.0    968406.0\n",
       "Wisconsin District 06   245788.0  1736659.0   1736659.0\n",
       "Wisconsin District 07  1232690.0  2514740.0   2514740.0\n",
       "Wisconsin District 08   399916.0  2841801.0   2841801.0\n",
       "Wyoming District 01     132235.0  3060167.0   3060167.0\n",
       "\n",
       "[371 rows x 3 columns]"
      ]
     },
     "execution_count": 129,
     "metadata": {},
     "output_type": "execute_result"
    }
   ],
   "source": [
    "spent_pivot['Spent_More'] = spent_pivot.apply(lambda x: x['Winner'] if x['Winner'] >=\n",
    "                     x['N/a'] else np.nan, axis=1)\n",
    "spent_pivot"
   ]
  },
  {
   "cell_type": "code",
   "execution_count": 130,
   "id": "c3023112",
   "metadata": {},
   "outputs": [
    {
     "data": {
      "text/plain": [
       "1859349.0    1\n",
       "979798.0     1\n",
       "453928.0     1\n",
       "1853361.0    1\n",
       "1477090.0    1\n",
       "            ..\n",
       "1514838.0    1\n",
       "505506.0     1\n",
       "5313570.0    1\n",
       "711159.0     1\n",
       "3060167.0    1\n",
       "Name: Spent_More, Length: 330, dtype: int64"
      ]
     },
     "execution_count": 130,
     "metadata": {},
     "output_type": "execute_result"
    }
   ],
   "source": [
    "spent_pivot['Spent_More'].value_counts()"
   ]
  },
  {
   "cell_type": "code",
   "execution_count": 131,
   "id": "106daffa",
   "metadata": {},
   "outputs": [
    {
     "data": {
      "text/plain": [
       "Winner Status\n",
       "N/a           371\n",
       "Winner        371\n",
       "Spent_More    330\n",
       "dtype: int64"
      ]
     },
     "execution_count": 131,
     "metadata": {},
     "output_type": "execute_result"
    }
   ],
   "source": [
    "spent_pivot.notna().sum()"
   ]
  },
  {
   "cell_type": "code",
   "execution_count": 132,
   "id": "bb1d8349",
   "metadata": {
    "scrolled": true
   },
   "outputs": [
    {
     "name": "stdout",
     "output_type": "stream",
     "text": [
      "How often did the Winner of the race spend more money: 0.889487870619946\n"
     ]
    }
   ],
   "source": [
    "print('How often did the Winner of the race spend more money:', (330/371))"
   ]
  },
  {
   "cell_type": "markdown",
   "id": "8a757abe",
   "metadata": {},
   "source": [
    "c. Does the difference between either money raised or money spent seem to influence the likelihood of a candidate winning a race?\n",
    "\n",
    "In both cases, the Winner raised and spent more money than the candidate that lost their race. The percentages were very high that the winner raises and spends more capital. "
   ]
  },
  {
   "cell_type": "markdown",
   "id": "2fe65c28",
   "metadata": {},
   "source": [
    " d. How often does the incumbent candidate win a race? "
   ]
  },
  {
   "cell_type": "code",
   "execution_count": 91,
   "id": "9e5c1706",
   "metadata": {
    "scrolled": true
   },
   "outputs": [
    {
     "name": "stdout",
     "output_type": "stream",
     "text": [
      "The count of Incumbent Winners:  371\n",
      "The count of Non-Incumbent Winners:  60\n"
     ]
    }
   ],
   "source": [
    "question_d = candidates[['State-District', 'Winner Status', 'Incumbent Status']]\n",
    "\n",
    "Winner = question_d['Incumbent Status'][question_d['Winner Status'] == 'Winner'].tolist()\n",
    "incumbent_count = Winner.count('Incumbent')\n",
    "newbie_count = Winner.count('N/a')\n",
    "print('The count of Incumbent Winners: ', incumbent_count)\n",
    "print('The count of Non-Incumbent Winners: ', newbie_count)"
   ]
  },
  {
   "cell_type": "code",
   "execution_count": 135,
   "id": "9ef7b83a",
   "metadata": {
    "scrolled": true
   },
   "outputs": [
    {
     "name": "stdout",
     "output_type": "stream",
     "text": [
      "How often was the Winner an Incumbent: 0.8607888631090487\n"
     ]
    }
   ],
   "source": [
    "print('How often was the Winner an Incumbent:', (371/431))"
   ]
  },
  {
   "cell_type": "markdown",
   "id": "ff108a4a",
   "metadata": {},
   "source": [
    "e. Can you detect any relationship between amount of money raised and the incumbent status of a candidate?"
   ]
  },
  {
   "cell_type": "code",
   "execution_count": 99,
   "id": "1829cf00",
   "metadata": {},
   "outputs": [
    {
     "data": {
      "text/plain": [
       "2908101.8575757574"
      ]
     },
     "execution_count": 99,
     "metadata": {},
     "output_type": "execute_result"
    }
   ],
   "source": [
    "incumbent_pivot['Incumbent'].mean()"
   ]
  },
  {
   "cell_type": "code",
   "execution_count": 100,
   "id": "ab08e313",
   "metadata": {
    "scrolled": true
   },
   "outputs": [
    {
     "data": {
      "text/plain": [
       "1012913.4727272728"
      ]
     },
     "execution_count": 100,
     "metadata": {},
     "output_type": "execute_result"
    }
   ],
   "source": [
    "incumbent_pivot['N/a'].mean()"
   ]
  },
  {
   "cell_type": "code",
   "execution_count": 105,
   "id": "64f8fb5e",
   "metadata": {
    "scrolled": true
   },
   "outputs": [
    {
     "data": {
      "text/html": [
       "<div>\n",
       "<style scoped>\n",
       "    .dataframe tbody tr th:only-of-type {\n",
       "        vertical-align: middle;\n",
       "    }\n",
       "\n",
       "    .dataframe tbody tr th {\n",
       "        vertical-align: top;\n",
       "    }\n",
       "\n",
       "    .dataframe thead th {\n",
       "        text-align: right;\n",
       "    }\n",
       "</style>\n",
       "<table border=\"1\" class=\"dataframe\">\n",
       "  <thead>\n",
       "    <tr style=\"text-align: right;\">\n",
       "      <th></th>\n",
       "      <th>Total Amount Raised</th>\n",
       "      <th>Incumbent Status</th>\n",
       "    </tr>\n",
       "  </thead>\n",
       "  <tbody>\n",
       "    <tr>\n",
       "      <th>0</th>\n",
       "      <td>1971321</td>\n",
       "      <td>N/a</td>\n",
       "    </tr>\n",
       "    <tr>\n",
       "      <th>1</th>\n",
       "      <td>80095</td>\n",
       "      <td>N/a</td>\n",
       "    </tr>\n",
       "    <tr>\n",
       "      <th>2</th>\n",
       "      <td>650807</td>\n",
       "      <td>N/a</td>\n",
       "    </tr>\n",
       "    <tr>\n",
       "      <th>3</th>\n",
       "      <td>56050</td>\n",
       "      <td>N/a</td>\n",
       "    </tr>\n",
       "    <tr>\n",
       "      <th>4</th>\n",
       "      <td>1193111</td>\n",
       "      <td>Incumbent</td>\n",
       "    </tr>\n",
       "    <tr>\n",
       "      <th>...</th>\n",
       "      <td>...</td>\n",
       "      <td>...</td>\n",
       "    </tr>\n",
       "    <tr>\n",
       "      <th>887</th>\n",
       "      <td>1261957</td>\n",
       "      <td>N/a</td>\n",
       "    </tr>\n",
       "    <tr>\n",
       "      <th>888</th>\n",
       "      <td>3202905</td>\n",
       "      <td>Incumbent</td>\n",
       "    </tr>\n",
       "    <tr>\n",
       "      <th>889</th>\n",
       "      <td>416978</td>\n",
       "      <td>N/a</td>\n",
       "    </tr>\n",
       "    <tr>\n",
       "      <th>890</th>\n",
       "      <td>3003883</td>\n",
       "      <td>Incumbent</td>\n",
       "    </tr>\n",
       "    <tr>\n",
       "      <th>891</th>\n",
       "      <td>134597</td>\n",
       "      <td>N/a</td>\n",
       "    </tr>\n",
       "  </tbody>\n",
       "</table>\n",
       "<p>892 rows × 2 columns</p>\n",
       "</div>"
      ],
      "text/plain": [
       "     Total Amount Raised Incumbent Status\n",
       "0                1971321              N/a\n",
       "1                  80095              N/a\n",
       "2                 650807              N/a\n",
       "3                  56050              N/a\n",
       "4                1193111        Incumbent\n",
       "..                   ...              ...\n",
       "887              1261957              N/a\n",
       "888              3202905        Incumbent\n",
       "889               416978              N/a\n",
       "890              3003883        Incumbent\n",
       "891               134597              N/a\n",
       "\n",
       "[892 rows x 2 columns]"
      ]
     },
     "execution_count": 105,
     "metadata": {},
     "output_type": "execute_result"
    }
   ],
   "source": [
    "question_e = candidates[['Total Amount Raised', 'Incumbent Status']]\n",
    "question_e"
   ]
  },
  {
   "cell_type": "code",
   "execution_count": 122,
   "id": "cae2c858",
   "metadata": {
    "scrolled": true
   },
   "outputs": [
    {
     "name": "stderr",
     "output_type": "stream",
     "text": [
      "C:\\Users\\Pupnsuds90\\AppData\\Local\\Temp\\ipykernel_25728\\1027443056.py:1: SettingWithCopyWarning: \n",
      "A value is trying to be set on a copy of a slice from a DataFrame.\n",
      "Try using .loc[row_indexer,col_indexer] = value instead\n",
      "\n",
      "See the caveats in the documentation: https://pandas.pydata.org/pandas-docs/stable/user_guide/indexing.html#returning-a-view-versus-a-copy\n",
      "  question_e['Incumbent Status'] = question_e['Incumbent Status'].str.replace('N/a', 'Non-Incumbent')\n"
     ]
    },
    {
     "data": {
      "text/html": [
       "<div>\n",
       "<style scoped>\n",
       "    .dataframe tbody tr th:only-of-type {\n",
       "        vertical-align: middle;\n",
       "    }\n",
       "\n",
       "    .dataframe tbody tr th {\n",
       "        vertical-align: top;\n",
       "    }\n",
       "\n",
       "    .dataframe thead th {\n",
       "        text-align: right;\n",
       "    }\n",
       "</style>\n",
       "<table border=\"1\" class=\"dataframe\">\n",
       "  <thead>\n",
       "    <tr style=\"text-align: right;\">\n",
       "      <th></th>\n",
       "      <th>Total Amount Raised</th>\n",
       "      <th>Incumbent Status</th>\n",
       "    </tr>\n",
       "  </thead>\n",
       "  <tbody>\n",
       "    <tr>\n",
       "      <th>0</th>\n",
       "      <td>1971321</td>\n",
       "      <td>Non-Incumbent</td>\n",
       "    </tr>\n",
       "    <tr>\n",
       "      <th>1</th>\n",
       "      <td>80095</td>\n",
       "      <td>Non-Incumbent</td>\n",
       "    </tr>\n",
       "    <tr>\n",
       "      <th>2</th>\n",
       "      <td>650807</td>\n",
       "      <td>Non-Incumbent</td>\n",
       "    </tr>\n",
       "    <tr>\n",
       "      <th>3</th>\n",
       "      <td>56050</td>\n",
       "      <td>Non-Incumbent</td>\n",
       "    </tr>\n",
       "    <tr>\n",
       "      <th>4</th>\n",
       "      <td>1193111</td>\n",
       "      <td>Incumbent</td>\n",
       "    </tr>\n",
       "    <tr>\n",
       "      <th>...</th>\n",
       "      <td>...</td>\n",
       "      <td>...</td>\n",
       "    </tr>\n",
       "    <tr>\n",
       "      <th>887</th>\n",
       "      <td>1261957</td>\n",
       "      <td>Non-Incumbent</td>\n",
       "    </tr>\n",
       "    <tr>\n",
       "      <th>888</th>\n",
       "      <td>3202905</td>\n",
       "      <td>Incumbent</td>\n",
       "    </tr>\n",
       "    <tr>\n",
       "      <th>889</th>\n",
       "      <td>416978</td>\n",
       "      <td>Non-Incumbent</td>\n",
       "    </tr>\n",
       "    <tr>\n",
       "      <th>890</th>\n",
       "      <td>3003883</td>\n",
       "      <td>Incumbent</td>\n",
       "    </tr>\n",
       "    <tr>\n",
       "      <th>891</th>\n",
       "      <td>134597</td>\n",
       "      <td>Non-Incumbent</td>\n",
       "    </tr>\n",
       "  </tbody>\n",
       "</table>\n",
       "<p>892 rows × 2 columns</p>\n",
       "</div>"
      ],
      "text/plain": [
       "     Total Amount Raised Incumbent Status\n",
       "0                1971321    Non-Incumbent\n",
       "1                  80095    Non-Incumbent\n",
       "2                 650807    Non-Incumbent\n",
       "3                  56050    Non-Incumbent\n",
       "4                1193111        Incumbent\n",
       "..                   ...              ...\n",
       "887              1261957    Non-Incumbent\n",
       "888              3202905        Incumbent\n",
       "889               416978    Non-Incumbent\n",
       "890              3003883        Incumbent\n",
       "891               134597    Non-Incumbent\n",
       "\n",
       "[892 rows x 2 columns]"
      ]
     },
     "execution_count": 122,
     "metadata": {},
     "output_type": "execute_result"
    }
   ],
   "source": [
    "question_e['Incumbent Status'] = question_e['Incumbent Status'].str.replace('N/a', 'Non-Incumbent')\n",
    "question_e"
   ]
  },
  {
   "cell_type": "code",
   "execution_count": 123,
   "id": "a9ab0f0d",
   "metadata": {},
   "outputs": [
    {
     "name": "stderr",
     "output_type": "stream",
     "text": [
      "C:\\Users\\Pupnsuds90\\AppData\\Local\\Temp\\ipykernel_25728\\3040482347.py:1: SettingWithCopyWarning: \n",
      "A value is trying to be set on a copy of a slice from a DataFrame.\n",
      "Try using .loc[row_indexer,col_indexer] = value instead\n",
      "\n",
      "See the caveats in the documentation: https://pandas.pydata.org/pandas-docs/stable/user_guide/indexing.html#returning-a-view-versus-a-copy\n",
      "  question_e['Incumbent Status']=question_e['Incumbent Status'].astype('category').cat.codes\n"
     ]
    },
    {
     "data": {
      "text/html": [
       "<div>\n",
       "<style scoped>\n",
       "    .dataframe tbody tr th:only-of-type {\n",
       "        vertical-align: middle;\n",
       "    }\n",
       "\n",
       "    .dataframe tbody tr th {\n",
       "        vertical-align: top;\n",
       "    }\n",
       "\n",
       "    .dataframe thead th {\n",
       "        text-align: right;\n",
       "    }\n",
       "</style>\n",
       "<table border=\"1\" class=\"dataframe\">\n",
       "  <thead>\n",
       "    <tr style=\"text-align: right;\">\n",
       "      <th></th>\n",
       "      <th>Total Amount Raised</th>\n",
       "      <th>Incumbent Status</th>\n",
       "    </tr>\n",
       "  </thead>\n",
       "  <tbody>\n",
       "    <tr>\n",
       "      <th>Total Amount Raised</th>\n",
       "      <td>1.000000</td>\n",
       "      <td>-0.274661</td>\n",
       "    </tr>\n",
       "    <tr>\n",
       "      <th>Incumbent Status</th>\n",
       "      <td>-0.274661</td>\n",
       "      <td>1.000000</td>\n",
       "    </tr>\n",
       "  </tbody>\n",
       "</table>\n",
       "</div>"
      ],
      "text/plain": [
       "                     Total Amount Raised  Incumbent Status\n",
       "Total Amount Raised             1.000000         -0.274661\n",
       "Incumbent Status               -0.274661          1.000000"
      ]
     },
     "execution_count": 123,
     "metadata": {},
     "output_type": "execute_result"
    }
   ],
   "source": [
    "question_e['Incumbent Status']=question_e['Incumbent Status'].astype('category').cat.codes\n",
    "question_e.corr()"
   ]
  },
  {
   "cell_type": "code",
   "execution_count": null,
   "id": "4ce4f072",
   "metadata": {},
   "outputs": [],
   "source": []
  }
 ],
 "metadata": {
  "kernelspec": {
   "display_name": "Python 3 (ipykernel)",
   "language": "python",
   "name": "python3"
  },
  "language_info": {
   "codemirror_mode": {
    "name": "ipython",
    "version": 3
   },
   "file_extension": ".py",
   "mimetype": "text/x-python",
   "name": "python",
   "nbconvert_exporter": "python",
   "pygments_lexer": "ipython3",
   "version": "3.9.12"
  }
 },
 "nbformat": 4,
 "nbformat_minor": 5
}
