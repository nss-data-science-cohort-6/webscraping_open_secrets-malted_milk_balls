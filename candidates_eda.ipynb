{
 "cells": [
  {
   "cell_type": "code",
   "execution_count": 222,
   "id": "eb4bd334",
   "metadata": {},
   "outputs": [],
   "source": [
    "import pandas as pd   \n",
    "import numpy as np \n",
    "import matplotlib.pyplot as plt  \n",
    "import seaborn as sns"
   ]
  },
  {
   "cell_type": "code",
   "execution_count": 223,
   "id": "05a98c5b",
   "metadata": {},
   "outputs": [
    {
     "data": {
      "text/html": [
       "<div>\n",
       "<style scoped>\n",
       "    .dataframe tbody tr th:only-of-type {\n",
       "        vertical-align: middle;\n",
       "    }\n",
       "\n",
       "    .dataframe tbody tr th {\n",
       "        vertical-align: top;\n",
       "    }\n",
       "\n",
       "    .dataframe thead th {\n",
       "        text-align: right;\n",
       "    }\n",
       "</style>\n",
       "<table border=\"1\" class=\"dataframe\">\n",
       "  <thead>\n",
       "    <tr style=\"text-align: right;\">\n",
       "      <th></th>\n",
       "      <th>Name</th>\n",
       "      <th>Party</th>\n",
       "      <th>State</th>\n",
       "      <th>District Number</th>\n",
       "      <th>Incumbent Status</th>\n",
       "      <th>Winner Status</th>\n",
       "      <th>Percentage of Vote</th>\n",
       "      <th>Total Amount Raised</th>\n",
       "      <th>Total Amount Spent</th>\n",
       "    </tr>\n",
       "  </thead>\n",
       "  <tbody>\n",
       "    <tr>\n",
       "      <th>0</th>\n",
       "      <td>Jerry Carl</td>\n",
       "      <td>(R)</td>\n",
       "      <td>Alabama</td>\n",
       "      <td>District 01</td>\n",
       "      <td>N/a</td>\n",
       "      <td>Winner</td>\n",
       "      <td>64.9</td>\n",
       "      <td>1971321</td>\n",
       "      <td>1859349</td>\n",
       "    </tr>\n",
       "    <tr>\n",
       "      <th>1</th>\n",
       "      <td>James Averhart</td>\n",
       "      <td>(D)</td>\n",
       "      <td>Alabama</td>\n",
       "      <td>District 01</td>\n",
       "      <td>N/a</td>\n",
       "      <td>N/a</td>\n",
       "      <td>35.0</td>\n",
       "      <td>80095</td>\n",
       "      <td>78973</td>\n",
       "    </tr>\n",
       "    <tr>\n",
       "      <th>2</th>\n",
       "      <td>Barry Moore</td>\n",
       "      <td>(R)</td>\n",
       "      <td>Alabama</td>\n",
       "      <td>District 02</td>\n",
       "      <td>N/a</td>\n",
       "      <td>Winner</td>\n",
       "      <td>65.3</td>\n",
       "      <td>650807</td>\n",
       "      <td>669368</td>\n",
       "    </tr>\n",
       "    <tr>\n",
       "      <th>3</th>\n",
       "      <td>Phyllis Harvey-Hall</td>\n",
       "      <td>(D)</td>\n",
       "      <td>Alabama</td>\n",
       "      <td>District 02</td>\n",
       "      <td>N/a</td>\n",
       "      <td>N/a</td>\n",
       "      <td>34.6</td>\n",
       "      <td>56050</td>\n",
       "      <td>55988</td>\n",
       "    </tr>\n",
       "    <tr>\n",
       "      <th>4</th>\n",
       "      <td>Mike D Rogers</td>\n",
       "      <td>(R)</td>\n",
       "      <td>Alabama</td>\n",
       "      <td>District 03</td>\n",
       "      <td>Incumbent</td>\n",
       "      <td>Winner</td>\n",
       "      <td>67.5</td>\n",
       "      <td>1193111</td>\n",
       "      <td>1218564</td>\n",
       "    </tr>\n",
       "    <tr>\n",
       "      <th>5</th>\n",
       "      <td>Adia Winfrey</td>\n",
       "      <td>(D)</td>\n",
       "      <td>Alabama</td>\n",
       "      <td>District 03</td>\n",
       "      <td>N/a</td>\n",
       "      <td>N/a</td>\n",
       "      <td>32.4</td>\n",
       "      <td>50273</td>\n",
       "      <td>40971</td>\n",
       "    </tr>\n",
       "    <tr>\n",
       "      <th>6</th>\n",
       "      <td>Robert B Aderholt</td>\n",
       "      <td>(R)</td>\n",
       "      <td>Alabama</td>\n",
       "      <td>District 04</td>\n",
       "      <td>Incumbent</td>\n",
       "      <td>Winner</td>\n",
       "      <td>82.5</td>\n",
       "      <td>1255076</td>\n",
       "      <td>1323812</td>\n",
       "    </tr>\n",
       "    <tr>\n",
       "      <th>7</th>\n",
       "      <td>Mo Brooks</td>\n",
       "      <td>(R)</td>\n",
       "      <td>Alabama</td>\n",
       "      <td>District 05</td>\n",
       "      <td>Incumbent</td>\n",
       "      <td>Winner</td>\n",
       "      <td>95.8</td>\n",
       "      <td>655365</td>\n",
       "      <td>210045</td>\n",
       "    </tr>\n",
       "    <tr>\n",
       "      <th>8</th>\n",
       "      <td>Gary Palmer</td>\n",
       "      <td>(R)</td>\n",
       "      <td>Alabama</td>\n",
       "      <td>District 06</td>\n",
       "      <td>Incumbent</td>\n",
       "      <td>Winner</td>\n",
       "      <td>97.1</td>\n",
       "      <td>907219</td>\n",
       "      <td>909082</td>\n",
       "    </tr>\n",
       "    <tr>\n",
       "      <th>9</th>\n",
       "      <td>Terri Sewell</td>\n",
       "      <td>(D)</td>\n",
       "      <td>Alabama</td>\n",
       "      <td>District 07</td>\n",
       "      <td>Incumbent</td>\n",
       "      <td>Winner</td>\n",
       "      <td>97.2</td>\n",
       "      <td>2168165</td>\n",
       "      <td>1495957</td>\n",
       "    </tr>\n",
       "    <tr>\n",
       "      <th>10</th>\n",
       "      <td>Don Young</td>\n",
       "      <td>(R)</td>\n",
       "      <td>Alaska</td>\n",
       "      <td>District 01</td>\n",
       "      <td>Incumbent</td>\n",
       "      <td>Winner</td>\n",
       "      <td>54.4</td>\n",
       "      <td>1922901</td>\n",
       "      <td>1790448</td>\n",
       "    </tr>\n",
       "    <tr>\n",
       "      <th>11</th>\n",
       "      <td>Alyse Galvin</td>\n",
       "      <td>(I)</td>\n",
       "      <td>Alaska</td>\n",
       "      <td>District 01</td>\n",
       "      <td>N/a</td>\n",
       "      <td>N/a</td>\n",
       "      <td>45.3</td>\n",
       "      <td>5178452</td>\n",
       "      <td>5088103</td>\n",
       "    </tr>\n",
       "  </tbody>\n",
       "</table>\n",
       "</div>"
      ],
      "text/plain": [
       "                    Name Party    State District Number Incumbent Status  \\\n",
       "0            Jerry Carl    (R)  Alabama     District 01              N/a   \n",
       "1        James Averhart    (D)  Alabama     District 01              N/a   \n",
       "2           Barry Moore    (R)  Alabama     District 02              N/a   \n",
       "3   Phyllis Harvey-Hall    (D)  Alabama     District 02              N/a   \n",
       "4         Mike D Rogers    (R)  Alabama     District 03        Incumbent   \n",
       "5          Adia Winfrey    (D)  Alabama     District 03              N/a   \n",
       "6     Robert B Aderholt    (R)  Alabama     District 04        Incumbent   \n",
       "7             Mo Brooks    (R)  Alabama     District 05        Incumbent   \n",
       "8           Gary Palmer    (R)  Alabama     District 06        Incumbent   \n",
       "9          Terri Sewell    (D)  Alabama     District 07        Incumbent   \n",
       "10            Don Young    (R)   Alaska     District 01        Incumbent   \n",
       "11         Alyse Galvin    (I)   Alaska     District 01              N/a   \n",
       "\n",
       "   Winner Status  Percentage of Vote  Total Amount Raised  Total Amount Spent  \n",
       "0         Winner                64.9              1971321             1859349  \n",
       "1            N/a                35.0                80095               78973  \n",
       "2         Winner                65.3               650807              669368  \n",
       "3            N/a                34.6                56050               55988  \n",
       "4         Winner                67.5              1193111             1218564  \n",
       "5            N/a                32.4                50273               40971  \n",
       "6         Winner                82.5              1255076             1323812  \n",
       "7         Winner                95.8               655365              210045  \n",
       "8         Winner                97.1               907219              909082  \n",
       "9         Winner                97.2              2168165             1495957  \n",
       "10        Winner                54.4              1922901             1790448  \n",
       "11           N/a                45.3              5178452             5088103  "
      ]
     },
     "execution_count": 223,
     "metadata": {},
     "output_type": "execute_result"
    }
   ],
   "source": [
    "candidates_eda = pd.read_csv(\"candidates.csv\")\n",
    "del candidates_eda['Unnamed: 0']\n",
    "candidates_eda.head(12)"
   ]
  },
  {
   "cell_type": "code",
   "execution_count": 224,
   "id": "e522a117",
   "metadata": {},
   "outputs": [
    {
     "data": {
      "text/html": [
       "<div>\n",
       "<style scoped>\n",
       "    .dataframe tbody tr th:only-of-type {\n",
       "        vertical-align: middle;\n",
       "    }\n",
       "\n",
       "    .dataframe tbody tr th {\n",
       "        vertical-align: top;\n",
       "    }\n",
       "\n",
       "    .dataframe thead th {\n",
       "        text-align: right;\n",
       "    }\n",
       "</style>\n",
       "<table border=\"1\" class=\"dataframe\">\n",
       "  <thead>\n",
       "    <tr style=\"text-align: right;\">\n",
       "      <th></th>\n",
       "      <th>Name</th>\n",
       "      <th>Party</th>\n",
       "      <th>State</th>\n",
       "      <th>District Number</th>\n",
       "      <th>Incumbent Status</th>\n",
       "      <th>Winner Status</th>\n",
       "      <th>Percentage of Vote</th>\n",
       "      <th>Total Amount Raised</th>\n",
       "      <th>Total Amount Spent</th>\n",
       "    </tr>\n",
       "  </thead>\n",
       "  <tbody>\n",
       "    <tr>\n",
       "      <th>865</th>\n",
       "      <td>Doug Basler</td>\n",
       "      <td>(R)</td>\n",
       "      <td>WA</td>\n",
       "      <td>District 09</td>\n",
       "      <td>N/a</td>\n",
       "      <td>N/a</td>\n",
       "      <td>25.7</td>\n",
       "      <td>22536</td>\n",
       "      <td>18328</td>\n",
       "    </tr>\n",
       "    <tr>\n",
       "      <th>866</th>\n",
       "      <td>Marilyn Strickland</td>\n",
       "      <td>(D)</td>\n",
       "      <td>WA</td>\n",
       "      <td>District 10</td>\n",
       "      <td>N/a</td>\n",
       "      <td>Winner</td>\n",
       "      <td>49.6</td>\n",
       "      <td>1812659</td>\n",
       "      <td>1780633</td>\n",
       "    </tr>\n",
       "    <tr>\n",
       "      <th>867</th>\n",
       "      <td>Beth Doglio</td>\n",
       "      <td>(D)</td>\n",
       "      <td>WA</td>\n",
       "      <td>District 10</td>\n",
       "      <td>N/a</td>\n",
       "      <td>N/a</td>\n",
       "      <td>35.7</td>\n",
       "      <td>1477678</td>\n",
       "      <td>1477678</td>\n",
       "    </tr>\n",
       "    <tr>\n",
       "      <th>868</th>\n",
       "      <td>David McKinley</td>\n",
       "      <td>(R)</td>\n",
       "      <td>West VA</td>\n",
       "      <td>District 01</td>\n",
       "      <td>Incumbent</td>\n",
       "      <td>Winner</td>\n",
       "      <td>69.0</td>\n",
       "      <td>1092609</td>\n",
       "      <td>1085864</td>\n",
       "    </tr>\n",
       "    <tr>\n",
       "      <th>869</th>\n",
       "      <td>Natalie Ms. Cline</td>\n",
       "      <td>(D)</td>\n",
       "      <td>West VA</td>\n",
       "      <td>District 01</td>\n",
       "      <td>N/a</td>\n",
       "      <td>N/a</td>\n",
       "      <td>31.0</td>\n",
       "      <td>81032</td>\n",
       "      <td>81881</td>\n",
       "    </tr>\n",
       "    <tr>\n",
       "      <th>870</th>\n",
       "      <td>Alex Mooney</td>\n",
       "      <td>(R)</td>\n",
       "      <td>West VA</td>\n",
       "      <td>District 02</td>\n",
       "      <td>Incumbent</td>\n",
       "      <td>Winner</td>\n",
       "      <td>63.1</td>\n",
       "      <td>2155978</td>\n",
       "      <td>864001</td>\n",
       "    </tr>\n",
       "    <tr>\n",
       "      <th>871</th>\n",
       "      <td>Catherine Kunkel</td>\n",
       "      <td>(D)</td>\n",
       "      <td>West VA</td>\n",
       "      <td>District 02</td>\n",
       "      <td>N/a</td>\n",
       "      <td>N/a</td>\n",
       "      <td>36.9</td>\n",
       "      <td>641567</td>\n",
       "      <td>641567</td>\n",
       "    </tr>\n",
       "    <tr>\n",
       "      <th>872</th>\n",
       "      <td>Carol Miller</td>\n",
       "      <td>(R)</td>\n",
       "      <td>West VA</td>\n",
       "      <td>District 03</td>\n",
       "      <td>Incumbent</td>\n",
       "      <td>Winner</td>\n",
       "      <td>71.3</td>\n",
       "      <td>869210</td>\n",
       "      <td>720796</td>\n",
       "    </tr>\n",
       "    <tr>\n",
       "      <th>873</th>\n",
       "      <td>Hilary Turner</td>\n",
       "      <td>(D)</td>\n",
       "      <td>West VA</td>\n",
       "      <td>District 03</td>\n",
       "      <td>N/a</td>\n",
       "      <td>N/a</td>\n",
       "      <td>28.7</td>\n",
       "      <td>99214</td>\n",
       "      <td>98769</td>\n",
       "    </tr>\n",
       "    <tr>\n",
       "      <th>874</th>\n",
       "      <td>Belinda Fox-Spencer</td>\n",
       "      <td>(I)</td>\n",
       "      <td>West VA</td>\n",
       "      <td>District 03</td>\n",
       "      <td>N/a</td>\n",
       "      <td>N/a</td>\n",
       "      <td>0.0</td>\n",
       "      <td>5207</td>\n",
       "      <td>5207</td>\n",
       "    </tr>\n",
       "    <tr>\n",
       "      <th>875</th>\n",
       "      <td>Bryan Steil</td>\n",
       "      <td>(R)</td>\n",
       "      <td>WI</td>\n",
       "      <td>District 01</td>\n",
       "      <td>Incumbent</td>\n",
       "      <td>Winner</td>\n",
       "      <td>59.4</td>\n",
       "      <td>3500849</td>\n",
       "      <td>3151701</td>\n",
       "    </tr>\n",
       "    <tr>\n",
       "      <th>876</th>\n",
       "      <td>Roger Polack</td>\n",
       "      <td>(D)</td>\n",
       "      <td>WI</td>\n",
       "      <td>District 01</td>\n",
       "      <td>N/a</td>\n",
       "      <td>N/a</td>\n",
       "      <td>40.7</td>\n",
       "      <td>536228</td>\n",
       "      <td>526431</td>\n",
       "    </tr>\n",
       "    <tr>\n",
       "      <th>877</th>\n",
       "      <td>Mark Pocan</td>\n",
       "      <td>(D)</td>\n",
       "      <td>WI</td>\n",
       "      <td>District 02</td>\n",
       "      <td>Incumbent</td>\n",
       "      <td>Winner</td>\n",
       "      <td>69.7</td>\n",
       "      <td>1290582</td>\n",
       "      <td>1014628</td>\n",
       "    </tr>\n",
       "    <tr>\n",
       "      <th>878</th>\n",
       "      <td>Peter Theron</td>\n",
       "      <td>(R)</td>\n",
       "      <td>WI</td>\n",
       "      <td>District 02</td>\n",
       "      <td>N/a</td>\n",
       "      <td>N/a</td>\n",
       "      <td>30.3</td>\n",
       "      <td>35753</td>\n",
       "      <td>33977</td>\n",
       "    </tr>\n",
       "    <tr>\n",
       "      <th>879</th>\n",
       "      <td>Ron Kind</td>\n",
       "      <td>(D)</td>\n",
       "      <td>WI</td>\n",
       "      <td>District 03</td>\n",
       "      <td>Incumbent</td>\n",
       "      <td>Winner</td>\n",
       "      <td>51.4</td>\n",
       "      <td>2989262</td>\n",
       "      <td>4435403</td>\n",
       "    </tr>\n",
       "    <tr>\n",
       "      <th>880</th>\n",
       "      <td>Derrick Van Orden</td>\n",
       "      <td>(R)</td>\n",
       "      <td>WI</td>\n",
       "      <td>District 03</td>\n",
       "      <td>N/a</td>\n",
       "      <td>N/a</td>\n",
       "      <td>48.6</td>\n",
       "      <td>1962443</td>\n",
       "      <td>1948639</td>\n",
       "    </tr>\n",
       "    <tr>\n",
       "      <th>881</th>\n",
       "      <td>Gwen Moore</td>\n",
       "      <td>(D)</td>\n",
       "      <td>WI</td>\n",
       "      <td>District 04</td>\n",
       "      <td>Incumbent</td>\n",
       "      <td>Winner</td>\n",
       "      <td>74.7</td>\n",
       "      <td>1183995</td>\n",
       "      <td>1166739</td>\n",
       "    </tr>\n",
       "    <tr>\n",
       "      <th>882</th>\n",
       "      <td>Scott Fitzgerald</td>\n",
       "      <td>(R)</td>\n",
       "      <td>WI</td>\n",
       "      <td>District 05</td>\n",
       "      <td>N/a</td>\n",
       "      <td>Winner</td>\n",
       "      <td>60.2</td>\n",
       "      <td>1155721</td>\n",
       "      <td>968406</td>\n",
       "    </tr>\n",
       "    <tr>\n",
       "      <th>883</th>\n",
       "      <td>Tom Palzewicz</td>\n",
       "      <td>(D)</td>\n",
       "      <td>WI</td>\n",
       "      <td>District 05</td>\n",
       "      <td>N/a</td>\n",
       "      <td>N/a</td>\n",
       "      <td>39.9</td>\n",
       "      <td>370392</td>\n",
       "      <td>371799</td>\n",
       "    </tr>\n",
       "    <tr>\n",
       "      <th>884</th>\n",
       "      <td>Glenn S Grothman</td>\n",
       "      <td>(R)</td>\n",
       "      <td>WI</td>\n",
       "      <td>District 06</td>\n",
       "      <td>Incumbent</td>\n",
       "      <td>Winner</td>\n",
       "      <td>59.3</td>\n",
       "      <td>1815756</td>\n",
       "      <td>1736659</td>\n",
       "    </tr>\n",
       "    <tr>\n",
       "      <th>885</th>\n",
       "      <td>Jessica King</td>\n",
       "      <td>(D)</td>\n",
       "      <td>WI</td>\n",
       "      <td>District 06</td>\n",
       "      <td>N/a</td>\n",
       "      <td>N/a</td>\n",
       "      <td>40.7</td>\n",
       "      <td>287753</td>\n",
       "      <td>245788</td>\n",
       "    </tr>\n",
       "    <tr>\n",
       "      <th>886</th>\n",
       "      <td>Tom Tiffany</td>\n",
       "      <td>(R)</td>\n",
       "      <td>WI</td>\n",
       "      <td>District 07</td>\n",
       "      <td>Incumbent</td>\n",
       "      <td>Winner</td>\n",
       "      <td>60.8</td>\n",
       "      <td>2637459</td>\n",
       "      <td>2514740</td>\n",
       "    </tr>\n",
       "    <tr>\n",
       "      <th>887</th>\n",
       "      <td>Tricia Zunker</td>\n",
       "      <td>(D)</td>\n",
       "      <td>WI</td>\n",
       "      <td>District 07</td>\n",
       "      <td>N/a</td>\n",
       "      <td>N/a</td>\n",
       "      <td>39.2</td>\n",
       "      <td>1261957</td>\n",
       "      <td>1232690</td>\n",
       "    </tr>\n",
       "    <tr>\n",
       "      <th>888</th>\n",
       "      <td>Mike Gallagher</td>\n",
       "      <td>(R)</td>\n",
       "      <td>WI</td>\n",
       "      <td>District 08</td>\n",
       "      <td>Incumbent</td>\n",
       "      <td>Winner</td>\n",
       "      <td>64.0</td>\n",
       "      <td>3202905</td>\n",
       "      <td>2841801</td>\n",
       "    </tr>\n",
       "    <tr>\n",
       "      <th>889</th>\n",
       "      <td>Amanda Stuck</td>\n",
       "      <td>(D)</td>\n",
       "      <td>WI</td>\n",
       "      <td>District 08</td>\n",
       "      <td>N/a</td>\n",
       "      <td>N/a</td>\n",
       "      <td>36.0</td>\n",
       "      <td>416978</td>\n",
       "      <td>399916</td>\n",
       "    </tr>\n",
       "    <tr>\n",
       "      <th>890</th>\n",
       "      <td>Liz Cheney</td>\n",
       "      <td>(R)</td>\n",
       "      <td>WY</td>\n",
       "      <td>District 01</td>\n",
       "      <td>Incumbent</td>\n",
       "      <td>Winner</td>\n",
       "      <td>68.6</td>\n",
       "      <td>3003883</td>\n",
       "      <td>3060167</td>\n",
       "    </tr>\n",
       "    <tr>\n",
       "      <th>891</th>\n",
       "      <td>Lynnette Grey Bull</td>\n",
       "      <td>(D)</td>\n",
       "      <td>WY</td>\n",
       "      <td>District 01</td>\n",
       "      <td>N/a</td>\n",
       "      <td>N/a</td>\n",
       "      <td>24.6</td>\n",
       "      <td>134597</td>\n",
       "      <td>132235</td>\n",
       "    </tr>\n",
       "    <tr>\n",
       "      <th>892</th>\n",
       "      <td>Eleanor Holmes Norton</td>\n",
       "      <td>(D)</td>\n",
       "      <td>DC</td>\n",
       "      <td>District 00</td>\n",
       "      <td>Incumbent</td>\n",
       "      <td>Winner</td>\n",
       "      <td>86.3</td>\n",
       "      <td>386989</td>\n",
       "      <td>358925</td>\n",
       "    </tr>\n",
       "    <tr>\n",
       "      <th>893</th>\n",
       "      <td>Barbara Washington Franklin</td>\n",
       "      <td>(I)</td>\n",
       "      <td>DC</td>\n",
       "      <td>District 00</td>\n",
       "      <td>N/a</td>\n",
       "      <td>N/a</td>\n",
       "      <td>0.0</td>\n",
       "      <td>14070</td>\n",
       "      <td>16530</td>\n",
       "    </tr>\n",
       "    <tr>\n",
       "      <th>894</th>\n",
       "      <td>David Krucoff</td>\n",
       "      <td>(I)</td>\n",
       "      <td>DC</td>\n",
       "      <td>District 00</td>\n",
       "      <td>N/a</td>\n",
       "      <td>N/a</td>\n",
       "      <td>1.5</td>\n",
       "      <td>12133</td>\n",
       "      <td>12069</td>\n",
       "    </tr>\n",
       "  </tbody>\n",
       "</table>\n",
       "</div>"
      ],
      "text/plain": [
       "                             Name Party    State District Number  \\\n",
       "865                  Doug Basler    (R)       WA     District 09   \n",
       "866           Marilyn Strickland    (D)       WA     District 10   \n",
       "867                  Beth Doglio    (D)       WA     District 10   \n",
       "868               David McKinley    (R)  West VA     District 01   \n",
       "869            Natalie Ms. Cline    (D)  West VA     District 01   \n",
       "870                  Alex Mooney    (R)  West VA     District 02   \n",
       "871             Catherine Kunkel    (D)  West VA     District 02   \n",
       "872                 Carol Miller    (R)  West VA     District 03   \n",
       "873                Hilary Turner    (D)  West VA     District 03   \n",
       "874          Belinda Fox-Spencer    (I)  West VA     District 03   \n",
       "875                  Bryan Steil    (R)       WI     District 01   \n",
       "876                 Roger Polack    (D)       WI     District 01   \n",
       "877                   Mark Pocan    (D)       WI     District 02   \n",
       "878                 Peter Theron    (R)       WI     District 02   \n",
       "879                     Ron Kind    (D)       WI     District 03   \n",
       "880            Derrick Van Orden    (R)       WI     District 03   \n",
       "881                   Gwen Moore    (D)       WI     District 04   \n",
       "882             Scott Fitzgerald    (R)       WI     District 05   \n",
       "883                Tom Palzewicz    (D)       WI     District 05   \n",
       "884             Glenn S Grothman    (R)       WI     District 06   \n",
       "885                 Jessica King    (D)       WI     District 06   \n",
       "886                  Tom Tiffany    (R)       WI     District 07   \n",
       "887                Tricia Zunker    (D)       WI     District 07   \n",
       "888               Mike Gallagher    (R)       WI     District 08   \n",
       "889                 Amanda Stuck    (D)       WI     District 08   \n",
       "890                   Liz Cheney    (R)       WY     District 01   \n",
       "891           Lynnette Grey Bull    (D)       WY     District 01   \n",
       "892        Eleanor Holmes Norton    (D)       DC     District 00   \n",
       "893  Barbara Washington Franklin    (I)       DC     District 00   \n",
       "894                David Krucoff    (I)       DC     District 00   \n",
       "\n",
       "    Incumbent Status Winner Status  Percentage of Vote  Total Amount Raised  \\\n",
       "865              N/a           N/a                25.7                22536   \n",
       "866              N/a        Winner                49.6              1812659   \n",
       "867              N/a           N/a                35.7              1477678   \n",
       "868        Incumbent        Winner                69.0              1092609   \n",
       "869              N/a           N/a                31.0                81032   \n",
       "870        Incumbent        Winner                63.1              2155978   \n",
       "871              N/a           N/a                36.9               641567   \n",
       "872        Incumbent        Winner                71.3               869210   \n",
       "873              N/a           N/a                28.7                99214   \n",
       "874              N/a           N/a                 0.0                 5207   \n",
       "875        Incumbent        Winner                59.4              3500849   \n",
       "876              N/a           N/a                40.7               536228   \n",
       "877        Incumbent        Winner                69.7              1290582   \n",
       "878              N/a           N/a                30.3                35753   \n",
       "879        Incumbent        Winner                51.4              2989262   \n",
       "880              N/a           N/a                48.6              1962443   \n",
       "881        Incumbent        Winner                74.7              1183995   \n",
       "882              N/a        Winner                60.2              1155721   \n",
       "883              N/a           N/a                39.9               370392   \n",
       "884        Incumbent        Winner                59.3              1815756   \n",
       "885              N/a           N/a                40.7               287753   \n",
       "886        Incumbent        Winner                60.8              2637459   \n",
       "887              N/a           N/a                39.2              1261957   \n",
       "888        Incumbent        Winner                64.0              3202905   \n",
       "889              N/a           N/a                36.0               416978   \n",
       "890        Incumbent        Winner                68.6              3003883   \n",
       "891              N/a           N/a                24.6               134597   \n",
       "892        Incumbent        Winner                86.3               386989   \n",
       "893              N/a           N/a                 0.0                14070   \n",
       "894              N/a           N/a                 1.5                12133   \n",
       "\n",
       "     Total Amount Spent  \n",
       "865               18328  \n",
       "866             1780633  \n",
       "867             1477678  \n",
       "868             1085864  \n",
       "869               81881  \n",
       "870              864001  \n",
       "871              641567  \n",
       "872              720796  \n",
       "873               98769  \n",
       "874                5207  \n",
       "875             3151701  \n",
       "876              526431  \n",
       "877             1014628  \n",
       "878               33977  \n",
       "879             4435403  \n",
       "880             1948639  \n",
       "881             1166739  \n",
       "882              968406  \n",
       "883              371799  \n",
       "884             1736659  \n",
       "885              245788  \n",
       "886             2514740  \n",
       "887             1232690  \n",
       "888             2841801  \n",
       "889              399916  \n",
       "890             3060167  \n",
       "891              132235  \n",
       "892              358925  \n",
       "893               16530  \n",
       "894               12069  "
      ]
     },
     "execution_count": 224,
     "metadata": {},
     "output_type": "execute_result"
    }
   ],
   "source": [
    "# Replace states with abbreviations\n",
    "us_states = {\n",
    "    \"Alabama\": \"AL\",\n",
    "    \"Alaska\": \"AK\",\n",
    "    \"Arizona\": \"AZ\",\n",
    "    \"Arkansas\": \"AR\",\n",
    "    \"California\": \"CA\",\n",
    "    \"Colorado\": \"CO\",\n",
    "    \"Connecticut\": \"CT\",\n",
    "    \"District of Columbia\": \"DC\",\n",
    "    \"Delaware\": \"DE\",\n",
    "    \"Florida\": \"FL\",\n",
    "    \"Georgia\": \"GA\",\n",
    "    \"Hawaii\": \"HI\",\n",
    "    \"Idaho\": \"ID\",\n",
    "    \"Illinois\": \"IL\",\n",
    "    \"Indiana\": \"IN\",\n",
    "    \"Iowa\": \"IA\",\n",
    "    \"Kansas\": \"KS\",\n",
    "    \"Kentucky\": \"KY\",\n",
    "    \"Louisiana\": \"LA\",\n",
    "    \"Maine\": \"ME\",\n",
    "    \"Maryland\": \"MD\",\n",
    "    \"Massachusetts\": \"MA\",\n",
    "    \"Michigan\": \"MI\",\n",
    "    \"Minnesota\": \"MN\",\n",
    "    \"Mississippi\": \"MS\",\n",
    "    \"Missouri\": \"MO\",\n",
    "    \"Montana\": \"MT\",\n",
    "    \"Nebraska\": \"NE\",\n",
    "    \"Nevada\": \"NV\",\n",
    "    \"New Hampshire\": \"NH\",\n",
    "    \"New Jersey\": \"NJ\",\n",
    "    \"New Mexico\": \"NM\",\n",
    "    \"New York\": \"NY\",\n",
    "    \"North Carolina\": \"NC\",\n",
    "    \"North Dakota\": \"ND\",\n",
    "    \"Ohio\": \"OH\",\n",
    "    \"Oklahoma\": \"OK\",\n",
    "    \"Oregon\": \"OR\",\n",
    "    \"Pennsylvania\": \"PA\",\n",
    "    \"Rhode Island\": \"RI\",\n",
    "    \"South Carolina\": \"SC\",\n",
    "    \"South Dakota\": \"SD\",\n",
    "    \"Tennessee\": \"TN\",\n",
    "    \"Texas\": \"TX\",\n",
    "    \"Utah\": \"UT\",\n",
    "    \"Vermont\": \"VT\",\n",
    "    \"Virginia\": \"VA\",\n",
    "    \"Washington\": \"WA\",\n",
    "    \"West Virginia\": \"WV\",\n",
    "    \"Wisconsin\": \"WI\",\n",
    "    \"Wyoming\": \"WY\"\n",
    "}\n",
    "candidates_eda['State'].replace(us_states, regex=True, inplace=True)\n",
    "candidates_eda.tail(30)"
   ]
  },
  {
   "cell_type": "code",
   "execution_count": 227,
   "id": "41f6664b",
   "metadata": {},
   "outputs": [
    {
     "data": {
      "text/html": [
       "<div>\n",
       "<style scoped>\n",
       "    .dataframe tbody tr th:only-of-type {\n",
       "        vertical-align: middle;\n",
       "    }\n",
       "\n",
       "    .dataframe tbody tr th {\n",
       "        vertical-align: top;\n",
       "    }\n",
       "\n",
       "    .dataframe thead th {\n",
       "        text-align: right;\n",
       "    }\n",
       "</style>\n",
       "<table border=\"1\" class=\"dataframe\">\n",
       "  <thead>\n",
       "    <tr style=\"text-align: right;\">\n",
       "      <th></th>\n",
       "      <th>Name</th>\n",
       "      <th>Party</th>\n",
       "      <th>State</th>\n",
       "      <th>District Number</th>\n",
       "      <th>Incumbent Status</th>\n",
       "      <th>Winner Status</th>\n",
       "      <th>Percentage of Vote</th>\n",
       "      <th>Total Amount Raised</th>\n",
       "      <th>Total Amount Spent</th>\n",
       "      <th>State_District</th>\n",
       "    </tr>\n",
       "  </thead>\n",
       "  <tbody>\n",
       "    <tr>\n",
       "      <th>865</th>\n",
       "      <td>Doug Basler</td>\n",
       "      <td>(R)</td>\n",
       "      <td>WA</td>\n",
       "      <td>09</td>\n",
       "      <td>N/a</td>\n",
       "      <td>N/a</td>\n",
       "      <td>25.7</td>\n",
       "      <td>22536</td>\n",
       "      <td>18328</td>\n",
       "      <td>WA09</td>\n",
       "    </tr>\n",
       "    <tr>\n",
       "      <th>866</th>\n",
       "      <td>Marilyn Strickland</td>\n",
       "      <td>(D)</td>\n",
       "      <td>WA</td>\n",
       "      <td>10</td>\n",
       "      <td>N/a</td>\n",
       "      <td>Winner</td>\n",
       "      <td>49.6</td>\n",
       "      <td>1812659</td>\n",
       "      <td>1780633</td>\n",
       "      <td>WA10</td>\n",
       "    </tr>\n",
       "    <tr>\n",
       "      <th>867</th>\n",
       "      <td>Beth Doglio</td>\n",
       "      <td>(D)</td>\n",
       "      <td>WA</td>\n",
       "      <td>10</td>\n",
       "      <td>N/a</td>\n",
       "      <td>N/a</td>\n",
       "      <td>35.7</td>\n",
       "      <td>1477678</td>\n",
       "      <td>1477678</td>\n",
       "      <td>WA10</td>\n",
       "    </tr>\n",
       "    <tr>\n",
       "      <th>868</th>\n",
       "      <td>David McKinley</td>\n",
       "      <td>(R)</td>\n",
       "      <td>WV</td>\n",
       "      <td>01</td>\n",
       "      <td>Incumbent</td>\n",
       "      <td>Winner</td>\n",
       "      <td>69.0</td>\n",
       "      <td>1092609</td>\n",
       "      <td>1085864</td>\n",
       "      <td>West VA01</td>\n",
       "    </tr>\n",
       "    <tr>\n",
       "      <th>869</th>\n",
       "      <td>Natalie Ms. Cline</td>\n",
       "      <td>(D)</td>\n",
       "      <td>WV</td>\n",
       "      <td>01</td>\n",
       "      <td>N/a</td>\n",
       "      <td>N/a</td>\n",
       "      <td>31.0</td>\n",
       "      <td>81032</td>\n",
       "      <td>81881</td>\n",
       "      <td>West VA01</td>\n",
       "    </tr>\n",
       "    <tr>\n",
       "      <th>870</th>\n",
       "      <td>Alex Mooney</td>\n",
       "      <td>(R)</td>\n",
       "      <td>WV</td>\n",
       "      <td>02</td>\n",
       "      <td>Incumbent</td>\n",
       "      <td>Winner</td>\n",
       "      <td>63.1</td>\n",
       "      <td>2155978</td>\n",
       "      <td>864001</td>\n",
       "      <td>West VA02</td>\n",
       "    </tr>\n",
       "    <tr>\n",
       "      <th>871</th>\n",
       "      <td>Catherine Kunkel</td>\n",
       "      <td>(D)</td>\n",
       "      <td>WV</td>\n",
       "      <td>02</td>\n",
       "      <td>N/a</td>\n",
       "      <td>N/a</td>\n",
       "      <td>36.9</td>\n",
       "      <td>641567</td>\n",
       "      <td>641567</td>\n",
       "      <td>West VA02</td>\n",
       "    </tr>\n",
       "    <tr>\n",
       "      <th>872</th>\n",
       "      <td>Carol Miller</td>\n",
       "      <td>(R)</td>\n",
       "      <td>WV</td>\n",
       "      <td>03</td>\n",
       "      <td>Incumbent</td>\n",
       "      <td>Winner</td>\n",
       "      <td>71.3</td>\n",
       "      <td>869210</td>\n",
       "      <td>720796</td>\n",
       "      <td>West VA03</td>\n",
       "    </tr>\n",
       "    <tr>\n",
       "      <th>873</th>\n",
       "      <td>Hilary Turner</td>\n",
       "      <td>(D)</td>\n",
       "      <td>WV</td>\n",
       "      <td>03</td>\n",
       "      <td>N/a</td>\n",
       "      <td>N/a</td>\n",
       "      <td>28.7</td>\n",
       "      <td>99214</td>\n",
       "      <td>98769</td>\n",
       "      <td>West VA03</td>\n",
       "    </tr>\n",
       "    <tr>\n",
       "      <th>874</th>\n",
       "      <td>Belinda Fox-Spencer</td>\n",
       "      <td>(I)</td>\n",
       "      <td>WV</td>\n",
       "      <td>03</td>\n",
       "      <td>N/a</td>\n",
       "      <td>N/a</td>\n",
       "      <td>0.0</td>\n",
       "      <td>5207</td>\n",
       "      <td>5207</td>\n",
       "      <td>West VA03</td>\n",
       "    </tr>\n",
       "    <tr>\n",
       "      <th>875</th>\n",
       "      <td>Bryan Steil</td>\n",
       "      <td>(R)</td>\n",
       "      <td>WI</td>\n",
       "      <td>01</td>\n",
       "      <td>Incumbent</td>\n",
       "      <td>Winner</td>\n",
       "      <td>59.4</td>\n",
       "      <td>3500849</td>\n",
       "      <td>3151701</td>\n",
       "      <td>WI01</td>\n",
       "    </tr>\n",
       "    <tr>\n",
       "      <th>876</th>\n",
       "      <td>Roger Polack</td>\n",
       "      <td>(D)</td>\n",
       "      <td>WI</td>\n",
       "      <td>01</td>\n",
       "      <td>N/a</td>\n",
       "      <td>N/a</td>\n",
       "      <td>40.7</td>\n",
       "      <td>536228</td>\n",
       "      <td>526431</td>\n",
       "      <td>WI01</td>\n",
       "    </tr>\n",
       "    <tr>\n",
       "      <th>877</th>\n",
       "      <td>Mark Pocan</td>\n",
       "      <td>(D)</td>\n",
       "      <td>WI</td>\n",
       "      <td>02</td>\n",
       "      <td>Incumbent</td>\n",
       "      <td>Winner</td>\n",
       "      <td>69.7</td>\n",
       "      <td>1290582</td>\n",
       "      <td>1014628</td>\n",
       "      <td>WI02</td>\n",
       "    </tr>\n",
       "    <tr>\n",
       "      <th>878</th>\n",
       "      <td>Peter Theron</td>\n",
       "      <td>(R)</td>\n",
       "      <td>WI</td>\n",
       "      <td>02</td>\n",
       "      <td>N/a</td>\n",
       "      <td>N/a</td>\n",
       "      <td>30.3</td>\n",
       "      <td>35753</td>\n",
       "      <td>33977</td>\n",
       "      <td>WI02</td>\n",
       "    </tr>\n",
       "    <tr>\n",
       "      <th>879</th>\n",
       "      <td>Ron Kind</td>\n",
       "      <td>(D)</td>\n",
       "      <td>WI</td>\n",
       "      <td>03</td>\n",
       "      <td>Incumbent</td>\n",
       "      <td>Winner</td>\n",
       "      <td>51.4</td>\n",
       "      <td>2989262</td>\n",
       "      <td>4435403</td>\n",
       "      <td>WI03</td>\n",
       "    </tr>\n",
       "    <tr>\n",
       "      <th>880</th>\n",
       "      <td>Derrick Van Orden</td>\n",
       "      <td>(R)</td>\n",
       "      <td>WI</td>\n",
       "      <td>03</td>\n",
       "      <td>N/a</td>\n",
       "      <td>N/a</td>\n",
       "      <td>48.6</td>\n",
       "      <td>1962443</td>\n",
       "      <td>1948639</td>\n",
       "      <td>WI03</td>\n",
       "    </tr>\n",
       "    <tr>\n",
       "      <th>881</th>\n",
       "      <td>Gwen Moore</td>\n",
       "      <td>(D)</td>\n",
       "      <td>WI</td>\n",
       "      <td>04</td>\n",
       "      <td>Incumbent</td>\n",
       "      <td>Winner</td>\n",
       "      <td>74.7</td>\n",
       "      <td>1183995</td>\n",
       "      <td>1166739</td>\n",
       "      <td>WI04</td>\n",
       "    </tr>\n",
       "    <tr>\n",
       "      <th>882</th>\n",
       "      <td>Scott Fitzgerald</td>\n",
       "      <td>(R)</td>\n",
       "      <td>WI</td>\n",
       "      <td>05</td>\n",
       "      <td>N/a</td>\n",
       "      <td>Winner</td>\n",
       "      <td>60.2</td>\n",
       "      <td>1155721</td>\n",
       "      <td>968406</td>\n",
       "      <td>WI05</td>\n",
       "    </tr>\n",
       "    <tr>\n",
       "      <th>883</th>\n",
       "      <td>Tom Palzewicz</td>\n",
       "      <td>(D)</td>\n",
       "      <td>WI</td>\n",
       "      <td>05</td>\n",
       "      <td>N/a</td>\n",
       "      <td>N/a</td>\n",
       "      <td>39.9</td>\n",
       "      <td>370392</td>\n",
       "      <td>371799</td>\n",
       "      <td>WI05</td>\n",
       "    </tr>\n",
       "    <tr>\n",
       "      <th>884</th>\n",
       "      <td>Glenn S Grothman</td>\n",
       "      <td>(R)</td>\n",
       "      <td>WI</td>\n",
       "      <td>06</td>\n",
       "      <td>Incumbent</td>\n",
       "      <td>Winner</td>\n",
       "      <td>59.3</td>\n",
       "      <td>1815756</td>\n",
       "      <td>1736659</td>\n",
       "      <td>WI06</td>\n",
       "    </tr>\n",
       "    <tr>\n",
       "      <th>885</th>\n",
       "      <td>Jessica King</td>\n",
       "      <td>(D)</td>\n",
       "      <td>WI</td>\n",
       "      <td>06</td>\n",
       "      <td>N/a</td>\n",
       "      <td>N/a</td>\n",
       "      <td>40.7</td>\n",
       "      <td>287753</td>\n",
       "      <td>245788</td>\n",
       "      <td>WI06</td>\n",
       "    </tr>\n",
       "    <tr>\n",
       "      <th>886</th>\n",
       "      <td>Tom Tiffany</td>\n",
       "      <td>(R)</td>\n",
       "      <td>WI</td>\n",
       "      <td>07</td>\n",
       "      <td>Incumbent</td>\n",
       "      <td>Winner</td>\n",
       "      <td>60.8</td>\n",
       "      <td>2637459</td>\n",
       "      <td>2514740</td>\n",
       "      <td>WI07</td>\n",
       "    </tr>\n",
       "    <tr>\n",
       "      <th>887</th>\n",
       "      <td>Tricia Zunker</td>\n",
       "      <td>(D)</td>\n",
       "      <td>WI</td>\n",
       "      <td>07</td>\n",
       "      <td>N/a</td>\n",
       "      <td>N/a</td>\n",
       "      <td>39.2</td>\n",
       "      <td>1261957</td>\n",
       "      <td>1232690</td>\n",
       "      <td>WI07</td>\n",
       "    </tr>\n",
       "    <tr>\n",
       "      <th>888</th>\n",
       "      <td>Mike Gallagher</td>\n",
       "      <td>(R)</td>\n",
       "      <td>WI</td>\n",
       "      <td>08</td>\n",
       "      <td>Incumbent</td>\n",
       "      <td>Winner</td>\n",
       "      <td>64.0</td>\n",
       "      <td>3202905</td>\n",
       "      <td>2841801</td>\n",
       "      <td>WI08</td>\n",
       "    </tr>\n",
       "    <tr>\n",
       "      <th>889</th>\n",
       "      <td>Amanda Stuck</td>\n",
       "      <td>(D)</td>\n",
       "      <td>WI</td>\n",
       "      <td>08</td>\n",
       "      <td>N/a</td>\n",
       "      <td>N/a</td>\n",
       "      <td>36.0</td>\n",
       "      <td>416978</td>\n",
       "      <td>399916</td>\n",
       "      <td>WI08</td>\n",
       "    </tr>\n",
       "    <tr>\n",
       "      <th>890</th>\n",
       "      <td>Liz Cheney</td>\n",
       "      <td>(R)</td>\n",
       "      <td>WY</td>\n",
       "      <td>01</td>\n",
       "      <td>Incumbent</td>\n",
       "      <td>Winner</td>\n",
       "      <td>68.6</td>\n",
       "      <td>3003883</td>\n",
       "      <td>3060167</td>\n",
       "      <td>WY01</td>\n",
       "    </tr>\n",
       "    <tr>\n",
       "      <th>891</th>\n",
       "      <td>Lynnette Grey Bull</td>\n",
       "      <td>(D)</td>\n",
       "      <td>WY</td>\n",
       "      <td>01</td>\n",
       "      <td>N/a</td>\n",
       "      <td>N/a</td>\n",
       "      <td>24.6</td>\n",
       "      <td>134597</td>\n",
       "      <td>132235</td>\n",
       "      <td>WY01</td>\n",
       "    </tr>\n",
       "    <tr>\n",
       "      <th>892</th>\n",
       "      <td>Eleanor Holmes Norton</td>\n",
       "      <td>(D)</td>\n",
       "      <td>DC</td>\n",
       "      <td>00</td>\n",
       "      <td>Incumbent</td>\n",
       "      <td>Winner</td>\n",
       "      <td>86.3</td>\n",
       "      <td>386989</td>\n",
       "      <td>358925</td>\n",
       "      <td>DC00</td>\n",
       "    </tr>\n",
       "    <tr>\n",
       "      <th>893</th>\n",
       "      <td>Barbara Washington Franklin</td>\n",
       "      <td>(I)</td>\n",
       "      <td>DC</td>\n",
       "      <td>00</td>\n",
       "      <td>N/a</td>\n",
       "      <td>N/a</td>\n",
       "      <td>0.0</td>\n",
       "      <td>14070</td>\n",
       "      <td>16530</td>\n",
       "      <td>DC00</td>\n",
       "    </tr>\n",
       "    <tr>\n",
       "      <th>894</th>\n",
       "      <td>David Krucoff</td>\n",
       "      <td>(I)</td>\n",
       "      <td>DC</td>\n",
       "      <td>00</td>\n",
       "      <td>N/a</td>\n",
       "      <td>N/a</td>\n",
       "      <td>1.5</td>\n",
       "      <td>12133</td>\n",
       "      <td>12069</td>\n",
       "      <td>DC00</td>\n",
       "    </tr>\n",
       "  </tbody>\n",
       "</table>\n",
       "</div>"
      ],
      "text/plain": [
       "                             Name Party State District Number  \\\n",
       "865                  Doug Basler    (R)    WA              09   \n",
       "866           Marilyn Strickland    (D)    WA              10   \n",
       "867                  Beth Doglio    (D)    WA              10   \n",
       "868               David McKinley    (R)    WV              01   \n",
       "869            Natalie Ms. Cline    (D)    WV              01   \n",
       "870                  Alex Mooney    (R)    WV              02   \n",
       "871             Catherine Kunkel    (D)    WV              02   \n",
       "872                 Carol Miller    (R)    WV              03   \n",
       "873                Hilary Turner    (D)    WV              03   \n",
       "874          Belinda Fox-Spencer    (I)    WV              03   \n",
       "875                  Bryan Steil    (R)    WI              01   \n",
       "876                 Roger Polack    (D)    WI              01   \n",
       "877                   Mark Pocan    (D)    WI              02   \n",
       "878                 Peter Theron    (R)    WI              02   \n",
       "879                     Ron Kind    (D)    WI              03   \n",
       "880            Derrick Van Orden    (R)    WI              03   \n",
       "881                   Gwen Moore    (D)    WI              04   \n",
       "882             Scott Fitzgerald    (R)    WI              05   \n",
       "883                Tom Palzewicz    (D)    WI              05   \n",
       "884             Glenn S Grothman    (R)    WI              06   \n",
       "885                 Jessica King    (D)    WI              06   \n",
       "886                  Tom Tiffany    (R)    WI              07   \n",
       "887                Tricia Zunker    (D)    WI              07   \n",
       "888               Mike Gallagher    (R)    WI              08   \n",
       "889                 Amanda Stuck    (D)    WI              08   \n",
       "890                   Liz Cheney    (R)    WY              01   \n",
       "891           Lynnette Grey Bull    (D)    WY              01   \n",
       "892        Eleanor Holmes Norton    (D)    DC              00   \n",
       "893  Barbara Washington Franklin    (I)    DC              00   \n",
       "894                David Krucoff    (I)    DC              00   \n",
       "\n",
       "    Incumbent Status Winner Status  Percentage of Vote  Total Amount Raised  \\\n",
       "865              N/a           N/a                25.7                22536   \n",
       "866              N/a        Winner                49.6              1812659   \n",
       "867              N/a           N/a                35.7              1477678   \n",
       "868        Incumbent        Winner                69.0              1092609   \n",
       "869              N/a           N/a                31.0                81032   \n",
       "870        Incumbent        Winner                63.1              2155978   \n",
       "871              N/a           N/a                36.9               641567   \n",
       "872        Incumbent        Winner                71.3               869210   \n",
       "873              N/a           N/a                28.7                99214   \n",
       "874              N/a           N/a                 0.0                 5207   \n",
       "875        Incumbent        Winner                59.4              3500849   \n",
       "876              N/a           N/a                40.7               536228   \n",
       "877        Incumbent        Winner                69.7              1290582   \n",
       "878              N/a           N/a                30.3                35753   \n",
       "879        Incumbent        Winner                51.4              2989262   \n",
       "880              N/a           N/a                48.6              1962443   \n",
       "881        Incumbent        Winner                74.7              1183995   \n",
       "882              N/a        Winner                60.2              1155721   \n",
       "883              N/a           N/a                39.9               370392   \n",
       "884        Incumbent        Winner                59.3              1815756   \n",
       "885              N/a           N/a                40.7               287753   \n",
       "886        Incumbent        Winner                60.8              2637459   \n",
       "887              N/a           N/a                39.2              1261957   \n",
       "888        Incumbent        Winner                64.0              3202905   \n",
       "889              N/a           N/a                36.0               416978   \n",
       "890        Incumbent        Winner                68.6              3003883   \n",
       "891              N/a           N/a                24.6               134597   \n",
       "892        Incumbent        Winner                86.3               386989   \n",
       "893              N/a           N/a                 0.0                14070   \n",
       "894              N/a           N/a                 1.5                12133   \n",
       "\n",
       "     Total Amount Spent State_District  \n",
       "865               18328           WA09  \n",
       "866             1780633           WA10  \n",
       "867             1477678           WA10  \n",
       "868             1085864      West VA01  \n",
       "869               81881      West VA01  \n",
       "870              864001      West VA02  \n",
       "871              641567      West VA02  \n",
       "872              720796      West VA03  \n",
       "873               98769      West VA03  \n",
       "874                5207      West VA03  \n",
       "875             3151701           WI01  \n",
       "876              526431           WI01  \n",
       "877             1014628           WI02  \n",
       "878               33977           WI02  \n",
       "879             4435403           WI03  \n",
       "880             1948639           WI03  \n",
       "881             1166739           WI04  \n",
       "882              968406           WI05  \n",
       "883              371799           WI05  \n",
       "884             1736659           WI06  \n",
       "885              245788           WI06  \n",
       "886             2514740           WI07  \n",
       "887             1232690           WI07  \n",
       "888             2841801           WI08  \n",
       "889              399916           WI08  \n",
       "890             3060167           WY01  \n",
       "891              132235           WY01  \n",
       "892              358925           DC00  \n",
       "893               16530           DC00  \n",
       "894               12069           DC00  "
      ]
     },
     "execution_count": 227,
     "metadata": {},
     "output_type": "execute_result"
    }
   ],
   "source": [
    "# Fix West Virginia\n",
    "candidates_eda['State'] = candidates_eda['State'].str.replace('West VA', 'WV')\n",
    "candidates_eda.tail(30)"
   ]
  },
  {
   "cell_type": "code",
   "execution_count": 228,
   "id": "0fee4060",
   "metadata": {
    "scrolled": false
   },
   "outputs": [
    {
     "data": {
      "text/html": [
       "<div>\n",
       "<style scoped>\n",
       "    .dataframe tbody tr th:only-of-type {\n",
       "        vertical-align: middle;\n",
       "    }\n",
       "\n",
       "    .dataframe tbody tr th {\n",
       "        vertical-align: top;\n",
       "    }\n",
       "\n",
       "    .dataframe thead th {\n",
       "        text-align: right;\n",
       "    }\n",
       "</style>\n",
       "<table border=\"1\" class=\"dataframe\">\n",
       "  <thead>\n",
       "    <tr style=\"text-align: right;\">\n",
       "      <th></th>\n",
       "      <th>Name</th>\n",
       "      <th>Party</th>\n",
       "      <th>State</th>\n",
       "      <th>District Number</th>\n",
       "      <th>Incumbent Status</th>\n",
       "      <th>Winner Status</th>\n",
       "      <th>Percentage of Vote</th>\n",
       "      <th>Total Amount Raised</th>\n",
       "      <th>Total Amount Spent</th>\n",
       "      <th>State_District</th>\n",
       "    </tr>\n",
       "  </thead>\n",
       "  <tbody>\n",
       "    <tr>\n",
       "      <th>865</th>\n",
       "      <td>Doug Basler</td>\n",
       "      <td>(R)</td>\n",
       "      <td>WA</td>\n",
       "      <td>09</td>\n",
       "      <td>N/a</td>\n",
       "      <td>N/a</td>\n",
       "      <td>25.7</td>\n",
       "      <td>22536</td>\n",
       "      <td>18328</td>\n",
       "      <td>WA09</td>\n",
       "    </tr>\n",
       "    <tr>\n",
       "      <th>866</th>\n",
       "      <td>Marilyn Strickland</td>\n",
       "      <td>(D)</td>\n",
       "      <td>WA</td>\n",
       "      <td>10</td>\n",
       "      <td>N/a</td>\n",
       "      <td>Winner</td>\n",
       "      <td>49.6</td>\n",
       "      <td>1812659</td>\n",
       "      <td>1780633</td>\n",
       "      <td>WA10</td>\n",
       "    </tr>\n",
       "    <tr>\n",
       "      <th>867</th>\n",
       "      <td>Beth Doglio</td>\n",
       "      <td>(D)</td>\n",
       "      <td>WA</td>\n",
       "      <td>10</td>\n",
       "      <td>N/a</td>\n",
       "      <td>N/a</td>\n",
       "      <td>35.7</td>\n",
       "      <td>1477678</td>\n",
       "      <td>1477678</td>\n",
       "      <td>WA10</td>\n",
       "    </tr>\n",
       "    <tr>\n",
       "      <th>868</th>\n",
       "      <td>David McKinley</td>\n",
       "      <td>(R)</td>\n",
       "      <td>WV</td>\n",
       "      <td>01</td>\n",
       "      <td>Incumbent</td>\n",
       "      <td>Winner</td>\n",
       "      <td>69.0</td>\n",
       "      <td>1092609</td>\n",
       "      <td>1085864</td>\n",
       "      <td>WV01</td>\n",
       "    </tr>\n",
       "    <tr>\n",
       "      <th>869</th>\n",
       "      <td>Natalie Ms. Cline</td>\n",
       "      <td>(D)</td>\n",
       "      <td>WV</td>\n",
       "      <td>01</td>\n",
       "      <td>N/a</td>\n",
       "      <td>N/a</td>\n",
       "      <td>31.0</td>\n",
       "      <td>81032</td>\n",
       "      <td>81881</td>\n",
       "      <td>WV01</td>\n",
       "    </tr>\n",
       "    <tr>\n",
       "      <th>870</th>\n",
       "      <td>Alex Mooney</td>\n",
       "      <td>(R)</td>\n",
       "      <td>WV</td>\n",
       "      <td>02</td>\n",
       "      <td>Incumbent</td>\n",
       "      <td>Winner</td>\n",
       "      <td>63.1</td>\n",
       "      <td>2155978</td>\n",
       "      <td>864001</td>\n",
       "      <td>WV02</td>\n",
       "    </tr>\n",
       "    <tr>\n",
       "      <th>871</th>\n",
       "      <td>Catherine Kunkel</td>\n",
       "      <td>(D)</td>\n",
       "      <td>WV</td>\n",
       "      <td>02</td>\n",
       "      <td>N/a</td>\n",
       "      <td>N/a</td>\n",
       "      <td>36.9</td>\n",
       "      <td>641567</td>\n",
       "      <td>641567</td>\n",
       "      <td>WV02</td>\n",
       "    </tr>\n",
       "    <tr>\n",
       "      <th>872</th>\n",
       "      <td>Carol Miller</td>\n",
       "      <td>(R)</td>\n",
       "      <td>WV</td>\n",
       "      <td>03</td>\n",
       "      <td>Incumbent</td>\n",
       "      <td>Winner</td>\n",
       "      <td>71.3</td>\n",
       "      <td>869210</td>\n",
       "      <td>720796</td>\n",
       "      <td>WV03</td>\n",
       "    </tr>\n",
       "    <tr>\n",
       "      <th>873</th>\n",
       "      <td>Hilary Turner</td>\n",
       "      <td>(D)</td>\n",
       "      <td>WV</td>\n",
       "      <td>03</td>\n",
       "      <td>N/a</td>\n",
       "      <td>N/a</td>\n",
       "      <td>28.7</td>\n",
       "      <td>99214</td>\n",
       "      <td>98769</td>\n",
       "      <td>WV03</td>\n",
       "    </tr>\n",
       "    <tr>\n",
       "      <th>874</th>\n",
       "      <td>Belinda Fox-Spencer</td>\n",
       "      <td>(I)</td>\n",
       "      <td>WV</td>\n",
       "      <td>03</td>\n",
       "      <td>N/a</td>\n",
       "      <td>N/a</td>\n",
       "      <td>0.0</td>\n",
       "      <td>5207</td>\n",
       "      <td>5207</td>\n",
       "      <td>WV03</td>\n",
       "    </tr>\n",
       "    <tr>\n",
       "      <th>875</th>\n",
       "      <td>Bryan Steil</td>\n",
       "      <td>(R)</td>\n",
       "      <td>WI</td>\n",
       "      <td>01</td>\n",
       "      <td>Incumbent</td>\n",
       "      <td>Winner</td>\n",
       "      <td>59.4</td>\n",
       "      <td>3500849</td>\n",
       "      <td>3151701</td>\n",
       "      <td>WI01</td>\n",
       "    </tr>\n",
       "    <tr>\n",
       "      <th>876</th>\n",
       "      <td>Roger Polack</td>\n",
       "      <td>(D)</td>\n",
       "      <td>WI</td>\n",
       "      <td>01</td>\n",
       "      <td>N/a</td>\n",
       "      <td>N/a</td>\n",
       "      <td>40.7</td>\n",
       "      <td>536228</td>\n",
       "      <td>526431</td>\n",
       "      <td>WI01</td>\n",
       "    </tr>\n",
       "    <tr>\n",
       "      <th>877</th>\n",
       "      <td>Mark Pocan</td>\n",
       "      <td>(D)</td>\n",
       "      <td>WI</td>\n",
       "      <td>02</td>\n",
       "      <td>Incumbent</td>\n",
       "      <td>Winner</td>\n",
       "      <td>69.7</td>\n",
       "      <td>1290582</td>\n",
       "      <td>1014628</td>\n",
       "      <td>WI02</td>\n",
       "    </tr>\n",
       "    <tr>\n",
       "      <th>878</th>\n",
       "      <td>Peter Theron</td>\n",
       "      <td>(R)</td>\n",
       "      <td>WI</td>\n",
       "      <td>02</td>\n",
       "      <td>N/a</td>\n",
       "      <td>N/a</td>\n",
       "      <td>30.3</td>\n",
       "      <td>35753</td>\n",
       "      <td>33977</td>\n",
       "      <td>WI02</td>\n",
       "    </tr>\n",
       "    <tr>\n",
       "      <th>879</th>\n",
       "      <td>Ron Kind</td>\n",
       "      <td>(D)</td>\n",
       "      <td>WI</td>\n",
       "      <td>03</td>\n",
       "      <td>Incumbent</td>\n",
       "      <td>Winner</td>\n",
       "      <td>51.4</td>\n",
       "      <td>2989262</td>\n",
       "      <td>4435403</td>\n",
       "      <td>WI03</td>\n",
       "    </tr>\n",
       "    <tr>\n",
       "      <th>880</th>\n",
       "      <td>Derrick Van Orden</td>\n",
       "      <td>(R)</td>\n",
       "      <td>WI</td>\n",
       "      <td>03</td>\n",
       "      <td>N/a</td>\n",
       "      <td>N/a</td>\n",
       "      <td>48.6</td>\n",
       "      <td>1962443</td>\n",
       "      <td>1948639</td>\n",
       "      <td>WI03</td>\n",
       "    </tr>\n",
       "    <tr>\n",
       "      <th>881</th>\n",
       "      <td>Gwen Moore</td>\n",
       "      <td>(D)</td>\n",
       "      <td>WI</td>\n",
       "      <td>04</td>\n",
       "      <td>Incumbent</td>\n",
       "      <td>Winner</td>\n",
       "      <td>74.7</td>\n",
       "      <td>1183995</td>\n",
       "      <td>1166739</td>\n",
       "      <td>WI04</td>\n",
       "    </tr>\n",
       "    <tr>\n",
       "      <th>882</th>\n",
       "      <td>Scott Fitzgerald</td>\n",
       "      <td>(R)</td>\n",
       "      <td>WI</td>\n",
       "      <td>05</td>\n",
       "      <td>N/a</td>\n",
       "      <td>Winner</td>\n",
       "      <td>60.2</td>\n",
       "      <td>1155721</td>\n",
       "      <td>968406</td>\n",
       "      <td>WI05</td>\n",
       "    </tr>\n",
       "    <tr>\n",
       "      <th>883</th>\n",
       "      <td>Tom Palzewicz</td>\n",
       "      <td>(D)</td>\n",
       "      <td>WI</td>\n",
       "      <td>05</td>\n",
       "      <td>N/a</td>\n",
       "      <td>N/a</td>\n",
       "      <td>39.9</td>\n",
       "      <td>370392</td>\n",
       "      <td>371799</td>\n",
       "      <td>WI05</td>\n",
       "    </tr>\n",
       "    <tr>\n",
       "      <th>884</th>\n",
       "      <td>Glenn S Grothman</td>\n",
       "      <td>(R)</td>\n",
       "      <td>WI</td>\n",
       "      <td>06</td>\n",
       "      <td>Incumbent</td>\n",
       "      <td>Winner</td>\n",
       "      <td>59.3</td>\n",
       "      <td>1815756</td>\n",
       "      <td>1736659</td>\n",
       "      <td>WI06</td>\n",
       "    </tr>\n",
       "    <tr>\n",
       "      <th>885</th>\n",
       "      <td>Jessica King</td>\n",
       "      <td>(D)</td>\n",
       "      <td>WI</td>\n",
       "      <td>06</td>\n",
       "      <td>N/a</td>\n",
       "      <td>N/a</td>\n",
       "      <td>40.7</td>\n",
       "      <td>287753</td>\n",
       "      <td>245788</td>\n",
       "      <td>WI06</td>\n",
       "    </tr>\n",
       "    <tr>\n",
       "      <th>886</th>\n",
       "      <td>Tom Tiffany</td>\n",
       "      <td>(R)</td>\n",
       "      <td>WI</td>\n",
       "      <td>07</td>\n",
       "      <td>Incumbent</td>\n",
       "      <td>Winner</td>\n",
       "      <td>60.8</td>\n",
       "      <td>2637459</td>\n",
       "      <td>2514740</td>\n",
       "      <td>WI07</td>\n",
       "    </tr>\n",
       "    <tr>\n",
       "      <th>887</th>\n",
       "      <td>Tricia Zunker</td>\n",
       "      <td>(D)</td>\n",
       "      <td>WI</td>\n",
       "      <td>07</td>\n",
       "      <td>N/a</td>\n",
       "      <td>N/a</td>\n",
       "      <td>39.2</td>\n",
       "      <td>1261957</td>\n",
       "      <td>1232690</td>\n",
       "      <td>WI07</td>\n",
       "    </tr>\n",
       "    <tr>\n",
       "      <th>888</th>\n",
       "      <td>Mike Gallagher</td>\n",
       "      <td>(R)</td>\n",
       "      <td>WI</td>\n",
       "      <td>08</td>\n",
       "      <td>Incumbent</td>\n",
       "      <td>Winner</td>\n",
       "      <td>64.0</td>\n",
       "      <td>3202905</td>\n",
       "      <td>2841801</td>\n",
       "      <td>WI08</td>\n",
       "    </tr>\n",
       "    <tr>\n",
       "      <th>889</th>\n",
       "      <td>Amanda Stuck</td>\n",
       "      <td>(D)</td>\n",
       "      <td>WI</td>\n",
       "      <td>08</td>\n",
       "      <td>N/a</td>\n",
       "      <td>N/a</td>\n",
       "      <td>36.0</td>\n",
       "      <td>416978</td>\n",
       "      <td>399916</td>\n",
       "      <td>WI08</td>\n",
       "    </tr>\n",
       "    <tr>\n",
       "      <th>890</th>\n",
       "      <td>Liz Cheney</td>\n",
       "      <td>(R)</td>\n",
       "      <td>WY</td>\n",
       "      <td>01</td>\n",
       "      <td>Incumbent</td>\n",
       "      <td>Winner</td>\n",
       "      <td>68.6</td>\n",
       "      <td>3003883</td>\n",
       "      <td>3060167</td>\n",
       "      <td>WY01</td>\n",
       "    </tr>\n",
       "    <tr>\n",
       "      <th>891</th>\n",
       "      <td>Lynnette Grey Bull</td>\n",
       "      <td>(D)</td>\n",
       "      <td>WY</td>\n",
       "      <td>01</td>\n",
       "      <td>N/a</td>\n",
       "      <td>N/a</td>\n",
       "      <td>24.6</td>\n",
       "      <td>134597</td>\n",
       "      <td>132235</td>\n",
       "      <td>WY01</td>\n",
       "    </tr>\n",
       "    <tr>\n",
       "      <th>892</th>\n",
       "      <td>Eleanor Holmes Norton</td>\n",
       "      <td>(D)</td>\n",
       "      <td>DC</td>\n",
       "      <td>00</td>\n",
       "      <td>Incumbent</td>\n",
       "      <td>Winner</td>\n",
       "      <td>86.3</td>\n",
       "      <td>386989</td>\n",
       "      <td>358925</td>\n",
       "      <td>DC00</td>\n",
       "    </tr>\n",
       "    <tr>\n",
       "      <th>893</th>\n",
       "      <td>Barbara Washington Franklin</td>\n",
       "      <td>(I)</td>\n",
       "      <td>DC</td>\n",
       "      <td>00</td>\n",
       "      <td>N/a</td>\n",
       "      <td>N/a</td>\n",
       "      <td>0.0</td>\n",
       "      <td>14070</td>\n",
       "      <td>16530</td>\n",
       "      <td>DC00</td>\n",
       "    </tr>\n",
       "    <tr>\n",
       "      <th>894</th>\n",
       "      <td>David Krucoff</td>\n",
       "      <td>(I)</td>\n",
       "      <td>DC</td>\n",
       "      <td>00</td>\n",
       "      <td>N/a</td>\n",
       "      <td>N/a</td>\n",
       "      <td>1.5</td>\n",
       "      <td>12133</td>\n",
       "      <td>12069</td>\n",
       "      <td>DC00</td>\n",
       "    </tr>\n",
       "  </tbody>\n",
       "</table>\n",
       "</div>"
      ],
      "text/plain": [
       "                             Name Party State District Number  \\\n",
       "865                  Doug Basler    (R)    WA              09   \n",
       "866           Marilyn Strickland    (D)    WA              10   \n",
       "867                  Beth Doglio    (D)    WA              10   \n",
       "868               David McKinley    (R)    WV              01   \n",
       "869            Natalie Ms. Cline    (D)    WV              01   \n",
       "870                  Alex Mooney    (R)    WV              02   \n",
       "871             Catherine Kunkel    (D)    WV              02   \n",
       "872                 Carol Miller    (R)    WV              03   \n",
       "873                Hilary Turner    (D)    WV              03   \n",
       "874          Belinda Fox-Spencer    (I)    WV              03   \n",
       "875                  Bryan Steil    (R)    WI              01   \n",
       "876                 Roger Polack    (D)    WI              01   \n",
       "877                   Mark Pocan    (D)    WI              02   \n",
       "878                 Peter Theron    (R)    WI              02   \n",
       "879                     Ron Kind    (D)    WI              03   \n",
       "880            Derrick Van Orden    (R)    WI              03   \n",
       "881                   Gwen Moore    (D)    WI              04   \n",
       "882             Scott Fitzgerald    (R)    WI              05   \n",
       "883                Tom Palzewicz    (D)    WI              05   \n",
       "884             Glenn S Grothman    (R)    WI              06   \n",
       "885                 Jessica King    (D)    WI              06   \n",
       "886                  Tom Tiffany    (R)    WI              07   \n",
       "887                Tricia Zunker    (D)    WI              07   \n",
       "888               Mike Gallagher    (R)    WI              08   \n",
       "889                 Amanda Stuck    (D)    WI              08   \n",
       "890                   Liz Cheney    (R)    WY              01   \n",
       "891           Lynnette Grey Bull    (D)    WY              01   \n",
       "892        Eleanor Holmes Norton    (D)    DC              00   \n",
       "893  Barbara Washington Franklin    (I)    DC              00   \n",
       "894                David Krucoff    (I)    DC              00   \n",
       "\n",
       "    Incumbent Status Winner Status  Percentage of Vote  Total Amount Raised  \\\n",
       "865              N/a           N/a                25.7                22536   \n",
       "866              N/a        Winner                49.6              1812659   \n",
       "867              N/a           N/a                35.7              1477678   \n",
       "868        Incumbent        Winner                69.0              1092609   \n",
       "869              N/a           N/a                31.0                81032   \n",
       "870        Incumbent        Winner                63.1              2155978   \n",
       "871              N/a           N/a                36.9               641567   \n",
       "872        Incumbent        Winner                71.3               869210   \n",
       "873              N/a           N/a                28.7                99214   \n",
       "874              N/a           N/a                 0.0                 5207   \n",
       "875        Incumbent        Winner                59.4              3500849   \n",
       "876              N/a           N/a                40.7               536228   \n",
       "877        Incumbent        Winner                69.7              1290582   \n",
       "878              N/a           N/a                30.3                35753   \n",
       "879        Incumbent        Winner                51.4              2989262   \n",
       "880              N/a           N/a                48.6              1962443   \n",
       "881        Incumbent        Winner                74.7              1183995   \n",
       "882              N/a        Winner                60.2              1155721   \n",
       "883              N/a           N/a                39.9               370392   \n",
       "884        Incumbent        Winner                59.3              1815756   \n",
       "885              N/a           N/a                40.7               287753   \n",
       "886        Incumbent        Winner                60.8              2637459   \n",
       "887              N/a           N/a                39.2              1261957   \n",
       "888        Incumbent        Winner                64.0              3202905   \n",
       "889              N/a           N/a                36.0               416978   \n",
       "890        Incumbent        Winner                68.6              3003883   \n",
       "891              N/a           N/a                24.6               134597   \n",
       "892        Incumbent        Winner                86.3               386989   \n",
       "893              N/a           N/a                 0.0                14070   \n",
       "894              N/a           N/a                 1.5                12133   \n",
       "\n",
       "     Total Amount Spent State_District  \n",
       "865               18328           WA09  \n",
       "866             1780633           WA10  \n",
       "867             1477678           WA10  \n",
       "868             1085864           WV01  \n",
       "869               81881           WV01  \n",
       "870              864001           WV02  \n",
       "871              641567           WV02  \n",
       "872              720796           WV03  \n",
       "873               98769           WV03  \n",
       "874                5207           WV03  \n",
       "875             3151701           WI01  \n",
       "876              526431           WI01  \n",
       "877             1014628           WI02  \n",
       "878               33977           WI02  \n",
       "879             4435403           WI03  \n",
       "880             1948639           WI03  \n",
       "881             1166739           WI04  \n",
       "882              968406           WI05  \n",
       "883              371799           WI05  \n",
       "884             1736659           WI06  \n",
       "885              245788           WI06  \n",
       "886             2514740           WI07  \n",
       "887             1232690           WI07  \n",
       "888             2841801           WI08  \n",
       "889              399916           WI08  \n",
       "890             3060167           WY01  \n",
       "891              132235           WY01  \n",
       "892              358925           DC00  \n",
       "893               16530           DC00  \n",
       "894               12069           DC00  "
      ]
     },
     "execution_count": 228,
     "metadata": {},
     "output_type": "execute_result"
    }
   ],
   "source": [
    "# Create new column with state and district combined (easier for comparison and analysis)\n",
    "candidates_eda['State'] = candidates_eda['State'].str.replace('West VA', 'WV')\n",
    "candidates_eda['District Number'] = candidates_eda['District Number'].str.replace('District', '')\n",
    "candidates_eda['State_District'] = candidates_eda['State'] + candidates_eda['District Number'].str.replace(' ','')\n",
    "candidates_eda.tail(30)"
   ]
  },
  {
   "cell_type": "code",
   "execution_count": 229,
   "id": "58049191",
   "metadata": {},
   "outputs": [
    {
     "data": {
      "text/plain": [
       "432"
      ]
     },
     "execution_count": 229,
     "metadata": {},
     "output_type": "execute_result"
    }
   ],
   "source": [
    "candidates_eda['Winner Status'].str.count(\"Winner\").sum()"
   ]
  },
  {
   "cell_type": "code",
   "execution_count": 230,
   "id": "1f383869",
   "metadata": {
    "scrolled": true
   },
   "outputs": [
    {
     "data": {
      "text/html": [
       "<div>\n",
       "<style scoped>\n",
       "    .dataframe tbody tr th:only-of-type {\n",
       "        vertical-align: middle;\n",
       "    }\n",
       "\n",
       "    .dataframe tbody tr th {\n",
       "        vertical-align: top;\n",
       "    }\n",
       "\n",
       "    .dataframe thead th {\n",
       "        text-align: right;\n",
       "    }\n",
       "</style>\n",
       "<table border=\"1\" class=\"dataframe\">\n",
       "  <thead>\n",
       "    <tr style=\"text-align: right;\">\n",
       "      <th>Winner Status</th>\n",
       "      <th>N/a</th>\n",
       "      <th>Winner</th>\n",
       "    </tr>\n",
       "    <tr>\n",
       "      <th>State_District</th>\n",
       "      <th></th>\n",
       "      <th></th>\n",
       "    </tr>\n",
       "  </thead>\n",
       "  <tbody>\n",
       "    <tr>\n",
       "      <th>AK01</th>\n",
       "      <td>5178452.0</td>\n",
       "      <td>1922901.0</td>\n",
       "    </tr>\n",
       "    <tr>\n",
       "      <th>AL01</th>\n",
       "      <td>80095.0</td>\n",
       "      <td>1971321.0</td>\n",
       "    </tr>\n",
       "    <tr>\n",
       "      <th>AL02</th>\n",
       "      <td>56050.0</td>\n",
       "      <td>650807.0</td>\n",
       "    </tr>\n",
       "    <tr>\n",
       "      <th>AL03</th>\n",
       "      <td>50273.0</td>\n",
       "      <td>1193111.0</td>\n",
       "    </tr>\n",
       "    <tr>\n",
       "      <th>AR02</th>\n",
       "      <td>3482463.0</td>\n",
       "      <td>3384490.0</td>\n",
       "    </tr>\n",
       "    <tr>\n",
       "      <th>...</th>\n",
       "      <td>...</td>\n",
       "      <td>...</td>\n",
       "    </tr>\n",
       "    <tr>\n",
       "      <th>WI08</th>\n",
       "      <td>416978.0</td>\n",
       "      <td>3202905.0</td>\n",
       "    </tr>\n",
       "    <tr>\n",
       "      <th>WV01</th>\n",
       "      <td>81032.0</td>\n",
       "      <td>1092609.0</td>\n",
       "    </tr>\n",
       "    <tr>\n",
       "      <th>WV02</th>\n",
       "      <td>641567.0</td>\n",
       "      <td>2155978.0</td>\n",
       "    </tr>\n",
       "    <tr>\n",
       "      <th>WV03</th>\n",
       "      <td>52210.5</td>\n",
       "      <td>869210.0</td>\n",
       "    </tr>\n",
       "    <tr>\n",
       "      <th>WY01</th>\n",
       "      <td>134597.0</td>\n",
       "      <td>3003883.0</td>\n",
       "    </tr>\n",
       "  </tbody>\n",
       "</table>\n",
       "<p>372 rows × 2 columns</p>\n",
       "</div>"
      ],
      "text/plain": [
       "Winner Status         N/a     Winner\n",
       "State_District                      \n",
       "AK01            5178452.0  1922901.0\n",
       "AL01              80095.0  1971321.0\n",
       "AL02              56050.0   650807.0\n",
       "AL03              50273.0  1193111.0\n",
       "AR02            3482463.0  3384490.0\n",
       "...                   ...        ...\n",
       "WI08             416978.0  3202905.0\n",
       "WV01              81032.0  1092609.0\n",
       "WV02             641567.0  2155978.0\n",
       "WV03              52210.5   869210.0\n",
       "WY01             134597.0  3003883.0\n",
       "\n",
       "[372 rows x 2 columns]"
      ]
     },
     "execution_count": 230,
     "metadata": {},
     "output_type": "execute_result"
    }
   ],
   "source": [
    "# Pivot table comparing winners and money raised, dropna() filters out those uncontested\n",
    "raised_pivot = (\n",
    "    candidates_eda\n",
    "    .pivot_table(\n",
    "        values = 'Total Amount Raised',\n",
    "        index = 'State_District',\n",
    "        columns = 'Winner Status'\n",
    "    )\n",
    "    .dropna()\n",
    ")\n",
    "raised_pivot"
   ]
  },
  {
   "cell_type": "code",
   "execution_count": 231,
   "id": "0a9a4a11",
   "metadata": {},
   "outputs": [
    {
     "data": {
      "text/html": [
       "<div>\n",
       "<style scoped>\n",
       "    .dataframe tbody tr th:only-of-type {\n",
       "        vertical-align: middle;\n",
       "    }\n",
       "\n",
       "    .dataframe tbody tr th {\n",
       "        vertical-align: top;\n",
       "    }\n",
       "\n",
       "    .dataframe thead th {\n",
       "        text-align: right;\n",
       "    }\n",
       "</style>\n",
       "<table border=\"1\" class=\"dataframe\">\n",
       "  <thead>\n",
       "    <tr style=\"text-align: right;\">\n",
       "      <th>Winner Status</th>\n",
       "      <th>N/a</th>\n",
       "      <th>Winner</th>\n",
       "      <th>Raised_More</th>\n",
       "    </tr>\n",
       "    <tr>\n",
       "      <th>State_District</th>\n",
       "      <th></th>\n",
       "      <th></th>\n",
       "      <th></th>\n",
       "    </tr>\n",
       "  </thead>\n",
       "  <tbody>\n",
       "    <tr>\n",
       "      <th>AK01</th>\n",
       "      <td>5178452.0</td>\n",
       "      <td>1922901.0</td>\n",
       "      <td>NaN</td>\n",
       "    </tr>\n",
       "    <tr>\n",
       "      <th>AL01</th>\n",
       "      <td>80095.0</td>\n",
       "      <td>1971321.0</td>\n",
       "      <td>1971321.0</td>\n",
       "    </tr>\n",
       "    <tr>\n",
       "      <th>AL02</th>\n",
       "      <td>56050.0</td>\n",
       "      <td>650807.0</td>\n",
       "      <td>650807.0</td>\n",
       "    </tr>\n",
       "    <tr>\n",
       "      <th>AL03</th>\n",
       "      <td>50273.0</td>\n",
       "      <td>1193111.0</td>\n",
       "      <td>1193111.0</td>\n",
       "    </tr>\n",
       "    <tr>\n",
       "      <th>AR02</th>\n",
       "      <td>3482463.0</td>\n",
       "      <td>3384490.0</td>\n",
       "      <td>NaN</td>\n",
       "    </tr>\n",
       "    <tr>\n",
       "      <th>...</th>\n",
       "      <td>...</td>\n",
       "      <td>...</td>\n",
       "      <td>...</td>\n",
       "    </tr>\n",
       "    <tr>\n",
       "      <th>WI08</th>\n",
       "      <td>416978.0</td>\n",
       "      <td>3202905.0</td>\n",
       "      <td>3202905.0</td>\n",
       "    </tr>\n",
       "    <tr>\n",
       "      <th>WV01</th>\n",
       "      <td>81032.0</td>\n",
       "      <td>1092609.0</td>\n",
       "      <td>1092609.0</td>\n",
       "    </tr>\n",
       "    <tr>\n",
       "      <th>WV02</th>\n",
       "      <td>641567.0</td>\n",
       "      <td>2155978.0</td>\n",
       "      <td>2155978.0</td>\n",
       "    </tr>\n",
       "    <tr>\n",
       "      <th>WV03</th>\n",
       "      <td>52210.5</td>\n",
       "      <td>869210.0</td>\n",
       "      <td>869210.0</td>\n",
       "    </tr>\n",
       "    <tr>\n",
       "      <th>WY01</th>\n",
       "      <td>134597.0</td>\n",
       "      <td>3003883.0</td>\n",
       "      <td>3003883.0</td>\n",
       "    </tr>\n",
       "  </tbody>\n",
       "</table>\n",
       "<p>372 rows × 3 columns</p>\n",
       "</div>"
      ],
      "text/plain": [
       "Winner Status         N/a     Winner  Raised_More\n",
       "State_District                                   \n",
       "AK01            5178452.0  1922901.0          NaN\n",
       "AL01              80095.0  1971321.0    1971321.0\n",
       "AL02              56050.0   650807.0     650807.0\n",
       "AL03              50273.0  1193111.0    1193111.0\n",
       "AR02            3482463.0  3384490.0          NaN\n",
       "...                   ...        ...          ...\n",
       "WI08             416978.0  3202905.0    3202905.0\n",
       "WV01              81032.0  1092609.0    1092609.0\n",
       "WV02             641567.0  2155978.0    2155978.0\n",
       "WV03              52210.5   869210.0     869210.0\n",
       "WY01             134597.0  3003883.0    3003883.0\n",
       "\n",
       "[372 rows x 3 columns]"
      ]
     },
     "execution_count": 231,
     "metadata": {},
     "output_type": "execute_result"
    }
   ],
   "source": [
    "# Creates new column and fills with money raised if winner raised more, else returns NaN\n",
    "raised_pivot['Raised_More'] = raised_pivot.apply(lambda x: x['Winner'] if x['Winner'] >\n",
    "                     x['N/a'] else np.nan, axis=1)\n",
    "raised_pivot"
   ]
  },
  {
   "cell_type": "code",
   "execution_count": 232,
   "id": "a5a27888",
   "metadata": {
    "scrolled": true
   },
   "outputs": [
    {
     "data": {
      "text/plain": [
       "1971321.0    1\n",
       "1090395.0    1\n",
       "791888.0     1\n",
       "1866123.0    1\n",
       "1580952.0    1\n",
       "            ..\n",
       "5582179.0    1\n",
       "822846.0     1\n",
       "2802093.0    1\n",
       "541435.0     1\n",
       "3003883.0    1\n",
       "Name: Raised_More, Length: 333, dtype: int64"
      ]
     },
     "execution_count": 232,
     "metadata": {},
     "output_type": "execute_result"
    }
   ],
   "source": [
    "raised_pivot['Raised_More'].value_counts()"
   ]
  },
  {
   "cell_type": "code",
   "execution_count": 233,
   "id": "ac26a7d0",
   "metadata": {},
   "outputs": [
    {
     "data": {
      "text/plain": [
       "Winner Status\n",
       "N/a            372\n",
       "Winner         372\n",
       "Raised_More    333\n",
       "dtype: int64"
      ]
     },
     "execution_count": 233,
     "metadata": {},
     "output_type": "execute_result"
    }
   ],
   "source": [
    "raised_pivot.notna().sum()"
   ]
  },
  {
   "cell_type": "markdown",
   "id": "5bb10f66",
   "metadata": {},
   "source": [
    "a. How often does the candidate who raised more money win a race?"
   ]
  },
  {
   "cell_type": "code",
   "execution_count": 234,
   "id": "b407c64c",
   "metadata": {},
   "outputs": [
    {
     "data": {
      "text/plain": [
       "0.894878706199461"
      ]
     },
     "execution_count": 234,
     "metadata": {},
     "output_type": "execute_result"
    }
   ],
   "source": [
    "332/371"
   ]
  },
  {
   "cell_type": "code",
   "execution_count": 235,
   "id": "258c0f7c",
   "metadata": {},
   "outputs": [
    {
     "name": "stdout",
     "output_type": "stream",
     "text": [
      "The candidate who raised more money wins 89% of the time!\n"
     ]
    }
   ],
   "source": [
    "x = \"89%\"\n",
    "print(f'The candidate who raised more money wins {x} of the time!')"
   ]
  },
  {
   "cell_type": "code",
   "execution_count": 236,
   "id": "adf18a8d",
   "metadata": {},
   "outputs": [
    {
     "data": {
      "text/html": [
       "<div>\n",
       "<style scoped>\n",
       "    .dataframe tbody tr th:only-of-type {\n",
       "        vertical-align: middle;\n",
       "    }\n",
       "\n",
       "    .dataframe tbody tr th {\n",
       "        vertical-align: top;\n",
       "    }\n",
       "\n",
       "    .dataframe thead th {\n",
       "        text-align: right;\n",
       "    }\n",
       "</style>\n",
       "<table border=\"1\" class=\"dataframe\">\n",
       "  <thead>\n",
       "    <tr style=\"text-align: right;\">\n",
       "      <th>Winner Status</th>\n",
       "      <th>N/a</th>\n",
       "      <th>Winner</th>\n",
       "    </tr>\n",
       "    <tr>\n",
       "      <th>State_District</th>\n",
       "      <th></th>\n",
       "      <th></th>\n",
       "    </tr>\n",
       "  </thead>\n",
       "  <tbody>\n",
       "    <tr>\n",
       "      <th>AK01</th>\n",
       "      <td>5088103.0</td>\n",
       "      <td>1790448.0</td>\n",
       "    </tr>\n",
       "    <tr>\n",
       "      <th>AL01</th>\n",
       "      <td>78973.0</td>\n",
       "      <td>1859349.0</td>\n",
       "    </tr>\n",
       "    <tr>\n",
       "      <th>AL02</th>\n",
       "      <td>55988.0</td>\n",
       "      <td>669368.0</td>\n",
       "    </tr>\n",
       "    <tr>\n",
       "      <th>AL03</th>\n",
       "      <td>40971.0</td>\n",
       "      <td>1218564.0</td>\n",
       "    </tr>\n",
       "    <tr>\n",
       "      <th>AR02</th>\n",
       "      <td>3478733.0</td>\n",
       "      <td>3020491.0</td>\n",
       "    </tr>\n",
       "    <tr>\n",
       "      <th>...</th>\n",
       "      <td>...</td>\n",
       "      <td>...</td>\n",
       "    </tr>\n",
       "    <tr>\n",
       "      <th>WI08</th>\n",
       "      <td>399916.0</td>\n",
       "      <td>2841801.0</td>\n",
       "    </tr>\n",
       "    <tr>\n",
       "      <th>WV01</th>\n",
       "      <td>81881.0</td>\n",
       "      <td>1085864.0</td>\n",
       "    </tr>\n",
       "    <tr>\n",
       "      <th>WV02</th>\n",
       "      <td>641567.0</td>\n",
       "      <td>864001.0</td>\n",
       "    </tr>\n",
       "    <tr>\n",
       "      <th>WV03</th>\n",
       "      <td>51988.0</td>\n",
       "      <td>720796.0</td>\n",
       "    </tr>\n",
       "    <tr>\n",
       "      <th>WY01</th>\n",
       "      <td>132235.0</td>\n",
       "      <td>3060167.0</td>\n",
       "    </tr>\n",
       "  </tbody>\n",
       "</table>\n",
       "<p>372 rows × 2 columns</p>\n",
       "</div>"
      ],
      "text/plain": [
       "Winner Status         N/a     Winner\n",
       "State_District                      \n",
       "AK01            5088103.0  1790448.0\n",
       "AL01              78973.0  1859349.0\n",
       "AL02              55988.0   669368.0\n",
       "AL03              40971.0  1218564.0\n",
       "AR02            3478733.0  3020491.0\n",
       "...                   ...        ...\n",
       "WI08             399916.0  2841801.0\n",
       "WV01              81881.0  1085864.0\n",
       "WV02             641567.0   864001.0\n",
       "WV03              51988.0   720796.0\n",
       "WY01             132235.0  3060167.0\n",
       "\n",
       "[372 rows x 2 columns]"
      ]
     },
     "execution_count": 236,
     "metadata": {},
     "output_type": "execute_result"
    }
   ],
   "source": [
    "# Follow same procedure for money spent\n",
    "spent_pivot = (\n",
    "    candidates_eda\n",
    "    .pivot_table(\n",
    "        values = 'Total Amount Spent',\n",
    "        index = 'State_District',\n",
    "        columns = 'Winner Status'\n",
    "    )\n",
    "    .dropna()\n",
    ")\n",
    "spent_pivot"
   ]
  },
  {
   "cell_type": "code",
   "execution_count": 237,
   "id": "a86e8765",
   "metadata": {},
   "outputs": [
    {
     "data": {
      "text/html": [
       "<div>\n",
       "<style scoped>\n",
       "    .dataframe tbody tr th:only-of-type {\n",
       "        vertical-align: middle;\n",
       "    }\n",
       "\n",
       "    .dataframe tbody tr th {\n",
       "        vertical-align: top;\n",
       "    }\n",
       "\n",
       "    .dataframe thead th {\n",
       "        text-align: right;\n",
       "    }\n",
       "</style>\n",
       "<table border=\"1\" class=\"dataframe\">\n",
       "  <thead>\n",
       "    <tr style=\"text-align: right;\">\n",
       "      <th>Winner Status</th>\n",
       "      <th>N/a</th>\n",
       "      <th>Winner</th>\n",
       "      <th>Spent_More</th>\n",
       "    </tr>\n",
       "    <tr>\n",
       "      <th>State_District</th>\n",
       "      <th></th>\n",
       "      <th></th>\n",
       "      <th></th>\n",
       "    </tr>\n",
       "  </thead>\n",
       "  <tbody>\n",
       "    <tr>\n",
       "      <th>AK01</th>\n",
       "      <td>5088103.0</td>\n",
       "      <td>1790448.0</td>\n",
       "      <td>NaN</td>\n",
       "    </tr>\n",
       "    <tr>\n",
       "      <th>AL01</th>\n",
       "      <td>78973.0</td>\n",
       "      <td>1859349.0</td>\n",
       "      <td>1859349.0</td>\n",
       "    </tr>\n",
       "    <tr>\n",
       "      <th>AL02</th>\n",
       "      <td>55988.0</td>\n",
       "      <td>669368.0</td>\n",
       "      <td>669368.0</td>\n",
       "    </tr>\n",
       "    <tr>\n",
       "      <th>AL03</th>\n",
       "      <td>40971.0</td>\n",
       "      <td>1218564.0</td>\n",
       "      <td>1218564.0</td>\n",
       "    </tr>\n",
       "    <tr>\n",
       "      <th>AR02</th>\n",
       "      <td>3478733.0</td>\n",
       "      <td>3020491.0</td>\n",
       "      <td>NaN</td>\n",
       "    </tr>\n",
       "    <tr>\n",
       "      <th>...</th>\n",
       "      <td>...</td>\n",
       "      <td>...</td>\n",
       "      <td>...</td>\n",
       "    </tr>\n",
       "    <tr>\n",
       "      <th>WI08</th>\n",
       "      <td>399916.0</td>\n",
       "      <td>2841801.0</td>\n",
       "      <td>2841801.0</td>\n",
       "    </tr>\n",
       "    <tr>\n",
       "      <th>WV01</th>\n",
       "      <td>81881.0</td>\n",
       "      <td>1085864.0</td>\n",
       "      <td>1085864.0</td>\n",
       "    </tr>\n",
       "    <tr>\n",
       "      <th>WV02</th>\n",
       "      <td>641567.0</td>\n",
       "      <td>864001.0</td>\n",
       "      <td>864001.0</td>\n",
       "    </tr>\n",
       "    <tr>\n",
       "      <th>WV03</th>\n",
       "      <td>51988.0</td>\n",
       "      <td>720796.0</td>\n",
       "      <td>720796.0</td>\n",
       "    </tr>\n",
       "    <tr>\n",
       "      <th>WY01</th>\n",
       "      <td>132235.0</td>\n",
       "      <td>3060167.0</td>\n",
       "      <td>3060167.0</td>\n",
       "    </tr>\n",
       "  </tbody>\n",
       "</table>\n",
       "<p>372 rows × 3 columns</p>\n",
       "</div>"
      ],
      "text/plain": [
       "Winner Status         N/a     Winner  Spent_More\n",
       "State_District                                  \n",
       "AK01            5088103.0  1790448.0         NaN\n",
       "AL01              78973.0  1859349.0   1859349.0\n",
       "AL02              55988.0   669368.0    669368.0\n",
       "AL03              40971.0  1218564.0   1218564.0\n",
       "AR02            3478733.0  3020491.0         NaN\n",
       "...                   ...        ...         ...\n",
       "WI08             399916.0  2841801.0   2841801.0\n",
       "WV01              81881.0  1085864.0   1085864.0\n",
       "WV02             641567.0   864001.0    864001.0\n",
       "WV03              51988.0   720796.0    720796.0\n",
       "WY01             132235.0  3060167.0   3060167.0\n",
       "\n",
       "[372 rows x 3 columns]"
      ]
     },
     "execution_count": 237,
     "metadata": {},
     "output_type": "execute_result"
    }
   ],
   "source": [
    "spent_pivot['Spent_More'] = spent_pivot.apply(lambda x: x['Winner'] if x['Winner'] >\n",
    "                     x['N/a'] else np.nan, axis=1)\n",
    "spent_pivot"
   ]
  },
  {
   "cell_type": "code",
   "execution_count": 238,
   "id": "9f0da6ef",
   "metadata": {},
   "outputs": [
    {
     "data": {
      "text/plain": [
       "1859349.0    1\n",
       "979798.0     1\n",
       "453928.0     1\n",
       "1853361.0    1\n",
       "1477090.0    1\n",
       "            ..\n",
       "5313570.0    1\n",
       "711159.0     1\n",
       "2699323.0    1\n",
       "496454.0     1\n",
       "3060167.0    1\n",
       "Name: Spent_More, Length: 331, dtype: int64"
      ]
     },
     "execution_count": 238,
     "metadata": {},
     "output_type": "execute_result"
    }
   ],
   "source": [
    "spent_pivot['Spent_More'].value_counts()"
   ]
  },
  {
   "cell_type": "code",
   "execution_count": 239,
   "id": "38d2bd61",
   "metadata": {},
   "outputs": [
    {
     "data": {
      "text/plain": [
       "Winner Status\n",
       "N/a           372\n",
       "Winner        372\n",
       "Spent_More    331\n",
       "dtype: int64"
      ]
     },
     "execution_count": 239,
     "metadata": {},
     "output_type": "execute_result"
    }
   ],
   "source": [
    "spent_pivot.notna().sum()"
   ]
  },
  {
   "cell_type": "markdown",
   "id": "25d90f00",
   "metadata": {},
   "source": [
    "b. How often does the candidate who spent more money win a race?"
   ]
  },
  {
   "cell_type": "code",
   "execution_count": 240,
   "id": "1a0406db",
   "metadata": {
    "scrolled": true
   },
   "outputs": [
    {
     "data": {
      "text/plain": [
       "0.889487870619946"
      ]
     },
     "execution_count": 240,
     "metadata": {},
     "output_type": "execute_result"
    }
   ],
   "source": [
    "330/371"
   ]
  },
  {
   "cell_type": "code",
   "execution_count": 241,
   "id": "bd165fa4",
   "metadata": {},
   "outputs": [
    {
     "name": "stdout",
     "output_type": "stream",
     "text": [
      "The candidate who spent more money wins 89% of the time!\n"
     ]
    }
   ],
   "source": [
    "print(f'The candidate who spent more money wins {x} of the time!')"
   ]
  },
  {
   "cell_type": "markdown",
   "id": "f54baadc",
   "metadata": {},
   "source": [
    "c. Does the difference between either money raised or money spent seem to influence the likelihood of a candidate winning a race? "
   ]
  },
  {
   "cell_type": "markdown",
   "id": "506ff8f8",
   "metadata": {},
   "source": [
    "Yes! The candidate who raises and/or spends more money has a much higher (almost 90%) chance of winning."
   ]
  },
  {
   "cell_type": "code",
   "execution_count": 242,
   "id": "e3a124a7",
   "metadata": {},
   "outputs": [],
   "source": [
    "candidates_eda.to_csv('candidates_eda.csv')"
   ]
  },
  {
   "cell_type": "code",
   "execution_count": 243,
   "id": "be9abd37",
   "metadata": {},
   "outputs": [
    {
     "data": {
      "text/plain": [
       "Incumbent Status  Winner Status\n",
       "Incumbent         N/a               15\n",
       "                  Winner           372\n",
       "N/a               N/a              448\n",
       "                  Winner            60\n",
       "dtype: int64"
      ]
     },
     "execution_count": 243,
     "metadata": {},
     "output_type": "execute_result"
    }
   ],
   "source": [
    "incumbent_counts = candidates_eda.groupby(['Incumbent Status', 'Winner Status']).size()\n",
    "incumbent_counts"
   ]
  },
  {
   "cell_type": "code",
   "execution_count": 244,
   "id": "667b3a9b",
   "metadata": {},
   "outputs": [
    {
     "data": {
      "text/html": [
       "<div>\n",
       "<style scoped>\n",
       "    .dataframe tbody tr th:only-of-type {\n",
       "        vertical-align: middle;\n",
       "    }\n",
       "\n",
       "    .dataframe tbody tr th {\n",
       "        vertical-align: top;\n",
       "    }\n",
       "\n",
       "    .dataframe thead th {\n",
       "        text-align: right;\n",
       "    }\n",
       "</style>\n",
       "<table border=\"1\" class=\"dataframe\">\n",
       "  <thead>\n",
       "    <tr style=\"text-align: right;\">\n",
       "      <th></th>\n",
       "      <th>Name</th>\n",
       "      <th>Party</th>\n",
       "      <th>State</th>\n",
       "      <th>District_Number</th>\n",
       "      <th>Incumbent_Status</th>\n",
       "      <th>Winner_Status</th>\n",
       "      <th>Vote_Percentage</th>\n",
       "      <th>total_raised</th>\n",
       "      <th>total_spent</th>\n",
       "      <th>State_District</th>\n",
       "    </tr>\n",
       "  </thead>\n",
       "  <tbody>\n",
       "    <tr>\n",
       "      <th>0</th>\n",
       "      <td>Jerry Carl</td>\n",
       "      <td>(R)</td>\n",
       "      <td>AL</td>\n",
       "      <td>01</td>\n",
       "      <td>N/a</td>\n",
       "      <td>Winner</td>\n",
       "      <td>64.9</td>\n",
       "      <td>1971321</td>\n",
       "      <td>1859349</td>\n",
       "      <td>AL01</td>\n",
       "    </tr>\n",
       "    <tr>\n",
       "      <th>1</th>\n",
       "      <td>James Averhart</td>\n",
       "      <td>(D)</td>\n",
       "      <td>AL</td>\n",
       "      <td>01</td>\n",
       "      <td>N/a</td>\n",
       "      <td>N/a</td>\n",
       "      <td>35.0</td>\n",
       "      <td>80095</td>\n",
       "      <td>78973</td>\n",
       "      <td>AL01</td>\n",
       "    </tr>\n",
       "    <tr>\n",
       "      <th>2</th>\n",
       "      <td>Barry Moore</td>\n",
       "      <td>(R)</td>\n",
       "      <td>AL</td>\n",
       "      <td>02</td>\n",
       "      <td>N/a</td>\n",
       "      <td>Winner</td>\n",
       "      <td>65.3</td>\n",
       "      <td>650807</td>\n",
       "      <td>669368</td>\n",
       "      <td>AL02</td>\n",
       "    </tr>\n",
       "    <tr>\n",
       "      <th>3</th>\n",
       "      <td>Phyllis Harvey-Hall</td>\n",
       "      <td>(D)</td>\n",
       "      <td>AL</td>\n",
       "      <td>02</td>\n",
       "      <td>N/a</td>\n",
       "      <td>N/a</td>\n",
       "      <td>34.6</td>\n",
       "      <td>56050</td>\n",
       "      <td>55988</td>\n",
       "      <td>AL02</td>\n",
       "    </tr>\n",
       "    <tr>\n",
       "      <th>4</th>\n",
       "      <td>Mike D Rogers</td>\n",
       "      <td>(R)</td>\n",
       "      <td>AL</td>\n",
       "      <td>03</td>\n",
       "      <td>Incumbent</td>\n",
       "      <td>Winner</td>\n",
       "      <td>67.5</td>\n",
       "      <td>1193111</td>\n",
       "      <td>1218564</td>\n",
       "      <td>AL03</td>\n",
       "    </tr>\n",
       "    <tr>\n",
       "      <th>...</th>\n",
       "      <td>...</td>\n",
       "      <td>...</td>\n",
       "      <td>...</td>\n",
       "      <td>...</td>\n",
       "      <td>...</td>\n",
       "      <td>...</td>\n",
       "      <td>...</td>\n",
       "      <td>...</td>\n",
       "      <td>...</td>\n",
       "      <td>...</td>\n",
       "    </tr>\n",
       "    <tr>\n",
       "      <th>890</th>\n",
       "      <td>Liz Cheney</td>\n",
       "      <td>(R)</td>\n",
       "      <td>WY</td>\n",
       "      <td>01</td>\n",
       "      <td>Incumbent</td>\n",
       "      <td>Winner</td>\n",
       "      <td>68.6</td>\n",
       "      <td>3003883</td>\n",
       "      <td>3060167</td>\n",
       "      <td>WY01</td>\n",
       "    </tr>\n",
       "    <tr>\n",
       "      <th>891</th>\n",
       "      <td>Lynnette Grey Bull</td>\n",
       "      <td>(D)</td>\n",
       "      <td>WY</td>\n",
       "      <td>01</td>\n",
       "      <td>N/a</td>\n",
       "      <td>N/a</td>\n",
       "      <td>24.6</td>\n",
       "      <td>134597</td>\n",
       "      <td>132235</td>\n",
       "      <td>WY01</td>\n",
       "    </tr>\n",
       "    <tr>\n",
       "      <th>892</th>\n",
       "      <td>Eleanor Holmes Norton</td>\n",
       "      <td>(D)</td>\n",
       "      <td>DC</td>\n",
       "      <td>00</td>\n",
       "      <td>Incumbent</td>\n",
       "      <td>Winner</td>\n",
       "      <td>86.3</td>\n",
       "      <td>386989</td>\n",
       "      <td>358925</td>\n",
       "      <td>DC00</td>\n",
       "    </tr>\n",
       "    <tr>\n",
       "      <th>893</th>\n",
       "      <td>Barbara Washington Franklin</td>\n",
       "      <td>(I)</td>\n",
       "      <td>DC</td>\n",
       "      <td>00</td>\n",
       "      <td>N/a</td>\n",
       "      <td>N/a</td>\n",
       "      <td>0.0</td>\n",
       "      <td>14070</td>\n",
       "      <td>16530</td>\n",
       "      <td>DC00</td>\n",
       "    </tr>\n",
       "    <tr>\n",
       "      <th>894</th>\n",
       "      <td>David Krucoff</td>\n",
       "      <td>(I)</td>\n",
       "      <td>DC</td>\n",
       "      <td>00</td>\n",
       "      <td>N/a</td>\n",
       "      <td>N/a</td>\n",
       "      <td>1.5</td>\n",
       "      <td>12133</td>\n",
       "      <td>12069</td>\n",
       "      <td>DC00</td>\n",
       "    </tr>\n",
       "  </tbody>\n",
       "</table>\n",
       "<p>895 rows × 10 columns</p>\n",
       "</div>"
      ],
      "text/plain": [
       "                             Name Party State District_Number  \\\n",
       "0                     Jerry Carl    (R)    AL              01   \n",
       "1                 James Averhart    (D)    AL              01   \n",
       "2                    Barry Moore    (R)    AL              02   \n",
       "3            Phyllis Harvey-Hall    (D)    AL              02   \n",
       "4                  Mike D Rogers    (R)    AL              03   \n",
       "..                            ...   ...   ...             ...   \n",
       "890                   Liz Cheney    (R)    WY              01   \n",
       "891           Lynnette Grey Bull    (D)    WY              01   \n",
       "892        Eleanor Holmes Norton    (D)    DC              00   \n",
       "893  Barbara Washington Franklin    (I)    DC              00   \n",
       "894                David Krucoff    (I)    DC              00   \n",
       "\n",
       "    Incumbent_Status Winner_Status  Vote_Percentage  total_raised  \\\n",
       "0                N/a        Winner             64.9       1971321   \n",
       "1                N/a           N/a             35.0         80095   \n",
       "2                N/a        Winner             65.3        650807   \n",
       "3                N/a           N/a             34.6         56050   \n",
       "4          Incumbent        Winner             67.5       1193111   \n",
       "..               ...           ...              ...           ...   \n",
       "890        Incumbent        Winner             68.6       3003883   \n",
       "891              N/a           N/a             24.6        134597   \n",
       "892        Incumbent        Winner             86.3        386989   \n",
       "893              N/a           N/a              0.0         14070   \n",
       "894              N/a           N/a              1.5         12133   \n",
       "\n",
       "     total_spent State_District  \n",
       "0        1859349           AL01  \n",
       "1          78973           AL01  \n",
       "2         669368           AL02  \n",
       "3          55988           AL02  \n",
       "4        1218564           AL03  \n",
       "..           ...            ...  \n",
       "890      3060167           WY01  \n",
       "891       132235           WY01  \n",
       "892       358925           DC00  \n",
       "893        16530           DC00  \n",
       "894        12069           DC00  \n",
       "\n",
       "[895 rows x 10 columns]"
      ]
     },
     "execution_count": 244,
     "metadata": {},
     "output_type": "execute_result"
    }
   ],
   "source": [
    "candidates_eda.columns = ['Name', 'Party', 'State', 'District_Number', 'Incumbent_Status', 'Winner_Status', 'Vote_Percentage', 'total_raised', 'total_spent', 'State_District']\n",
    "candidates_eda"
   ]
  },
  {
   "cell_type": "code",
   "execution_count": 245,
   "id": "25eca57f",
   "metadata": {},
   "outputs": [
    {
     "data": {
      "text/html": [
       "<div>\n",
       "<style scoped>\n",
       "    .dataframe tbody tr th:only-of-type {\n",
       "        vertical-align: middle;\n",
       "    }\n",
       "\n",
       "    .dataframe tbody tr th {\n",
       "        vertical-align: top;\n",
       "    }\n",
       "\n",
       "    .dataframe thead th {\n",
       "        text-align: right;\n",
       "    }\n",
       "</style>\n",
       "<table border=\"1\" class=\"dataframe\">\n",
       "  <thead>\n",
       "    <tr style=\"text-align: right;\">\n",
       "      <th>Winner_Status</th>\n",
       "      <th>N/a</th>\n",
       "      <th>Winner</th>\n",
       "    </tr>\n",
       "    <tr>\n",
       "      <th>Incumbent_Status</th>\n",
       "      <th></th>\n",
       "      <th></th>\n",
       "    </tr>\n",
       "  </thead>\n",
       "  <tbody>\n",
       "    <tr>\n",
       "      <th>Incumbent</th>\n",
       "      <td>15</td>\n",
       "      <td>372</td>\n",
       "    </tr>\n",
       "    <tr>\n",
       "      <th>N/a</th>\n",
       "      <td>448</td>\n",
       "      <td>60</td>\n",
       "    </tr>\n",
       "  </tbody>\n",
       "</table>\n",
       "</div>"
      ],
      "text/plain": [
       "Winner_Status     N/a  Winner\n",
       "Incumbent_Status             \n",
       "Incumbent          15     372\n",
       "N/a               448      60"
      ]
     },
     "execution_count": 245,
     "metadata": {},
     "output_type": "execute_result"
    }
   ],
   "source": [
    "tab = pd.crosstab(candidates_eda.Incumbent_Status,candidates_eda.Winner_Status)\n",
    "tab"
   ]
  },
  {
   "cell_type": "code",
   "execution_count": 246,
   "id": "f3dbf6a8",
   "metadata": {},
   "outputs": [
    {
     "data": {
      "text/html": [
       "<div>\n",
       "<style scoped>\n",
       "    .dataframe tbody tr th:only-of-type {\n",
       "        vertical-align: middle;\n",
       "    }\n",
       "\n",
       "    .dataframe tbody tr th {\n",
       "        vertical-align: top;\n",
       "    }\n",
       "\n",
       "    .dataframe thead th {\n",
       "        text-align: right;\n",
       "    }\n",
       "</style>\n",
       "<table border=\"1\" class=\"dataframe\">\n",
       "  <thead>\n",
       "    <tr style=\"text-align: right;\">\n",
       "      <th>Winner_Status</th>\n",
       "      <th>N/a</th>\n",
       "      <th>Winner</th>\n",
       "    </tr>\n",
       "    <tr>\n",
       "      <th>Incumbent_Status</th>\n",
       "      <th></th>\n",
       "      <th></th>\n",
       "    </tr>\n",
       "  </thead>\n",
       "  <tbody>\n",
       "    <tr>\n",
       "      <th>Incumbent</th>\n",
       "      <td>0.032397</td>\n",
       "      <td>0.861111</td>\n",
       "    </tr>\n",
       "    <tr>\n",
       "      <th>N/a</th>\n",
       "      <td>0.967603</td>\n",
       "      <td>0.138889</td>\n",
       "    </tr>\n",
       "  </tbody>\n",
       "</table>\n",
       "</div>"
      ],
      "text/plain": [
       "Winner_Status          N/a    Winner\n",
       "Incumbent_Status                    \n",
       "Incumbent         0.032397  0.861111\n",
       "N/a               0.967603  0.138889"
      ]
     },
     "execution_count": 246,
     "metadata": {},
     "output_type": "execute_result"
    }
   ],
   "source": [
    "tab2 = pd.crosstab(index=candidates_eda.Incumbent_Status, columns=candidates_eda.Winner_Status, normalize='columns')\n",
    "tab2"
   ]
  },
  {
   "cell_type": "code",
   "execution_count": 247,
   "id": "fa745417",
   "metadata": {},
   "outputs": [
    {
     "data": {
      "text/plain": [
       "60"
      ]
     },
     "execution_count": 247,
     "metadata": {},
     "output_type": "execute_result"
    }
   ],
   "source": [
    "pass_both_checks = ((candidates_eda['Incumbent_Status'] == 'N/a') & \n",
    "                    (candidates_eda['Winner_Status'] == 'Winner')).sum()\n",
    "pass_both_checks"
   ]
  },
  {
   "cell_type": "markdown",
   "id": "2d513e75",
   "metadata": {},
   "source": [
    "d. How often does the incumbent candidate win a race?"
   ]
  },
  {
   "cell_type": "code",
   "execution_count": 248,
   "id": "0c53a0da",
   "metadata": {},
   "outputs": [
    {
     "data": {
      "text/plain": [
       "0.8607888631090487"
      ]
     },
     "execution_count": 248,
     "metadata": {},
     "output_type": "execute_result"
    }
   ],
   "source": [
    "371/431"
   ]
  },
  {
   "cell_type": "code",
   "execution_count": 249,
   "id": "515cf3e4",
   "metadata": {},
   "outputs": [
    {
     "name": "stdout",
     "output_type": "stream",
     "text": [
      "An incumbent wins 86% of the time!\n"
     ]
    }
   ],
   "source": [
    "y = '86%'\n",
    "print(f'An incumbent wins {y} of the time!')"
   ]
  },
  {
   "cell_type": "code",
   "execution_count": 250,
   "id": "52a052e3",
   "metadata": {},
   "outputs": [
    {
     "data": {
      "text/html": [
       "<div>\n",
       "<style scoped>\n",
       "    .dataframe tbody tr th:only-of-type {\n",
       "        vertical-align: middle;\n",
       "    }\n",
       "\n",
       "    .dataframe tbody tr th {\n",
       "        vertical-align: top;\n",
       "    }\n",
       "\n",
       "    .dataframe thead th {\n",
       "        text-align: right;\n",
       "    }\n",
       "</style>\n",
       "<table border=\"1\" class=\"dataframe\">\n",
       "  <thead>\n",
       "    <tr style=\"text-align: right;\">\n",
       "      <th>Incumbent_Status</th>\n",
       "      <th>Incumbent</th>\n",
       "      <th>N/a</th>\n",
       "    </tr>\n",
       "    <tr>\n",
       "      <th>State_District</th>\n",
       "      <th></th>\n",
       "      <th></th>\n",
       "    </tr>\n",
       "  </thead>\n",
       "  <tbody>\n",
       "    <tr>\n",
       "      <th>AK01</th>\n",
       "      <td>1922901.0</td>\n",
       "      <td>5178452.0</td>\n",
       "    </tr>\n",
       "    <tr>\n",
       "      <th>AL03</th>\n",
       "      <td>1193111.0</td>\n",
       "      <td>50273.0</td>\n",
       "    </tr>\n",
       "    <tr>\n",
       "      <th>AR02</th>\n",
       "      <td>3384490.0</td>\n",
       "      <td>3482463.0</td>\n",
       "    </tr>\n",
       "    <tr>\n",
       "      <th>AR03</th>\n",
       "      <td>1127158.0</td>\n",
       "      <td>355294.0</td>\n",
       "    </tr>\n",
       "    <tr>\n",
       "      <th>AR04</th>\n",
       "      <td>1407770.0</td>\n",
       "      <td>109767.0</td>\n",
       "    </tr>\n",
       "    <tr>\n",
       "      <th>...</th>\n",
       "      <td>...</td>\n",
       "      <td>...</td>\n",
       "    </tr>\n",
       "    <tr>\n",
       "      <th>WI08</th>\n",
       "      <td>3202905.0</td>\n",
       "      <td>416978.0</td>\n",
       "    </tr>\n",
       "    <tr>\n",
       "      <th>WV01</th>\n",
       "      <td>1092609.0</td>\n",
       "      <td>81032.0</td>\n",
       "    </tr>\n",
       "    <tr>\n",
       "      <th>WV02</th>\n",
       "      <td>2155978.0</td>\n",
       "      <td>641567.0</td>\n",
       "    </tr>\n",
       "    <tr>\n",
       "      <th>WV03</th>\n",
       "      <td>869210.0</td>\n",
       "      <td>52210.5</td>\n",
       "    </tr>\n",
       "    <tr>\n",
       "      <th>WY01</th>\n",
       "      <td>3003883.0</td>\n",
       "      <td>134597.0</td>\n",
       "    </tr>\n",
       "  </tbody>\n",
       "</table>\n",
       "<p>331 rows × 2 columns</p>\n",
       "</div>"
      ],
      "text/plain": [
       "Incumbent_Status  Incumbent        N/a\n",
       "State_District                        \n",
       "AK01              1922901.0  5178452.0\n",
       "AL03              1193111.0    50273.0\n",
       "AR02              3384490.0  3482463.0\n",
       "AR03              1127158.0   355294.0\n",
       "AR04              1407770.0   109767.0\n",
       "...                     ...        ...\n",
       "WI08              3202905.0   416978.0\n",
       "WV01              1092609.0    81032.0\n",
       "WV02              2155978.0   641567.0\n",
       "WV03               869210.0    52210.5\n",
       "WY01              3003883.0   134597.0\n",
       "\n",
       "[331 rows x 2 columns]"
      ]
     },
     "execution_count": 250,
     "metadata": {},
     "output_type": "execute_result"
    }
   ],
   "source": [
    "inc_pivot = (\n",
    "    candidates_eda\n",
    "    .pivot_table(\n",
    "        values = 'total_raised',\n",
    "        index = 'State_District',\n",
    "        columns = 'Incumbent_Status'\n",
    "    )\n",
    "    .dropna()\n",
    ")\n",
    "inc_pivot"
   ]
  },
  {
   "cell_type": "markdown",
   "id": "2af67671",
   "metadata": {},
   "source": [
    "e. Can you detect any relationship between amount of money raised and the incumbent status of a candidate?"
   ]
  },
  {
   "cell_type": "code",
   "execution_count": 251,
   "id": "79e89903",
   "metadata": {
    "scrolled": true
   },
   "outputs": [
    {
     "data": {
      "text/html": [
       "<div>\n",
       "<style scoped>\n",
       "    .dataframe tbody tr th:only-of-type {\n",
       "        vertical-align: middle;\n",
       "    }\n",
       "\n",
       "    .dataframe tbody tr th {\n",
       "        vertical-align: top;\n",
       "    }\n",
       "\n",
       "    .dataframe thead th {\n",
       "        text-align: right;\n",
       "    }\n",
       "</style>\n",
       "<table border=\"1\" class=\"dataframe\">\n",
       "  <thead>\n",
       "    <tr style=\"text-align: right;\">\n",
       "      <th>Incumbent_Status</th>\n",
       "      <th>Incumbent</th>\n",
       "      <th>N/a</th>\n",
       "    </tr>\n",
       "  </thead>\n",
       "  <tbody>\n",
       "    <tr>\n",
       "      <th>count</th>\n",
       "      <td>3.310000e+02</td>\n",
       "      <td>3.310000e+02</td>\n",
       "    </tr>\n",
       "    <tr>\n",
       "      <th>mean</th>\n",
       "      <td>2.900485e+06</td>\n",
       "      <td>1.009893e+06</td>\n",
       "    </tr>\n",
       "    <tr>\n",
       "      <th>std</th>\n",
       "      <td>3.654102e+06</td>\n",
       "      <td>1.697456e+06</td>\n",
       "    </tr>\n",
       "    <tr>\n",
       "      <th>min</th>\n",
       "      <td>3.277270e+05</td>\n",
       "      <td>-2.084000e+03</td>\n",
       "    </tr>\n",
       "    <tr>\n",
       "      <th>25%</th>\n",
       "      <td>1.093356e+06</td>\n",
       "      <td>4.944150e+04</td>\n",
       "    </tr>\n",
       "    <tr>\n",
       "      <th>50%</th>\n",
       "      <td>1.815756e+06</td>\n",
       "      <td>1.689970e+05</td>\n",
       "    </tr>\n",
       "    <tr>\n",
       "      <th>75%</th>\n",
       "      <td>3.169468e+06</td>\n",
       "      <td>1.298705e+06</td>\n",
       "    </tr>\n",
       "    <tr>\n",
       "      <th>max</th>\n",
       "      <td>2.778064e+07</td>\n",
       "      <td>1.114094e+07</td>\n",
       "    </tr>\n",
       "  </tbody>\n",
       "</table>\n",
       "</div>"
      ],
      "text/plain": [
       "Incumbent_Status     Incumbent           N/a\n",
       "count             3.310000e+02  3.310000e+02\n",
       "mean              2.900485e+06  1.009893e+06\n",
       "std               3.654102e+06  1.697456e+06\n",
       "min               3.277270e+05 -2.084000e+03\n",
       "25%               1.093356e+06  4.944150e+04\n",
       "50%               1.815756e+06  1.689970e+05\n",
       "75%               3.169468e+06  1.298705e+06\n",
       "max               2.778064e+07  1.114094e+07"
      ]
     },
     "execution_count": 251,
     "metadata": {},
     "output_type": "execute_result"
    }
   ],
   "source": [
    "inc_pivot.describe()"
   ]
  },
  {
   "cell_type": "markdown",
   "id": "b2690b34",
   "metadata": {},
   "source": [
    "The average amount of money raised by incumbents is almost 2.9 times the average amount raised by non-incumbants."
   ]
  },
  {
   "cell_type": "code",
   "execution_count": 252,
   "id": "9b81f365",
   "metadata": {},
   "outputs": [
    {
     "data": {
      "text/plain": [
       "960060602.0"
      ]
     },
     "execution_count": 252,
     "metadata": {},
     "output_type": "execute_result"
    }
   ],
   "source": [
    "inc_pivot['Incumbent'].sum()"
   ]
  },
  {
   "cell_type": "code",
   "execution_count": 253,
   "id": "4aa17cc0",
   "metadata": {},
   "outputs": [
    {
     "data": {
      "text/plain": [
       "334274547.5"
      ]
     },
     "execution_count": 253,
     "metadata": {},
     "output_type": "execute_result"
    }
   ],
   "source": [
    "inc_pivot['N/a'].sum()"
   ]
  },
  {
   "cell_type": "code",
   "execution_count": 255,
   "id": "2a530fdb",
   "metadata": {},
   "outputs": [
    {
     "data": {
      "text/html": [
       "<div>\n",
       "<style scoped>\n",
       "    .dataframe tbody tr th:only-of-type {\n",
       "        vertical-align: middle;\n",
       "    }\n",
       "\n",
       "    .dataframe tbody tr th {\n",
       "        vertical-align: top;\n",
       "    }\n",
       "\n",
       "    .dataframe thead th {\n",
       "        text-align: right;\n",
       "    }\n",
       "</style>\n",
       "<table border=\"1\" class=\"dataframe\">\n",
       "  <thead>\n",
       "    <tr style=\"text-align: right;\">\n",
       "      <th>Incumbent_Status</th>\n",
       "      <th>Incumbent</th>\n",
       "      <th>N/a</th>\n",
       "      <th>Incumbent_Raised</th>\n",
       "    </tr>\n",
       "    <tr>\n",
       "      <th>State_District</th>\n",
       "      <th></th>\n",
       "      <th></th>\n",
       "      <th></th>\n",
       "    </tr>\n",
       "  </thead>\n",
       "  <tbody>\n",
       "    <tr>\n",
       "      <th>AK01</th>\n",
       "      <td>1922901.0</td>\n",
       "      <td>5178452.0</td>\n",
       "      <td>NaN</td>\n",
       "    </tr>\n",
       "    <tr>\n",
       "      <th>AL03</th>\n",
       "      <td>1193111.0</td>\n",
       "      <td>50273.0</td>\n",
       "      <td>1193111.0</td>\n",
       "    </tr>\n",
       "    <tr>\n",
       "      <th>AR02</th>\n",
       "      <td>3384490.0</td>\n",
       "      <td>3482463.0</td>\n",
       "      <td>NaN</td>\n",
       "    </tr>\n",
       "    <tr>\n",
       "      <th>AR03</th>\n",
       "      <td>1127158.0</td>\n",
       "      <td>355294.0</td>\n",
       "      <td>1127158.0</td>\n",
       "    </tr>\n",
       "    <tr>\n",
       "      <th>AR04</th>\n",
       "      <td>1407770.0</td>\n",
       "      <td>109767.0</td>\n",
       "      <td>1407770.0</td>\n",
       "    </tr>\n",
       "    <tr>\n",
       "      <th>...</th>\n",
       "      <td>...</td>\n",
       "      <td>...</td>\n",
       "      <td>...</td>\n",
       "    </tr>\n",
       "    <tr>\n",
       "      <th>WI08</th>\n",
       "      <td>3202905.0</td>\n",
       "      <td>416978.0</td>\n",
       "      <td>3202905.0</td>\n",
       "    </tr>\n",
       "    <tr>\n",
       "      <th>WV01</th>\n",
       "      <td>1092609.0</td>\n",
       "      <td>81032.0</td>\n",
       "      <td>1092609.0</td>\n",
       "    </tr>\n",
       "    <tr>\n",
       "      <th>WV02</th>\n",
       "      <td>2155978.0</td>\n",
       "      <td>641567.0</td>\n",
       "      <td>2155978.0</td>\n",
       "    </tr>\n",
       "    <tr>\n",
       "      <th>WV03</th>\n",
       "      <td>869210.0</td>\n",
       "      <td>52210.5</td>\n",
       "      <td>869210.0</td>\n",
       "    </tr>\n",
       "    <tr>\n",
       "      <th>WY01</th>\n",
       "      <td>3003883.0</td>\n",
       "      <td>134597.0</td>\n",
       "      <td>3003883.0</td>\n",
       "    </tr>\n",
       "  </tbody>\n",
       "</table>\n",
       "<p>331 rows × 3 columns</p>\n",
       "</div>"
      ],
      "text/plain": [
       "Incumbent_Status  Incumbent        N/a  Incumbent_Raised\n",
       "State_District                                          \n",
       "AK01              1922901.0  5178452.0               NaN\n",
       "AL03              1193111.0    50273.0         1193111.0\n",
       "AR02              3384490.0  3482463.0               NaN\n",
       "AR03              1127158.0   355294.0         1127158.0\n",
       "AR04              1407770.0   109767.0         1407770.0\n",
       "...                     ...        ...               ...\n",
       "WI08              3202905.0   416978.0         3202905.0\n",
       "WV01              1092609.0    81032.0         1092609.0\n",
       "WV02              2155978.0   641567.0         2155978.0\n",
       "WV03               869210.0    52210.5          869210.0\n",
       "WY01              3003883.0   134597.0         3003883.0\n",
       "\n",
       "[331 rows x 3 columns]"
      ]
     },
     "execution_count": 255,
     "metadata": {},
     "output_type": "execute_result"
    }
   ],
   "source": [
    "inc_pivot['Incumbent_Raised'] = inc_pivot.apply(lambda x: x['Incumbent'] if x['Incumbent'] >\n",
    "                     x['N/a'] else np.nan, axis=1)\n",
    "inc_pivot"
   ]
  },
  {
   "cell_type": "code",
   "execution_count": 256,
   "id": "e25be2a2",
   "metadata": {},
   "outputs": [
    {
     "data": {
      "text/plain": [
       "Incumbent_Status\n",
       "Incumbent           331\n",
       "N/a                 331\n",
       "Incumbent_Raised    308\n",
       "dtype: int64"
      ]
     },
     "execution_count": 256,
     "metadata": {},
     "output_type": "execute_result"
    }
   ],
   "source": [
    "inc_pivot.notna().sum()"
   ]
  },
  {
   "cell_type": "code",
   "execution_count": 257,
   "id": "ab864fb5",
   "metadata": {},
   "outputs": [
    {
     "data": {
      "text/plain": [
       "0.9303030303030303"
      ]
     },
     "execution_count": 257,
     "metadata": {},
     "output_type": "execute_result"
    }
   ],
   "source": [
    "307/330"
   ]
  },
  {
   "cell_type": "code",
   "execution_count": 258,
   "id": "5e1a9da0",
   "metadata": {},
   "outputs": [
    {
     "name": "stdout",
     "output_type": "stream",
     "text": [
      "The count of Incumbent Winners:  372\n",
      "The count of Non-Incumbent Winners:  60\n"
     ]
    }
   ],
   "source": [
    "question_d = candidates_eda[['State_District', 'Winner_Status', 'Incumbent_Status']]\n",
    "Winner = question_d['Incumbent_Status'][question_d['Winner_Status'] == 'Winner'].tolist()\n",
    "incumbent_count = Winner.count('Incumbent')\n",
    "newbie_count = Winner.count('N/a')\n",
    "print('The count of Incumbent Winners: ', incumbent_count)\n",
    "print('The count of Non-Incumbent Winners: ', newbie_count)"
   ]
  },
  {
   "cell_type": "code",
   "execution_count": 259,
   "id": "f73d37e0",
   "metadata": {},
   "outputs": [],
   "source": [
    "question_e = candidates_eda[['total_raised', 'Incumbent_Status']]"
   ]
  },
  {
   "cell_type": "code",
   "execution_count": 260,
   "id": "63050964",
   "metadata": {
    "scrolled": false
   },
   "outputs": [
    {
     "name": "stderr",
     "output_type": "stream",
     "text": [
      "/var/folders/y2/1hbr5nhn5g74yh6sf24m5s9xr861g0/T/ipykernel_7012/707966259.py:1: SettingWithCopyWarning:\n",
      "\n",
      "\n",
      "A value is trying to be set on a copy of a slice from a DataFrame.\n",
      "Try using .loc[row_indexer,col_indexer] = value instead\n",
      "\n",
      "See the caveats in the documentation: https://pandas.pydata.org/pandas-docs/stable/user_guide/indexing.html#returning-a-view-versus-a-copy\n",
      "\n"
     ]
    },
    {
     "data": {
      "text/html": [
       "<div>\n",
       "<style scoped>\n",
       "    .dataframe tbody tr th:only-of-type {\n",
       "        vertical-align: middle;\n",
       "    }\n",
       "\n",
       "    .dataframe tbody tr th {\n",
       "        vertical-align: top;\n",
       "    }\n",
       "\n",
       "    .dataframe thead th {\n",
       "        text-align: right;\n",
       "    }\n",
       "</style>\n",
       "<table border=\"1\" class=\"dataframe\">\n",
       "  <thead>\n",
       "    <tr style=\"text-align: right;\">\n",
       "      <th></th>\n",
       "      <th>total_raised</th>\n",
       "      <th>Incumbent_Status</th>\n",
       "    </tr>\n",
       "  </thead>\n",
       "  <tbody>\n",
       "    <tr>\n",
       "      <th>total_raised</th>\n",
       "      <td>1.000000</td>\n",
       "      <td>-0.274643</td>\n",
       "    </tr>\n",
       "    <tr>\n",
       "      <th>Incumbent_Status</th>\n",
       "      <td>-0.274643</td>\n",
       "      <td>1.000000</td>\n",
       "    </tr>\n",
       "  </tbody>\n",
       "</table>\n",
       "</div>"
      ],
      "text/plain": [
       "                  total_raised  Incumbent_Status\n",
       "total_raised          1.000000         -0.274643\n",
       "Incumbent_Status     -0.274643          1.000000"
      ]
     },
     "execution_count": 260,
     "metadata": {},
     "output_type": "execute_result"
    }
   ],
   "source": [
    "question_e['Incumbent_Status']=question_e['Incumbent_Status'].astype('category').cat.codes\n",
    "question_e.corr()"
   ]
  },
  {
   "cell_type": "code",
   "execution_count": 261,
   "id": "2a981fda",
   "metadata": {},
   "outputs": [
    {
     "name": "stdout",
     "output_type": "stream",
     "text": [
      "Requirement already satisfied: plotly in /opt/anaconda3/lib/python3.9/site-packages (5.6.0)\n",
      "Requirement already satisfied: tenacity>=6.2.0 in /opt/anaconda3/lib/python3.9/site-packages (from plotly) (8.0.1)\n",
      "Requirement already satisfied: six in /opt/anaconda3/lib/python3.9/site-packages (from plotly) (1.16.0)\n",
      "Note: you may need to restart the kernel to use updated packages.\n"
     ]
    }
   ],
   "source": [
    "pip install plotly"
   ]
  },
  {
   "cell_type": "code",
   "execution_count": 262,
   "id": "49ccabbf",
   "metadata": {},
   "outputs": [],
   "source": [
    "import plotly.express as px\n",
    "import plotly.graph_objects as go"
   ]
  },
  {
   "cell_type": "code",
   "execution_count": 263,
   "id": "27767b01",
   "metadata": {},
   "outputs": [
    {
     "data": {
      "application/vnd.plotly.v1+json": {
       "config": {
        "plotlyServerURL": "https://plot.ly"
       },
       "data": [
        {
         "text": [
          [
           1,
           -0.2746433638286839
          ],
          [
           -0.2746433638286839,
           1
          ]
         ],
         "texttemplate": "%{text:.2f}",
         "type": "heatmap",
         "x": [
          "total_raised",
          "Incumbent_Status"
         ],
         "y": [
          "total_raised",
          "Incumbent_Status"
         ],
         "z": [
          [
           1,
           -0.2746433638286839
          ],
          [
           -0.2746433638286839,
           1
          ]
         ]
        }
       ],
       "layout": {
        "template": {
         "data": {
          "bar": [
           {
            "error_x": {
             "color": "#2a3f5f"
            },
            "error_y": {
             "color": "#2a3f5f"
            },
            "marker": {
             "line": {
              "color": "#E5ECF6",
              "width": 0.5
             },
             "pattern": {
              "fillmode": "overlay",
              "size": 10,
              "solidity": 0.2
             }
            },
            "type": "bar"
           }
          ],
          "barpolar": [
           {
            "marker": {
             "line": {
              "color": "#E5ECF6",
              "width": 0.5
             },
             "pattern": {
              "fillmode": "overlay",
              "size": 10,
              "solidity": 0.2
             }
            },
            "type": "barpolar"
           }
          ],
          "carpet": [
           {
            "aaxis": {
             "endlinecolor": "#2a3f5f",
             "gridcolor": "white",
             "linecolor": "white",
             "minorgridcolor": "white",
             "startlinecolor": "#2a3f5f"
            },
            "baxis": {
             "endlinecolor": "#2a3f5f",
             "gridcolor": "white",
             "linecolor": "white",
             "minorgridcolor": "white",
             "startlinecolor": "#2a3f5f"
            },
            "type": "carpet"
           }
          ],
          "choropleth": [
           {
            "colorbar": {
             "outlinewidth": 0,
             "ticks": ""
            },
            "type": "choropleth"
           }
          ],
          "contour": [
           {
            "colorbar": {
             "outlinewidth": 0,
             "ticks": ""
            },
            "colorscale": [
             [
              0,
              "#0d0887"
             ],
             [
              0.1111111111111111,
              "#46039f"
             ],
             [
              0.2222222222222222,
              "#7201a8"
             ],
             [
              0.3333333333333333,
              "#9c179e"
             ],
             [
              0.4444444444444444,
              "#bd3786"
             ],
             [
              0.5555555555555556,
              "#d8576b"
             ],
             [
              0.6666666666666666,
              "#ed7953"
             ],
             [
              0.7777777777777778,
              "#fb9f3a"
             ],
             [
              0.8888888888888888,
              "#fdca26"
             ],
             [
              1,
              "#f0f921"
             ]
            ],
            "type": "contour"
           }
          ],
          "contourcarpet": [
           {
            "colorbar": {
             "outlinewidth": 0,
             "ticks": ""
            },
            "type": "contourcarpet"
           }
          ],
          "heatmap": [
           {
            "colorbar": {
             "outlinewidth": 0,
             "ticks": ""
            },
            "colorscale": [
             [
              0,
              "#0d0887"
             ],
             [
              0.1111111111111111,
              "#46039f"
             ],
             [
              0.2222222222222222,
              "#7201a8"
             ],
             [
              0.3333333333333333,
              "#9c179e"
             ],
             [
              0.4444444444444444,
              "#bd3786"
             ],
             [
              0.5555555555555556,
              "#d8576b"
             ],
             [
              0.6666666666666666,
              "#ed7953"
             ],
             [
              0.7777777777777778,
              "#fb9f3a"
             ],
             [
              0.8888888888888888,
              "#fdca26"
             ],
             [
              1,
              "#f0f921"
             ]
            ],
            "type": "heatmap"
           }
          ],
          "heatmapgl": [
           {
            "colorbar": {
             "outlinewidth": 0,
             "ticks": ""
            },
            "colorscale": [
             [
              0,
              "#0d0887"
             ],
             [
              0.1111111111111111,
              "#46039f"
             ],
             [
              0.2222222222222222,
              "#7201a8"
             ],
             [
              0.3333333333333333,
              "#9c179e"
             ],
             [
              0.4444444444444444,
              "#bd3786"
             ],
             [
              0.5555555555555556,
              "#d8576b"
             ],
             [
              0.6666666666666666,
              "#ed7953"
             ],
             [
              0.7777777777777778,
              "#fb9f3a"
             ],
             [
              0.8888888888888888,
              "#fdca26"
             ],
             [
              1,
              "#f0f921"
             ]
            ],
            "type": "heatmapgl"
           }
          ],
          "histogram": [
           {
            "marker": {
             "pattern": {
              "fillmode": "overlay",
              "size": 10,
              "solidity": 0.2
             }
            },
            "type": "histogram"
           }
          ],
          "histogram2d": [
           {
            "colorbar": {
             "outlinewidth": 0,
             "ticks": ""
            },
            "colorscale": [
             [
              0,
              "#0d0887"
             ],
             [
              0.1111111111111111,
              "#46039f"
             ],
             [
              0.2222222222222222,
              "#7201a8"
             ],
             [
              0.3333333333333333,
              "#9c179e"
             ],
             [
              0.4444444444444444,
              "#bd3786"
             ],
             [
              0.5555555555555556,
              "#d8576b"
             ],
             [
              0.6666666666666666,
              "#ed7953"
             ],
             [
              0.7777777777777778,
              "#fb9f3a"
             ],
             [
              0.8888888888888888,
              "#fdca26"
             ],
             [
              1,
              "#f0f921"
             ]
            ],
            "type": "histogram2d"
           }
          ],
          "histogram2dcontour": [
           {
            "colorbar": {
             "outlinewidth": 0,
             "ticks": ""
            },
            "colorscale": [
             [
              0,
              "#0d0887"
             ],
             [
              0.1111111111111111,
              "#46039f"
             ],
             [
              0.2222222222222222,
              "#7201a8"
             ],
             [
              0.3333333333333333,
              "#9c179e"
             ],
             [
              0.4444444444444444,
              "#bd3786"
             ],
             [
              0.5555555555555556,
              "#d8576b"
             ],
             [
              0.6666666666666666,
              "#ed7953"
             ],
             [
              0.7777777777777778,
              "#fb9f3a"
             ],
             [
              0.8888888888888888,
              "#fdca26"
             ],
             [
              1,
              "#f0f921"
             ]
            ],
            "type": "histogram2dcontour"
           }
          ],
          "mesh3d": [
           {
            "colorbar": {
             "outlinewidth": 0,
             "ticks": ""
            },
            "type": "mesh3d"
           }
          ],
          "parcoords": [
           {
            "line": {
             "colorbar": {
              "outlinewidth": 0,
              "ticks": ""
             }
            },
            "type": "parcoords"
           }
          ],
          "pie": [
           {
            "automargin": true,
            "type": "pie"
           }
          ],
          "scatter": [
           {
            "marker": {
             "colorbar": {
              "outlinewidth": 0,
              "ticks": ""
             }
            },
            "type": "scatter"
           }
          ],
          "scatter3d": [
           {
            "line": {
             "colorbar": {
              "outlinewidth": 0,
              "ticks": ""
             }
            },
            "marker": {
             "colorbar": {
              "outlinewidth": 0,
              "ticks": ""
             }
            },
            "type": "scatter3d"
           }
          ],
          "scattercarpet": [
           {
            "marker": {
             "colorbar": {
              "outlinewidth": 0,
              "ticks": ""
             }
            },
            "type": "scattercarpet"
           }
          ],
          "scattergeo": [
           {
            "marker": {
             "colorbar": {
              "outlinewidth": 0,
              "ticks": ""
             }
            },
            "type": "scattergeo"
           }
          ],
          "scattergl": [
           {
            "marker": {
             "colorbar": {
              "outlinewidth": 0,
              "ticks": ""
             }
            },
            "type": "scattergl"
           }
          ],
          "scattermapbox": [
           {
            "marker": {
             "colorbar": {
              "outlinewidth": 0,
              "ticks": ""
             }
            },
            "type": "scattermapbox"
           }
          ],
          "scatterpolar": [
           {
            "marker": {
             "colorbar": {
              "outlinewidth": 0,
              "ticks": ""
             }
            },
            "type": "scatterpolar"
           }
          ],
          "scatterpolargl": [
           {
            "marker": {
             "colorbar": {
              "outlinewidth": 0,
              "ticks": ""
             }
            },
            "type": "scatterpolargl"
           }
          ],
          "scatterternary": [
           {
            "marker": {
             "colorbar": {
              "outlinewidth": 0,
              "ticks": ""
             }
            },
            "type": "scatterternary"
           }
          ],
          "surface": [
           {
            "colorbar": {
             "outlinewidth": 0,
             "ticks": ""
            },
            "colorscale": [
             [
              0,
              "#0d0887"
             ],
             [
              0.1111111111111111,
              "#46039f"
             ],
             [
              0.2222222222222222,
              "#7201a8"
             ],
             [
              0.3333333333333333,
              "#9c179e"
             ],
             [
              0.4444444444444444,
              "#bd3786"
             ],
             [
              0.5555555555555556,
              "#d8576b"
             ],
             [
              0.6666666666666666,
              "#ed7953"
             ],
             [
              0.7777777777777778,
              "#fb9f3a"
             ],
             [
              0.8888888888888888,
              "#fdca26"
             ],
             [
              1,
              "#f0f921"
             ]
            ],
            "type": "surface"
           }
          ],
          "table": [
           {
            "cells": {
             "fill": {
              "color": "#EBF0F8"
             },
             "line": {
              "color": "white"
             }
            },
            "header": {
             "fill": {
              "color": "#C8D4E3"
             },
             "line": {
              "color": "white"
             }
            },
            "type": "table"
           }
          ]
         },
         "layout": {
          "annotationdefaults": {
           "arrowcolor": "#2a3f5f",
           "arrowhead": 0,
           "arrowwidth": 1
          },
          "autotypenumbers": "strict",
          "coloraxis": {
           "colorbar": {
            "outlinewidth": 0,
            "ticks": ""
           }
          },
          "colorscale": {
           "diverging": [
            [
             0,
             "#8e0152"
            ],
            [
             0.1,
             "#c51b7d"
            ],
            [
             0.2,
             "#de77ae"
            ],
            [
             0.3,
             "#f1b6da"
            ],
            [
             0.4,
             "#fde0ef"
            ],
            [
             0.5,
             "#f7f7f7"
            ],
            [
             0.6,
             "#e6f5d0"
            ],
            [
             0.7,
             "#b8e186"
            ],
            [
             0.8,
             "#7fbc41"
            ],
            [
             0.9,
             "#4d9221"
            ],
            [
             1,
             "#276419"
            ]
           ],
           "sequential": [
            [
             0,
             "#0d0887"
            ],
            [
             0.1111111111111111,
             "#46039f"
            ],
            [
             0.2222222222222222,
             "#7201a8"
            ],
            [
             0.3333333333333333,
             "#9c179e"
            ],
            [
             0.4444444444444444,
             "#bd3786"
            ],
            [
             0.5555555555555556,
             "#d8576b"
            ],
            [
             0.6666666666666666,
             "#ed7953"
            ],
            [
             0.7777777777777778,
             "#fb9f3a"
            ],
            [
             0.8888888888888888,
             "#fdca26"
            ],
            [
             1,
             "#f0f921"
            ]
           ],
           "sequentialminus": [
            [
             0,
             "#0d0887"
            ],
            [
             0.1111111111111111,
             "#46039f"
            ],
            [
             0.2222222222222222,
             "#7201a8"
            ],
            [
             0.3333333333333333,
             "#9c179e"
            ],
            [
             0.4444444444444444,
             "#bd3786"
            ],
            [
             0.5555555555555556,
             "#d8576b"
            ],
            [
             0.6666666666666666,
             "#ed7953"
            ],
            [
             0.7777777777777778,
             "#fb9f3a"
            ],
            [
             0.8888888888888888,
             "#fdca26"
            ],
            [
             1,
             "#f0f921"
            ]
           ]
          },
          "colorway": [
           "#636efa",
           "#EF553B",
           "#00cc96",
           "#ab63fa",
           "#FFA15A",
           "#19d3f3",
           "#FF6692",
           "#B6E880",
           "#FF97FF",
           "#FECB52"
          ],
          "font": {
           "color": "#2a3f5f"
          },
          "geo": {
           "bgcolor": "white",
           "lakecolor": "white",
           "landcolor": "#E5ECF6",
           "showlakes": true,
           "showland": true,
           "subunitcolor": "white"
          },
          "hoverlabel": {
           "align": "left"
          },
          "hovermode": "closest",
          "mapbox": {
           "style": "light"
          },
          "paper_bgcolor": "white",
          "plot_bgcolor": "#E5ECF6",
          "polar": {
           "angularaxis": {
            "gridcolor": "white",
            "linecolor": "white",
            "ticks": ""
           },
           "bgcolor": "#E5ECF6",
           "radialaxis": {
            "gridcolor": "white",
            "linecolor": "white",
            "ticks": ""
           }
          },
          "scene": {
           "xaxis": {
            "backgroundcolor": "#E5ECF6",
            "gridcolor": "white",
            "gridwidth": 2,
            "linecolor": "white",
            "showbackground": true,
            "ticks": "",
            "zerolinecolor": "white"
           },
           "yaxis": {
            "backgroundcolor": "#E5ECF6",
            "gridcolor": "white",
            "gridwidth": 2,
            "linecolor": "white",
            "showbackground": true,
            "ticks": "",
            "zerolinecolor": "white"
           },
           "zaxis": {
            "backgroundcolor": "#E5ECF6",
            "gridcolor": "white",
            "gridwidth": 2,
            "linecolor": "white",
            "showbackground": true,
            "ticks": "",
            "zerolinecolor": "white"
           }
          },
          "shapedefaults": {
           "line": {
            "color": "#2a3f5f"
           }
          },
          "ternary": {
           "aaxis": {
            "gridcolor": "white",
            "linecolor": "white",
            "ticks": ""
           },
           "baxis": {
            "gridcolor": "white",
            "linecolor": "white",
            "ticks": ""
           },
           "bgcolor": "#E5ECF6",
           "caxis": {
            "gridcolor": "white",
            "linecolor": "white",
            "ticks": ""
           }
          },
          "title": {
           "x": 0.05
          },
          "xaxis": {
           "automargin": true,
           "gridcolor": "white",
           "linecolor": "white",
           "ticks": "",
           "title": {
            "standoff": 15
           },
           "zerolinecolor": "white",
           "zerolinewidth": 2
          },
          "yaxis": {
           "automargin": true,
           "gridcolor": "white",
           "linecolor": "white",
           "ticks": "",
           "title": {
            "standoff": 15
           },
           "zerolinecolor": "white",
           "zerolinewidth": 2
          }
         }
        }
       }
      },
      "text/html": [
       "<div>                            <div id=\"f621dcd0-de0c-462a-bbfe-b924bb67f977\" class=\"plotly-graph-div\" style=\"height:525px; width:100%;\"></div>            <script type=\"text/javascript\">                require([\"plotly\"], function(Plotly) {                    window.PLOTLYENV=window.PLOTLYENV || {};                                    if (document.getElementById(\"f621dcd0-de0c-462a-bbfe-b924bb67f977\")) {                    Plotly.newPlot(                        \"f621dcd0-de0c-462a-bbfe-b924bb67f977\",                        [{\"text\":[[1.0,-0.2746433638286839],[-0.2746433638286839,1.0]],\"texttemplate\":\"%{text:.2f}\",\"x\":[\"total_raised\",\"Incumbent_Status\"],\"y\":[\"total_raised\",\"Incumbent_Status\"],\"z\":[[1.0,-0.2746433638286839],[-0.2746433638286839,1.0]],\"type\":\"heatmap\"}],                        {\"template\":{\"data\":{\"bar\":[{\"error_x\":{\"color\":\"#2a3f5f\"},\"error_y\":{\"color\":\"#2a3f5f\"},\"marker\":{\"line\":{\"color\":\"#E5ECF6\",\"width\":0.5},\"pattern\":{\"fillmode\":\"overlay\",\"size\":10,\"solidity\":0.2}},\"type\":\"bar\"}],\"barpolar\":[{\"marker\":{\"line\":{\"color\":\"#E5ECF6\",\"width\":0.5},\"pattern\":{\"fillmode\":\"overlay\",\"size\":10,\"solidity\":0.2}},\"type\":\"barpolar\"}],\"carpet\":[{\"aaxis\":{\"endlinecolor\":\"#2a3f5f\",\"gridcolor\":\"white\",\"linecolor\":\"white\",\"minorgridcolor\":\"white\",\"startlinecolor\":\"#2a3f5f\"},\"baxis\":{\"endlinecolor\":\"#2a3f5f\",\"gridcolor\":\"white\",\"linecolor\":\"white\",\"minorgridcolor\":\"white\",\"startlinecolor\":\"#2a3f5f\"},\"type\":\"carpet\"}],\"choropleth\":[{\"colorbar\":{\"outlinewidth\":0,\"ticks\":\"\"},\"type\":\"choropleth\"}],\"contour\":[{\"colorbar\":{\"outlinewidth\":0,\"ticks\":\"\"},\"colorscale\":[[0.0,\"#0d0887\"],[0.1111111111111111,\"#46039f\"],[0.2222222222222222,\"#7201a8\"],[0.3333333333333333,\"#9c179e\"],[0.4444444444444444,\"#bd3786\"],[0.5555555555555556,\"#d8576b\"],[0.6666666666666666,\"#ed7953\"],[0.7777777777777778,\"#fb9f3a\"],[0.8888888888888888,\"#fdca26\"],[1.0,\"#f0f921\"]],\"type\":\"contour\"}],\"contourcarpet\":[{\"colorbar\":{\"outlinewidth\":0,\"ticks\":\"\"},\"type\":\"contourcarpet\"}],\"heatmap\":[{\"colorbar\":{\"outlinewidth\":0,\"ticks\":\"\"},\"colorscale\":[[0.0,\"#0d0887\"],[0.1111111111111111,\"#46039f\"],[0.2222222222222222,\"#7201a8\"],[0.3333333333333333,\"#9c179e\"],[0.4444444444444444,\"#bd3786\"],[0.5555555555555556,\"#d8576b\"],[0.6666666666666666,\"#ed7953\"],[0.7777777777777778,\"#fb9f3a\"],[0.8888888888888888,\"#fdca26\"],[1.0,\"#f0f921\"]],\"type\":\"heatmap\"}],\"heatmapgl\":[{\"colorbar\":{\"outlinewidth\":0,\"ticks\":\"\"},\"colorscale\":[[0.0,\"#0d0887\"],[0.1111111111111111,\"#46039f\"],[0.2222222222222222,\"#7201a8\"],[0.3333333333333333,\"#9c179e\"],[0.4444444444444444,\"#bd3786\"],[0.5555555555555556,\"#d8576b\"],[0.6666666666666666,\"#ed7953\"],[0.7777777777777778,\"#fb9f3a\"],[0.8888888888888888,\"#fdca26\"],[1.0,\"#f0f921\"]],\"type\":\"heatmapgl\"}],\"histogram\":[{\"marker\":{\"pattern\":{\"fillmode\":\"overlay\",\"size\":10,\"solidity\":0.2}},\"type\":\"histogram\"}],\"histogram2d\":[{\"colorbar\":{\"outlinewidth\":0,\"ticks\":\"\"},\"colorscale\":[[0.0,\"#0d0887\"],[0.1111111111111111,\"#46039f\"],[0.2222222222222222,\"#7201a8\"],[0.3333333333333333,\"#9c179e\"],[0.4444444444444444,\"#bd3786\"],[0.5555555555555556,\"#d8576b\"],[0.6666666666666666,\"#ed7953\"],[0.7777777777777778,\"#fb9f3a\"],[0.8888888888888888,\"#fdca26\"],[1.0,\"#f0f921\"]],\"type\":\"histogram2d\"}],\"histogram2dcontour\":[{\"colorbar\":{\"outlinewidth\":0,\"ticks\":\"\"},\"colorscale\":[[0.0,\"#0d0887\"],[0.1111111111111111,\"#46039f\"],[0.2222222222222222,\"#7201a8\"],[0.3333333333333333,\"#9c179e\"],[0.4444444444444444,\"#bd3786\"],[0.5555555555555556,\"#d8576b\"],[0.6666666666666666,\"#ed7953\"],[0.7777777777777778,\"#fb9f3a\"],[0.8888888888888888,\"#fdca26\"],[1.0,\"#f0f921\"]],\"type\":\"histogram2dcontour\"}],\"mesh3d\":[{\"colorbar\":{\"outlinewidth\":0,\"ticks\":\"\"},\"type\":\"mesh3d\"}],\"parcoords\":[{\"line\":{\"colorbar\":{\"outlinewidth\":0,\"ticks\":\"\"}},\"type\":\"parcoords\"}],\"pie\":[{\"automargin\":true,\"type\":\"pie\"}],\"scatter\":[{\"marker\":{\"colorbar\":{\"outlinewidth\":0,\"ticks\":\"\"}},\"type\":\"scatter\"}],\"scatter3d\":[{\"line\":{\"colorbar\":{\"outlinewidth\":0,\"ticks\":\"\"}},\"marker\":{\"colorbar\":{\"outlinewidth\":0,\"ticks\":\"\"}},\"type\":\"scatter3d\"}],\"scattercarpet\":[{\"marker\":{\"colorbar\":{\"outlinewidth\":0,\"ticks\":\"\"}},\"type\":\"scattercarpet\"}],\"scattergeo\":[{\"marker\":{\"colorbar\":{\"outlinewidth\":0,\"ticks\":\"\"}},\"type\":\"scattergeo\"}],\"scattergl\":[{\"marker\":{\"colorbar\":{\"outlinewidth\":0,\"ticks\":\"\"}},\"type\":\"scattergl\"}],\"scattermapbox\":[{\"marker\":{\"colorbar\":{\"outlinewidth\":0,\"ticks\":\"\"}},\"type\":\"scattermapbox\"}],\"scatterpolar\":[{\"marker\":{\"colorbar\":{\"outlinewidth\":0,\"ticks\":\"\"}},\"type\":\"scatterpolar\"}],\"scatterpolargl\":[{\"marker\":{\"colorbar\":{\"outlinewidth\":0,\"ticks\":\"\"}},\"type\":\"scatterpolargl\"}],\"scatterternary\":[{\"marker\":{\"colorbar\":{\"outlinewidth\":0,\"ticks\":\"\"}},\"type\":\"scatterternary\"}],\"surface\":[{\"colorbar\":{\"outlinewidth\":0,\"ticks\":\"\"},\"colorscale\":[[0.0,\"#0d0887\"],[0.1111111111111111,\"#46039f\"],[0.2222222222222222,\"#7201a8\"],[0.3333333333333333,\"#9c179e\"],[0.4444444444444444,\"#bd3786\"],[0.5555555555555556,\"#d8576b\"],[0.6666666666666666,\"#ed7953\"],[0.7777777777777778,\"#fb9f3a\"],[0.8888888888888888,\"#fdca26\"],[1.0,\"#f0f921\"]],\"type\":\"surface\"}],\"table\":[{\"cells\":{\"fill\":{\"color\":\"#EBF0F8\"},\"line\":{\"color\":\"white\"}},\"header\":{\"fill\":{\"color\":\"#C8D4E3\"},\"line\":{\"color\":\"white\"}},\"type\":\"table\"}]},\"layout\":{\"annotationdefaults\":{\"arrowcolor\":\"#2a3f5f\",\"arrowhead\":0,\"arrowwidth\":1},\"autotypenumbers\":\"strict\",\"coloraxis\":{\"colorbar\":{\"outlinewidth\":0,\"ticks\":\"\"}},\"colorscale\":{\"diverging\":[[0,\"#8e0152\"],[0.1,\"#c51b7d\"],[0.2,\"#de77ae\"],[0.3,\"#f1b6da\"],[0.4,\"#fde0ef\"],[0.5,\"#f7f7f7\"],[0.6,\"#e6f5d0\"],[0.7,\"#b8e186\"],[0.8,\"#7fbc41\"],[0.9,\"#4d9221\"],[1,\"#276419\"]],\"sequential\":[[0.0,\"#0d0887\"],[0.1111111111111111,\"#46039f\"],[0.2222222222222222,\"#7201a8\"],[0.3333333333333333,\"#9c179e\"],[0.4444444444444444,\"#bd3786\"],[0.5555555555555556,\"#d8576b\"],[0.6666666666666666,\"#ed7953\"],[0.7777777777777778,\"#fb9f3a\"],[0.8888888888888888,\"#fdca26\"],[1.0,\"#f0f921\"]],\"sequentialminus\":[[0.0,\"#0d0887\"],[0.1111111111111111,\"#46039f\"],[0.2222222222222222,\"#7201a8\"],[0.3333333333333333,\"#9c179e\"],[0.4444444444444444,\"#bd3786\"],[0.5555555555555556,\"#d8576b\"],[0.6666666666666666,\"#ed7953\"],[0.7777777777777778,\"#fb9f3a\"],[0.8888888888888888,\"#fdca26\"],[1.0,\"#f0f921\"]]},\"colorway\":[\"#636efa\",\"#EF553B\",\"#00cc96\",\"#ab63fa\",\"#FFA15A\",\"#19d3f3\",\"#FF6692\",\"#B6E880\",\"#FF97FF\",\"#FECB52\"],\"font\":{\"color\":\"#2a3f5f\"},\"geo\":{\"bgcolor\":\"white\",\"lakecolor\":\"white\",\"landcolor\":\"#E5ECF6\",\"showlakes\":true,\"showland\":true,\"subunitcolor\":\"white\"},\"hoverlabel\":{\"align\":\"left\"},\"hovermode\":\"closest\",\"mapbox\":{\"style\":\"light\"},\"paper_bgcolor\":\"white\",\"plot_bgcolor\":\"#E5ECF6\",\"polar\":{\"angularaxis\":{\"gridcolor\":\"white\",\"linecolor\":\"white\",\"ticks\":\"\"},\"bgcolor\":\"#E5ECF6\",\"radialaxis\":{\"gridcolor\":\"white\",\"linecolor\":\"white\",\"ticks\":\"\"}},\"scene\":{\"xaxis\":{\"backgroundcolor\":\"#E5ECF6\",\"gridcolor\":\"white\",\"gridwidth\":2,\"linecolor\":\"white\",\"showbackground\":true,\"ticks\":\"\",\"zerolinecolor\":\"white\"},\"yaxis\":{\"backgroundcolor\":\"#E5ECF6\",\"gridcolor\":\"white\",\"gridwidth\":2,\"linecolor\":\"white\",\"showbackground\":true,\"ticks\":\"\",\"zerolinecolor\":\"white\"},\"zaxis\":{\"backgroundcolor\":\"#E5ECF6\",\"gridcolor\":\"white\",\"gridwidth\":2,\"linecolor\":\"white\",\"showbackground\":true,\"ticks\":\"\",\"zerolinecolor\":\"white\"}},\"shapedefaults\":{\"line\":{\"color\":\"#2a3f5f\"}},\"ternary\":{\"aaxis\":{\"gridcolor\":\"white\",\"linecolor\":\"white\",\"ticks\":\"\"},\"baxis\":{\"gridcolor\":\"white\",\"linecolor\":\"white\",\"ticks\":\"\"},\"bgcolor\":\"#E5ECF6\",\"caxis\":{\"gridcolor\":\"white\",\"linecolor\":\"white\",\"ticks\":\"\"}},\"title\":{\"x\":0.05},\"xaxis\":{\"automargin\":true,\"gridcolor\":\"white\",\"linecolor\":\"white\",\"ticks\":\"\",\"title\":{\"standoff\":15},\"zerolinecolor\":\"white\",\"zerolinewidth\":2},\"yaxis\":{\"automargin\":true,\"gridcolor\":\"white\",\"linecolor\":\"white\",\"ticks\":\"\",\"title\":{\"standoff\":15},\"zerolinecolor\":\"white\",\"zerolinewidth\":2}}}},                        {\"responsive\": true}                    ).then(function(){\n",
       "                            \n",
       "var gd = document.getElementById('f621dcd0-de0c-462a-bbfe-b924bb67f977');\n",
       "var x = new MutationObserver(function (mutations, observer) {{\n",
       "        var display = window.getComputedStyle(gd).display;\n",
       "        if (!display || display === 'none') {{\n",
       "            console.log([gd, 'removed!']);\n",
       "            Plotly.purge(gd);\n",
       "            observer.disconnect();\n",
       "        }}\n",
       "}});\n",
       "\n",
       "// Listen for the removal of the full notebook cells\n",
       "var notebookContainer = gd.closest('#notebook-container');\n",
       "if (notebookContainer) {{\n",
       "    x.observe(notebookContainer, {childList: true});\n",
       "}}\n",
       "\n",
       "// Listen for the clearing of the current output cell\n",
       "var outputEl = gd.closest('.output');\n",
       "if (outputEl) {{\n",
       "    x.observe(outputEl, {childList: true});\n",
       "}}\n",
       "\n",
       "                        })                };                });            </script>        </div>"
      ]
     },
     "metadata": {},
     "output_type": "display_data"
    }
   ],
   "source": [
    "df_corr = question_e.corr()\n",
    "\n",
    "fig = go.Figure()\n",
    "fig.add_trace(\n",
    "    go.Heatmap(\n",
    "        x = df_corr.columns,\n",
    "        y = df_corr.index,\n",
    "        z = np.array(df_corr),\n",
    "        text=df_corr.values,\n",
    "        texttemplate='%{text:.2f}'\n",
    "    )\n",
    ")\n",
    "fig.show()"
   ]
  }
 ],
 "metadata": {
  "kernelspec": {
   "display_name": "Python 3 (ipykernel)",
   "language": "python",
   "name": "python3"
  },
  "language_info": {
   "codemirror_mode": {
    "name": "ipython",
    "version": 3
   },
   "file_extension": ".py",
   "mimetype": "text/x-python",
   "name": "python",
   "nbconvert_exporter": "python",
   "pygments_lexer": "ipython3",
   "version": "3.9.12"
  }
 },
 "nbformat": 4,
 "nbformat_minor": 5
}
