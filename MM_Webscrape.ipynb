{
 "cells": [
  {
   "cell_type": "code",
   "execution_count": 32,
   "id": "029a4c92",
   "metadata": {},
   "outputs": [],
   "source": [
    "import requests\n",
    "from bs4 import BeautifulSoup as BS\n",
    "import pandas as pd\n",
    "import numpy as np\n",
    "import re"
   ]
  },
  {
   "cell_type": "code",
   "execution_count": null,
   "id": "8cca13ed",
   "metadata": {},
   "outputs": [],
   "source": [
    "state_info = pd.read_csv('../')"
   ]
  },
  {
   "cell_type": "code",
   "execution_count": null,
   "id": "5a0daebe",
   "metadata": {},
   "outputs": [],
   "source": [
    "#These below functions sift through the candidate header for information\n",
    "def name_extractor(candidate):\n",
    "            return re.findall(r'[A-Z]\\w+ [A-Z]\\w+',candidate)[0]\n",
    "def party_extractor(candidate):\n",
    "            return re.findall(r'\\(\\w\\)',candidate)[0]\n",
    "def incumbent_finder(candidate):\n",
    "            incumbent = re.findall(r'Incumbent',candidate)\n",
    "            if len(incumbent)>0:\n",
    "                return incumbent[0]\n",
    "            else: \n",
    "                return 'N/a'\n",
    "def winner_finder(candidate):\n",
    "            winner = re.findall(r'Winner',candidate)\n",
    "            if len(winner)>0:\n",
    "                return winner[0]\n",
    "            else:\n",
    "                return 'N/a'\n",
    "def percentage_vote_finder(candidate):\n",
    "            return re.findall(r'(?<=\\()\\d+.\\d\\%',candidate)\n",
    "#This will be based on the website you are on, there are different websites for each State,District combo. That's why soup is input\n",
    "def state_and_district_finder(soup):\n",
    "            string = str(soup.findAll('h1'))\n",
    "            state = re.findall(r'(?<=>)[A-Z]\\w+', string)\n",
    "            district = re.findall(r'District \\d{2}', string)\n",
    "            return state, district; \n",
    "        \n",
    "\n",
    "results = []\n",
    "state_list = x\n",
    "district_list = x\n",
    "for state in state_list & for district in district_list:\n",
    "      url = f'https://www.opensecrets.org/races/candidates?cycle=2020&id={state}{district}&spec=N'\n",
    "      results.append(url)\n",
    "      page = page + 1\n",
    "        \n",
    "response = requests.get(url)\n",
    "response.text\n",
    "soup = BS(response.text)\n",
    "\n",
    "state_and_district = state_and_district_finder(soup)\n",
    "candidates = []\n",
    "for candidate in soup.findAll('div', class_ = \"Members--bio u-richtext\"):\n",
    "           candidates.append(candidate.text.strip()) \n",
    "money = []\n",
    "for tag in soup.findAll('table', class_ = 'Members--table'):\n",
    "           for anchor in tag.findAll('td', class_ = 'Members--number'):\n",
    "              money.append(int(anchor.text.replace('$','').replace(',','')))\n",
    "money_table = np.reshape(money, (len(candidates),3))\n",
    "names = []\n",
    "party_affiliation = []\n",
    "incumbent_status = []\n",
    "winner_status = []\n",
    "percentage_vote = []\n",
    "for i in candidates:\n",
    "           names.append(name_extractor(i))\n",
    "           party_affiliation.append(party_extractor(i))\n",
    "           incumbent_status.append(incumbent_finder(i))\n",
    "           winner_status.append(winner_finder(i))\n",
    "           percentage_vote.append(percentage_vote_finder(i))\n",
    "congressional_races = pd.DataFrame({'Name':names,\n",
    "                            'Party':party_affiliation,\n",
    "                            'State':state_and_district[0]*len(candidates),\n",
    "                            'District Number':state_and_district[1]*len(candidates),\n",
    "                            'Incumbent Status':incumbent_status,\n",
    "                            'Winner Status':winner_status,\n",
    "                            'Percentage of Vote':percentage_vote,\n",
    "                            'Total Amount Raised':list(money_table[:,0]),\n",
    "                            'Total Amount Spent':list(money_table[:,1])\n",
    "                            })\n",
    "\n",
    "congressional_races"
   ]
  },
  {
   "cell_type": "code",
   "execution_count": null,
   "id": "02c70864",
   "metadata": {},
   "outputs": [],
   "source": [
    "congressional_races['District Number']"
   ]
  },
  {
   "cell_type": "code",
   "execution_count": null,
   "id": "8fab546f",
   "metadata": {},
   "outputs": [],
   "source": []
  }
 ],
 "metadata": {
  "kernelspec": {
   "display_name": "Python 3 (ipykernel)",
   "language": "python",
   "name": "python3"
  },
  "language_info": {
   "codemirror_mode": {
    "name": "ipython",
    "version": 3
   },
   "file_extension": ".py",
   "mimetype": "text/x-python",
   "name": "python",
   "nbconvert_exporter": "python",
   "pygments_lexer": "ipython3",
   "version": "3.9.12"
  }
 },
 "nbformat": 4,
 "nbformat_minor": 5
}
