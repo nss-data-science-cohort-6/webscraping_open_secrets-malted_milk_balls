{
 "cells": [
  {
   "cell_type": "code",
   "execution_count": 1,
   "id": "797a041b",
   "metadata": {},
   "outputs": [],
   "source": [
    "import pandas as pd\n",
    "import numpy as np\n",
    "import re\n",
    "import itertools as it"
   ]
  },
  {
   "cell_type": "code",
   "execution_count": 2,
   "id": "3aeee999",
   "metadata": {},
   "outputs": [],
   "source": [
    "candidates = pd.read_csv('../webscraping_open_secrets-malted_milk_balls/candidates.csv')"
   ]
  },
  {
   "cell_type": "code",
   "execution_count": 3,
   "id": "c409421c",
   "metadata": {
    "scrolled": true
   },
   "outputs": [
    {
     "data": {
      "text/html": [
       "<div>\n",
       "<style scoped>\n",
       "    .dataframe tbody tr th:only-of-type {\n",
       "        vertical-align: middle;\n",
       "    }\n",
       "\n",
       "    .dataframe tbody tr th {\n",
       "        vertical-align: top;\n",
       "    }\n",
       "\n",
       "    .dataframe thead th {\n",
       "        text-align: right;\n",
       "    }\n",
       "</style>\n",
       "<table border=\"1\" class=\"dataframe\">\n",
       "  <thead>\n",
       "    <tr style=\"text-align: right;\">\n",
       "      <th></th>\n",
       "      <th>Unnamed: 0</th>\n",
       "      <th>Name</th>\n",
       "      <th>Party</th>\n",
       "      <th>State</th>\n",
       "      <th>District Number</th>\n",
       "      <th>Incumbent Status</th>\n",
       "      <th>Winner Status</th>\n",
       "      <th>Percentage of Vote</th>\n",
       "      <th>Total Amount Raised</th>\n",
       "      <th>Total Amount Spent</th>\n",
       "    </tr>\n",
       "  </thead>\n",
       "  <tbody>\n",
       "    <tr>\n",
       "      <th>0</th>\n",
       "      <td>0</td>\n",
       "      <td>Jerry Carl</td>\n",
       "      <td>(R)</td>\n",
       "      <td>Alabama</td>\n",
       "      <td>District 01</td>\n",
       "      <td>N/a</td>\n",
       "      <td>Winner</td>\n",
       "      <td>64.9</td>\n",
       "      <td>1971321</td>\n",
       "      <td>1859349</td>\n",
       "    </tr>\n",
       "    <tr>\n",
       "      <th>1</th>\n",
       "      <td>1</td>\n",
       "      <td>James Averhart</td>\n",
       "      <td>(D)</td>\n",
       "      <td>Alabama</td>\n",
       "      <td>District 01</td>\n",
       "      <td>N/a</td>\n",
       "      <td>N/a</td>\n",
       "      <td>35.0</td>\n",
       "      <td>80095</td>\n",
       "      <td>78973</td>\n",
       "    </tr>\n",
       "    <tr>\n",
       "      <th>2</th>\n",
       "      <td>2</td>\n",
       "      <td>Barry Moore</td>\n",
       "      <td>(R)</td>\n",
       "      <td>Alabama</td>\n",
       "      <td>District 02</td>\n",
       "      <td>N/a</td>\n",
       "      <td>Winner</td>\n",
       "      <td>65.3</td>\n",
       "      <td>650807</td>\n",
       "      <td>669368</td>\n",
       "    </tr>\n",
       "    <tr>\n",
       "      <th>3</th>\n",
       "      <td>3</td>\n",
       "      <td>Phyllis Harvey-Hall</td>\n",
       "      <td>(D)</td>\n",
       "      <td>Alabama</td>\n",
       "      <td>District 02</td>\n",
       "      <td>N/a</td>\n",
       "      <td>N/a</td>\n",
       "      <td>34.6</td>\n",
       "      <td>56050</td>\n",
       "      <td>55988</td>\n",
       "    </tr>\n",
       "    <tr>\n",
       "      <th>4</th>\n",
       "      <td>4</td>\n",
       "      <td>Mike D Rogers</td>\n",
       "      <td>(R)</td>\n",
       "      <td>Alabama</td>\n",
       "      <td>District 03</td>\n",
       "      <td>Incumbent</td>\n",
       "      <td>Winner</td>\n",
       "      <td>67.5</td>\n",
       "      <td>1193111</td>\n",
       "      <td>1218564</td>\n",
       "    </tr>\n",
       "  </tbody>\n",
       "</table>\n",
       "</div>"
      ],
      "text/plain": [
       "   Unnamed: 0                  Name Party    State District Number  \\\n",
       "0           0           Jerry Carl    (R)  Alabama     District 01   \n",
       "1           1       James Averhart    (D)  Alabama     District 01   \n",
       "2           2          Barry Moore    (R)  Alabama     District 02   \n",
       "3           3  Phyllis Harvey-Hall    (D)  Alabama     District 02   \n",
       "4           4        Mike D Rogers    (R)  Alabama     District 03   \n",
       "\n",
       "  Incumbent Status Winner Status  Percentage of Vote  Total Amount Raised  \\\n",
       "0              N/a        Winner                64.9              1971321   \n",
       "1              N/a           N/a                35.0                80095   \n",
       "2              N/a        Winner                65.3               650807   \n",
       "3              N/a           N/a                34.6                56050   \n",
       "4        Incumbent        Winner                67.5              1193111   \n",
       "\n",
       "   Total Amount Spent  \n",
       "0             1859349  \n",
       "1               78973  \n",
       "2              669368  \n",
       "3               55988  \n",
       "4             1218564  "
      ]
     },
     "execution_count": 3,
     "metadata": {},
     "output_type": "execute_result"
    }
   ],
   "source": [
    "candidates.head()"
   ]
  },
  {
   "cell_type": "code",
   "execution_count": null,
   "id": "61a4cd23",
   "metadata": {},
   "outputs": [],
   "source": []
  }
 ],
 "metadata": {
  "kernelspec": {
   "display_name": "Python 3 (ipykernel)",
   "language": "python",
   "name": "python3"
  },
  "language_info": {
   "codemirror_mode": {
    "name": "ipython",
    "version": 3
   },
   "file_extension": ".py",
   "mimetype": "text/x-python",
   "name": "python",
   "nbconvert_exporter": "python",
   "pygments_lexer": "ipython3",
   "version": "3.9.12"
  }
 },
 "nbformat": 4,
 "nbformat_minor": 5
}
