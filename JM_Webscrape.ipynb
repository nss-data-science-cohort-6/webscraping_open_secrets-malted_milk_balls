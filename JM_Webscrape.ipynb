{
 "cells": [
  {
   "cell_type": "code",
   "execution_count": 1,
   "metadata": {},
   "outputs": [],
   "source": [
    "import pandas as pd\n",
    "from bs4 import BeautifulSoup as BS\n",
    "import numpy as np \n",
    "import requests\n",
    "import re"
   ]
  },
  {
   "cell_type": "code",
   "execution_count": 2,
   "metadata": {},
   "outputs": [],
   "source": [
    "URL = 'https://www.opensecrets.org/races/candidates?cycle=2020&id=TN07&spec=N'\n",
    "response = requests.get(URL)"
   ]
  },
  {
   "cell_type": "markdown",
   "metadata": {},
   "source": [
    "Lets first find the names of the candidates"
   ]
  },
  {
   "cell_type": "code",
   "execution_count": 3,
   "metadata": {},
   "outputs": [],
   "source": [
    "soup = BS(response.text)"
   ]
  },
  {
   "cell_type": "markdown",
   "metadata": {},
   "source": [
    "Regex Functions for grabbing specific info from the candidates."
   ]
  },
  {
   "cell_type": "code",
   "execution_count": 23,
   "metadata": {},
   "outputs": [],
   "source": [
    "def name_extractor(candidate):\n",
    "    return re.findall(r'[A-Z]\\w+ [A-Z]\\w+',candidate)[0]\n",
    "\n",
    "def party_extractor(candidate):\n",
    "    return re.findall(r'\\(\\w\\)',candidate)[0]\n",
    "\n",
    "def incumbent_finder(candidate):\n",
    "    incumbent = re.findall(r'Incumbent',candidate)\n",
    "    if len(incumbent)>0:\n",
    "        return incumbent[0]\n",
    "    else: \n",
    "        return 'N/a'\n",
    "def winner_finder(candidate):\n",
    "    winner = re.findall(r'Winner',candidate)\n",
    "    if len(winner)>0:\n",
    "        return winner[0]\n",
    "    else:\n",
    "        return 'N/a'"
   ]
  },
  {
   "cell_type": "markdown",
   "metadata": {},
   "source": [
    "For loops to first extract the candidate headers from the page, and then extract their info into seperate lists from those headers. "
   ]
  },
  {
   "cell_type": "code",
   "execution_count": 24,
   "metadata": {},
   "outputs": [],
   "source": [
    "candidates = []\n",
    "for candidate in soup.findAll('div', class_ = \"Members--bio u-richtext\"):\n",
    "   candidates.append(candidate.text.strip()) \n",
    "\n",
    "names = []\n",
    "party_affiliation = []\n",
    "incumbent_status = []\n",
    "winner_status = []\n",
    "for i in candidates:\n",
    "   names.append(name_extractor(i))\n",
    "   party_affiliation.append(party_extractor(i))\n",
    "   incumbent_status.append(incumbent_finder(i))\n",
    "   winner_status.append(winner_finder(i))"
   ]
  }
 ],
 "metadata": {
  "kernelspec": {
   "display_name": "Python 3.9.12 ('base')",
   "language": "python",
   "name": "python3"
  },
  "language_info": {
   "codemirror_mode": {
    "name": "ipython",
    "version": 3
   },
   "file_extension": ".py",
   "mimetype": "text/x-python",
   "name": "python",
   "nbconvert_exporter": "python",
   "pygments_lexer": "ipython3",
   "version": "3.9.12"
  },
  "orig_nbformat": 4,
  "vscode": {
   "interpreter": {
    "hash": "08210294964727e4010dccc398c44f22b92a2e77e2aceea574ad21eae77cd8e8"
   }
  }
 },
 "nbformat": 4,
 "nbformat_minor": 2
}
