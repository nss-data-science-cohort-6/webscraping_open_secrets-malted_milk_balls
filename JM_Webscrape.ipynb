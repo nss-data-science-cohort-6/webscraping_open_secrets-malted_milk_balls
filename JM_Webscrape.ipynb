{
 "cells": [
  {
   "cell_type": "code",
   "execution_count": 1,
   "metadata": {},
   "outputs": [],
   "source": [
    "import pandas as pd\n",
    "from bs4 import BeautifulSoup as BS\n",
    "import numpy as np \n",
    "import requests\n",
    "import re"
   ]
  },
  {
   "cell_type": "code",
   "execution_count": 2,
   "metadata": {},
   "outputs": [],
   "source": [
    "URL = 'https://www.opensecrets.org/races/candidates?cycle=2020&id=TN07&spec=N'\n",
    "#URL = 'https://www.opensecrets.org/races/candidates?cycle=2020&id=TN02&spec=N'\n",
    "response = requests.get(URL)"
   ]
  },
  {
   "cell_type": "code",
   "execution_count": 3,
   "metadata": {},
   "outputs": [],
   "source": [
    "soup = BS(response.text)"
   ]
  },
  {
   "cell_type": "markdown",
   "metadata": {},
   "source": [
    "Regex Functions for grabbing specific info from the HTML file."
   ]
  },
  {
   "cell_type": "code",
   "execution_count": 4,
   "metadata": {},
   "outputs": [],
   "source": [
    "#These below functions sift through the candidate header for information\n",
    "def name_extractor(candidate):\n",
    "    return re.findall(r'[A-Z]\\w+ [A-Z]\\w+',candidate)[0]\n",
    "\n",
    "def party_extractor(candidate):\n",
    "    return re.findall(r'\\(\\w\\)',candidate)[0]\n",
    "\n",
    "def incumbent_finder(candidate):\n",
    "    incumbent = re.findall(r'Incumbent',candidate)\n",
    "    if len(incumbent)>0:\n",
    "        return incumbent[0]\n",
    "    else: \n",
    "        return 'N/a'\n",
    "\n",
    "def winner_finder(candidate):\n",
    "    winner = re.findall(r'Winner',candidate)\n",
    "    if len(winner)>0:\n",
    "        return winner[0]\n",
    "    else:\n",
    "        return 'N/a'\n",
    "\n",
    "def percentage_vote_finder(candidate):\n",
    "    return re.findall(r'(?<=\\()\\d+.\\d\\%',candidate)\n",
    "\n",
    "#This will be based on the website you are on, there are different websites for each State,District combo. That's why soup is input\n",
    "def state_and_district_finder(soup):\n",
    "    string = str(soup.findAll('h1'))\n",
    "    state = re.findall(r'(?<=>)[A-Z]\\w+', string)\n",
    "    district = re.findall(r'District \\d{2}', string)\n",
    "    return state, district; \n"
   ]
  },
  {
   "cell_type": "markdown",
   "metadata": {},
   "source": [
    "Lets extract the state and district number for the site. This will be the same for all candidates on a site."
   ]
  },
  {
   "cell_type": "code",
   "execution_count": 5,
   "metadata": {},
   "outputs": [],
   "source": [
    "state_and_district = state_and_district_finder(soup)"
   ]
  },
  {
   "cell_type": "markdown",
   "metadata": {},
   "source": [
    "For loops to first extract the candidate headers from the page, and then extract their info into seperate lists from those headers. Then take the money information from the tables for each candidate and put into an array where rows = candidate and col = money category(Raised, Spent, Cash on Hand)"
   ]
  },
  {
   "cell_type": "code",
   "execution_count": 6,
   "metadata": {},
   "outputs": [],
   "source": [
    "candidates = []\n",
    "for candidate in soup.findAll('div', class_ = \"Members--bio u-richtext\"):\n",
    "   candidates.append(candidate.text.strip()) \n",
    "\n",
    "money = []\n",
    "for tag in soup.findAll('table', class_ = 'Members--table'):\n",
    "   for anchor in tag.findAll('td', class_ = 'Members--number'):\n",
    "      money.append(int(anchor.text.replace('$','').replace(',','')))\n",
    "money_table = np.reshape(money, (len(candidates),3))\n",
    "\n",
    "names = []\n",
    "party_affiliation = []\n",
    "incumbent_status = []\n",
    "winner_status = []\n",
    "percentage_vote = []\n",
    "for i in candidates:\n",
    "   names.append(name_extractor(i))\n",
    "   party_affiliation.append(party_extractor(i))\n",
    "   incumbent_status.append(incumbent_finder(i))\n",
    "   winner_status.append(winner_finder(i))\n",
    "   percentage_vote.append(percentage_vote_finder(i))"
   ]
  },
  {
   "cell_type": "code",
   "execution_count": 7,
   "metadata": {},
   "outputs": [
    {
     "data": {
      "text/plain": [
       "numpy.int32"
      ]
     },
     "execution_count": 7,
     "metadata": {},
     "output_type": "execute_result"
    }
   ],
   "source": [
    "type(list(money_table[:,0])[0])"
   ]
  },
  {
   "cell_type": "markdown",
   "metadata": {},
   "source": [
    "Now lets merge all the Data together into 1 DF"
   ]
  },
  {
   "cell_type": "code",
   "execution_count": 8,
   "metadata": {},
   "outputs": [],
   "source": [
    "data_dictionary = {'Name':names,\n",
    "                    'Party':party_affiliation,\n",
    "                    'State':state_and_district[0]*len(candidates),\n",
    "                    'District Number':state_and_district[1]*len(candidates),\n",
    "                    'Incumbent Status':incumbent_status,\n",
    "                    'Winner Status':winner_status,\n",
    "                    'Percentage of Vote':percentage_vote,\n",
    "                    'Total Amount Raised':list(money_table[:,0]),\n",
    "                    'Total Amount Spent':list(money_table[:,1])\n",
    "                    }\n",
    "congressional_races_TN_07_2020 = pd.DataFrame(data_dictionary)"
   ]
  },
  {
   "cell_type": "code",
   "execution_count": 9,
   "metadata": {},
   "outputs": [
    {
     "data": {
      "text/plain": [
       "Name                   object\n",
       "Party                  object\n",
       "State                  object\n",
       "District Number        object\n",
       "Incumbent Status       object\n",
       "Winner Status          object\n",
       "Percentage of Vote     object\n",
       "Total Amount Raised     int32\n",
       "Total Amount Spent      int32\n",
       "dtype: object"
      ]
     },
     "execution_count": 9,
     "metadata": {},
     "output_type": "execute_result"
    }
   ],
   "source": [
    "congressional_races_TN_07_2020.dtypes"
   ]
  }
 ],
 "metadata": {
  "kernelspec": {
   "display_name": "Python 3.9.12 ('base')",
   "language": "python",
   "name": "python3"
  },
  "language_info": {
   "codemirror_mode": {
    "name": "ipython",
    "version": 3
   },
   "file_extension": ".py",
   "mimetype": "text/x-python",
   "name": "python",
   "nbconvert_exporter": "python",
   "pygments_lexer": "ipython3",
   "version": "3.9.12"
  },
  "orig_nbformat": 4,
  "vscode": {
   "interpreter": {
    "hash": "08210294964727e4010dccc398c44f22b92a2e77e2aceea574ad21eae77cd8e8"
   }
  }
 },
 "nbformat": 4,
 "nbformat_minor": 2
}
